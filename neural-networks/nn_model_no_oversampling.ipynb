{
 "cells": [
  {
   "cell_type": "markdown",
   "id": "b14c40b0",
   "metadata": {
    "papermill": {
     "duration": 0.013357,
     "end_time": "2024-01-09T21:10:08.285461",
     "exception": false,
     "start_time": "2024-01-09T21:10:08.272104",
     "status": "completed"
    },
    "tags": []
   },
   "source": [
    "# INM701: Neural Networks (Part 1, Original Data)\n",
    "\n",
    "We look at using TensorFlow/Keras to create a neural network that can accurately predict protein secondary structures.\n",
    "\n",
    "This notebook is specifically for the original data without any oversampling.\n",
    "\n",
    "The work presented here is part of the coursework of the INM701 module at City, University of London. The Github repository can be found [here](https://github.com/yasirbarlas/City-INM701)."
   ]
  },
  {
   "cell_type": "markdown",
   "id": "8fdf1d45",
   "metadata": {
    "papermill": {
     "duration": 0.012577,
     "end_time": "2024-01-09T21:10:08.311163",
     "exception": false,
     "start_time": "2024-01-09T21:10:08.298586",
     "status": "completed"
    },
    "tags": []
   },
   "source": [
    "### Import Libraries"
   ]
  },
  {
   "cell_type": "code",
   "execution_count": 1,
   "id": "b895b918",
   "metadata": {
    "execution": {
     "iopub.execute_input": "2024-01-09T21:10:08.337825Z",
     "iopub.status.busy": "2024-01-09T21:10:08.337458Z",
     "iopub.status.idle": "2024-01-09T21:10:20.414834Z",
     "shell.execute_reply": "2024-01-09T21:10:20.413975Z"
    },
    "papermill": {
     "duration": 12.093582,
     "end_time": "2024-01-09T21:10:20.417269",
     "exception": false,
     "start_time": "2024-01-09T21:10:08.323687",
     "status": "completed"
    },
    "tags": []
   },
   "outputs": [
    {
     "name": "stderr",
     "output_type": "stream",
     "text": [
      "/opt/conda/lib/python3.10/site-packages/scipy/__init__.py:146: UserWarning: A NumPy version >=1.16.5 and <1.23.0 is required for this version of SciPy (detected version 1.24.3\n",
      "  warnings.warn(f\"A NumPy version >={np_minversion} and <{np_maxversion}\"\n"
     ]
    }
   ],
   "source": [
    "# Import Relevant Libraries\n",
    "import os\n",
    "import numpy as np\n",
    "import pandas as pd\n",
    "import random\n",
    "import matplotlib.pyplot as plt\n",
    "import tensorflow as tf\n",
    "\n",
    "# Ignore warnings (making the work easier to read)\n",
    "import warnings\n",
    "warnings.filterwarnings(\"ignore\")"
   ]
  },
  {
   "cell_type": "markdown",
   "id": "38b17e8f",
   "metadata": {
    "papermill": {
     "duration": 0.013027,
     "end_time": "2024-01-09T21:10:20.443984",
     "exception": false,
     "start_time": "2024-01-09T21:10:20.430957",
     "status": "completed"
    },
    "tags": []
   },
   "source": [
    "### Import Dataset\n",
    "\n",
    "Refer to the 'eda-data-processing.ipynb' workbook for more detail on how this dataset was created."
   ]
  },
  {
   "cell_type": "code",
   "execution_count": 2,
   "id": "b65c3205",
   "metadata": {
    "execution": {
     "iopub.execute_input": "2024-01-09T21:10:20.472794Z",
     "iopub.status.busy": "2024-01-09T21:10:20.471841Z",
     "iopub.status.idle": "2024-01-09T21:10:20.591403Z",
     "shell.execute_reply": "2024-01-09T21:10:20.590450Z"
    },
    "papermill": {
     "duration": 0.136454,
     "end_time": "2024-01-09T21:10:20.593535",
     "exception": false,
     "start_time": "2024-01-09T21:10:20.457081",
     "status": "completed"
    },
    "tags": []
   },
   "outputs": [
    {
     "data": {
      "text/html": [
       "<div>\n",
       "<style scoped>\n",
       "    .dataframe tbody tr th:only-of-type {\n",
       "        vertical-align: middle;\n",
       "    }\n",
       "\n",
       "    .dataframe tbody tr th {\n",
       "        vertical-align: top;\n",
       "    }\n",
       "\n",
       "    .dataframe thead th {\n",
       "        text-align: right;\n",
       "    }\n",
       "</style>\n",
       "<table border=\"1\" class=\"dataframe\">\n",
       "  <thead>\n",
       "    <tr style=\"text-align: right;\">\n",
       "      <th></th>\n",
       "      <th>pdb_id</th>\n",
       "      <th>chain_code</th>\n",
       "      <th>seq</th>\n",
       "      <th>sst8</th>\n",
       "      <th>sst3</th>\n",
       "      <th>len</th>\n",
       "    </tr>\n",
       "  </thead>\n",
       "  <tbody>\n",
       "    <tr>\n",
       "      <th>0</th>\n",
       "      <td>1BXL</td>\n",
       "      <td>B</td>\n",
       "      <td>GQVGRQLAIIGDDINR</td>\n",
       "      <td>CCTTHHHHHHHHHTCC</td>\n",
       "      <td>CCCCHHHHHHHHHCCC</td>\n",
       "      <td>16</td>\n",
       "    </tr>\n",
       "    <tr>\n",
       "      <th>1</th>\n",
       "      <td>1D9K</td>\n",
       "      <td>P</td>\n",
       "      <td>GNSHRGAIEWEGIESG</td>\n",
       "      <td>CCEECCCCCCCCCCCC</td>\n",
       "      <td>CCEECCCCCCCCCCCC</td>\n",
       "      <td>16</td>\n",
       "    </tr>\n",
       "    <tr>\n",
       "      <th>2</th>\n",
       "      <td>1DPU</td>\n",
       "      <td>B</td>\n",
       "      <td>RIQRNKAAALLRLAAR</td>\n",
       "      <td>CCSSHHHHHHHHHHCC</td>\n",
       "      <td>CCCCHHHHHHHHHHCC</td>\n",
       "      <td>16</td>\n",
       "    </tr>\n",
       "    <tr>\n",
       "      <th>3</th>\n",
       "      <td>1DXP</td>\n",
       "      <td>C</td>\n",
       "      <td>KGSVVIVGRIILSGRK</td>\n",
       "      <td>CCCBEEEEEEEECCCC</td>\n",
       "      <td>CCCEEEEEEEEECCCC</td>\n",
       "      <td>16</td>\n",
       "    </tr>\n",
       "    <tr>\n",
       "      <th>4</th>\n",
       "      <td>1EJH</td>\n",
       "      <td>E</td>\n",
       "      <td>KQYDREFLLDFQFMPA</td>\n",
       "      <td>CCCCHHHHHTTSCCCC</td>\n",
       "      <td>CCCCHHHHHCCCCCCC</td>\n",
       "      <td>16</td>\n",
       "    </tr>\n",
       "    <tr>\n",
       "      <th>...</th>\n",
       "      <td>...</td>\n",
       "      <td>...</td>\n",
       "      <td>...</td>\n",
       "      <td>...</td>\n",
       "      <td>...</td>\n",
       "      <td>...</td>\n",
       "    </tr>\n",
       "    <tr>\n",
       "      <th>15267</th>\n",
       "      <td>6UUJ</td>\n",
       "      <td>A</td>\n",
       "      <td>GAMVPEGLAAASAAVEALTARLAAAHASAAPVITAVVPPAADPVSL...</td>\n",
       "      <td>CCCCCSTTHHHHHHHHHHHHHHHHHHHHSHHHHHSCCCSSSSHHHH...</td>\n",
       "      <td>CCCCCCCCHHHHHHHHHHHHHHHHHHHHCHHHHHCCCCCCCCHHHH...</td>\n",
       "      <td>100</td>\n",
       "    </tr>\n",
       "    <tr>\n",
       "      <th>15268</th>\n",
       "      <td>6V7M</td>\n",
       "      <td>A</td>\n",
       "      <td>MKVLWAALLVTFLAGCQAKVEQAVETEPEPELRQQTEWQSGQRWEL...</td>\n",
       "      <td>CCCCCCCCCCCCCCCCCCCCCCCCCCCCCCCCCCCCCCCCCCHHHH...</td>\n",
       "      <td>CCCCCCCCCCCCCCCCCCCCCCCCCCCCCCCCCCCCCCCCCCHHHH...</td>\n",
       "      <td>100</td>\n",
       "    </tr>\n",
       "    <tr>\n",
       "      <th>15269</th>\n",
       "      <td>6VQX</td>\n",
       "      <td>A</td>\n",
       "      <td>MKVPAFFAANILTIEQIIEAINNDGSAMTSAPEIAGYYAWDAATDA...</td>\n",
       "      <td>CCCCSSTTSSCCCHHHHHHHHHTTSCTTSCHHHHHHHHHHHHHHHS...</td>\n",
       "      <td>CCCCCCCCCCCCCHHHHHHHHHCCCCCCCCHHHHHHHHHHHHHHHC...</td>\n",
       "      <td>100</td>\n",
       "    </tr>\n",
       "    <tr>\n",
       "      <th>15270</th>\n",
       "      <td>6XVF</td>\n",
       "      <td>F</td>\n",
       "      <td>RWLEGIRKWYYNAAGFNKLGLMRDDTIHENDDVKEAIRRLPENLYN...</td>\n",
       "      <td>CCTHHHHHHHHHHHCGGGGTCCGGGSBCCCHHHHHHHHTSCHHHHH...</td>\n",
       "      <td>CCCHHHHHHHHHHHCHHHHCCCHHHCECCCHHHHHHHHCCCHHHHH...</td>\n",
       "      <td>100</td>\n",
       "    </tr>\n",
       "    <tr>\n",
       "      <th>15271</th>\n",
       "      <td>6YIE</td>\n",
       "      <td>B</td>\n",
       "      <td>VAKTNSLRRRKLASFLKDFDREVEIRIKQIESDRQNLLKEVDNLYN...</td>\n",
       "      <td>CCCCCCHHHHHHHHHHHHHHHHHHHHHHHHHHHHHHHHHHHHHHHH...</td>\n",
       "      <td>CCCCCCHHHHHHHHHHHHHHHHHHHHHHHHHHHHHHHHHHHHHHHH...</td>\n",
       "      <td>100</td>\n",
       "    </tr>\n",
       "  </tbody>\n",
       "</table>\n",
       "<p>15272 rows × 6 columns</p>\n",
       "</div>"
      ],
      "text/plain": [
       "      pdb_id chain_code                                                seq  \\\n",
       "0       1BXL          B                                   GQVGRQLAIIGDDINR   \n",
       "1       1D9K          P                                   GNSHRGAIEWEGIESG   \n",
       "2       1DPU          B                                   RIQRNKAAALLRLAAR   \n",
       "3       1DXP          C                                   KGSVVIVGRIILSGRK   \n",
       "4       1EJH          E                                   KQYDREFLLDFQFMPA   \n",
       "...      ...        ...                                                ...   \n",
       "15267   6UUJ          A  GAMVPEGLAAASAAVEALTARLAAAHASAAPVITAVVPPAADPVSL...   \n",
       "15268   6V7M          A  MKVLWAALLVTFLAGCQAKVEQAVETEPEPELRQQTEWQSGQRWEL...   \n",
       "15269   6VQX          A  MKVPAFFAANILTIEQIIEAINNDGSAMTSAPEIAGYYAWDAATDA...   \n",
       "15270   6XVF          F  RWLEGIRKWYYNAAGFNKLGLMRDDTIHENDDVKEAIRRLPENLYN...   \n",
       "15271   6YIE          B  VAKTNSLRRRKLASFLKDFDREVEIRIKQIESDRQNLLKEVDNLYN...   \n",
       "\n",
       "                                                    sst8  \\\n",
       "0                                       CCTTHHHHHHHHHTCC   \n",
       "1                                       CCEECCCCCCCCCCCC   \n",
       "2                                       CCSSHHHHHHHHHHCC   \n",
       "3                                       CCCBEEEEEEEECCCC   \n",
       "4                                       CCCCHHHHHTTSCCCC   \n",
       "...                                                  ...   \n",
       "15267  CCCCCSTTHHHHHHHHHHHHHHHHHHHHSHHHHHSCCCSSSSHHHH...   \n",
       "15268  CCCCCCCCCCCCCCCCCCCCCCCCCCCCCCCCCCCCCCCCCCHHHH...   \n",
       "15269  CCCCSSTTSSCCCHHHHHHHHHTTSCTTSCHHHHHHHHHHHHHHHS...   \n",
       "15270  CCTHHHHHHHHHHHCGGGGTCCGGGSBCCCHHHHHHHHTSCHHHHH...   \n",
       "15271  CCCCCCHHHHHHHHHHHHHHHHHHHHHHHHHHHHHHHHHHHHHHHH...   \n",
       "\n",
       "                                                    sst3  len  \n",
       "0                                       CCCCHHHHHHHHHCCC   16  \n",
       "1                                       CCEECCCCCCCCCCCC   16  \n",
       "2                                       CCCCHHHHHHHHHHCC   16  \n",
       "3                                       CCCEEEEEEEEECCCC   16  \n",
       "4                                       CCCCHHHHHCCCCCCC   16  \n",
       "...                                                  ...  ...  \n",
       "15267  CCCCCCCCHHHHHHHHHHHHHHHHHHHHCHHHHHCCCCCCCCHHHH...  100  \n",
       "15268  CCCCCCCCCCCCCCCCCCCCCCCCCCCCCCCCCCCCCCCCCCHHHH...  100  \n",
       "15269  CCCCCCCCCCCCCHHHHHHHHHCCCCCCCCHHHHHHHHHHHHHHHC...  100  \n",
       "15270  CCCHHHHHHHHHHHCHHHHCCCHHHCECCCHHHHHHHHCCCHHHHH...  100  \n",
       "15271  CCCCCCHHHHHHHHHHHHHHHHHHHHHHHHHHHHHHHHHHHHHHHH...  100  \n",
       "\n",
       "[15272 rows x 6 columns]"
      ]
     },
     "execution_count": 2,
     "metadata": {},
     "output_type": "execute_result"
    }
   ],
   "source": [
    "# Create a variable for the path to the directory containing the dataset (and where to work)\n",
    "path = \"/kaggle/input/protein-sequences-16-100\"\n",
    "\n",
    "# Create a variable containing the full path of the dataset\n",
    "dataset = os.path.join(path, \"prot-seq-filtered.csv\")\n",
    "\n",
    "# Create a Pandas DataFrame of the dataset (which is a .csv file)\n",
    "df = pd.read_csv(dataset, delimiter = \",\")\n",
    "\n",
    "df"
   ]
  },
  {
   "cell_type": "markdown",
   "id": "c9e93e63",
   "metadata": {
    "papermill": {
     "duration": 0.013059,
     "end_time": "2024-01-09T21:10:20.620016",
     "exception": false,
     "start_time": "2024-01-09T21:10:20.606957",
     "status": "completed"
    },
    "tags": []
   },
   "source": [
    "### Set Random Seed and $k$-mer Size\n",
    "\n",
    "We choose a seed for reproducibility and a sensible $k$-mer size."
   ]
  },
  {
   "cell_type": "code",
   "execution_count": 3,
   "id": "0e9be591",
   "metadata": {
    "execution": {
     "iopub.execute_input": "2024-01-09T21:10:20.647769Z",
     "iopub.status.busy": "2024-01-09T21:10:20.647387Z",
     "iopub.status.idle": "2024-01-09T21:10:20.652583Z",
     "shell.execute_reply": "2024-01-09T21:10:20.651757Z"
    },
    "papermill": {
     "duration": 0.021335,
     "end_time": "2024-01-09T21:10:20.654448",
     "exception": false,
     "start_time": "2024-01-09T21:10:20.633113",
     "status": "completed"
    },
    "tags": []
   },
   "outputs": [],
   "source": [
    "# k-mer size and seed choice\n",
    "\n",
    "kmer_size = 3\n",
    "randomer = 50\n",
    "\n",
    "# Random Seed\n",
    "random.seed(randomer)\n",
    "np.random.seed(randomer)\n",
    "tf.random.set_seed(randomer)\n",
    "tf.config.experimental.enable_op_determinism()"
   ]
  },
  {
   "cell_type": "markdown",
   "id": "60826508",
   "metadata": {
    "papermill": {
     "duration": 0.012953,
     "end_time": "2024-01-09T21:10:20.680464",
     "exception": false,
     "start_time": "2024-01-09T21:10:20.667511",
     "status": "completed"
    },
    "tags": []
   },
   "source": [
    "### Generate $k$-mers\n",
    "We convert our protein sequences in to $k$-mers, making the problem less computationally expensive. The choice of $k$ affects the performance of the model, with higher $k$ likely leading to less accurate models. This accuracy can vary based on much larger datasets, and with longer protein sequences.\n",
    "\n",
    "For example, the 3-mers for \"GQVGRQ\" are:\n",
    "\n",
    "GQV, QVG, VGR, GRQ"
   ]
  },
  {
   "cell_type": "code",
   "execution_count": 4,
   "id": "d4ec6f49",
   "metadata": {
    "execution": {
     "iopub.execute_input": "2024-01-09T21:10:20.707945Z",
     "iopub.status.busy": "2024-01-09T21:10:20.707681Z",
     "iopub.status.idle": "2024-01-09T21:10:20.957428Z",
     "shell.execute_reply": "2024-01-09T21:10:20.956396Z"
    },
    "papermill": {
     "duration": 0.265709,
     "end_time": "2024-01-09T21:10:20.959500",
     "exception": false,
     "start_time": "2024-01-09T21:10:20.693791",
     "status": "completed"
    },
    "tags": []
   },
   "outputs": [
    {
     "name": "stdout",
     "output_type": "stream",
     "text": [
      "Maximum Protein Length: 100\n"
     ]
    },
    {
     "data": {
      "text/html": [
       "<div>\n",
       "<style scoped>\n",
       "    .dataframe tbody tr th:only-of-type {\n",
       "        vertical-align: middle;\n",
       "    }\n",
       "\n",
       "    .dataframe tbody tr th {\n",
       "        vertical-align: top;\n",
       "    }\n",
       "\n",
       "    .dataframe thead th {\n",
       "        text-align: right;\n",
       "    }\n",
       "</style>\n",
       "<table border=\"1\" class=\"dataframe\">\n",
       "  <thead>\n",
       "    <tr style=\"text-align: right;\">\n",
       "      <th></th>\n",
       "      <th>pdb_id</th>\n",
       "      <th>chain_code</th>\n",
       "      <th>seq</th>\n",
       "      <th>sst8</th>\n",
       "      <th>sst3</th>\n",
       "      <th>len</th>\n",
       "      <th>kmers</th>\n",
       "    </tr>\n",
       "  </thead>\n",
       "  <tbody>\n",
       "    <tr>\n",
       "      <th>0</th>\n",
       "      <td>1BXL</td>\n",
       "      <td>B</td>\n",
       "      <td>GQVGRQLAIIGDDINR</td>\n",
       "      <td>CCTTHHHHHHHHHTCC</td>\n",
       "      <td>CCCCHHHHHHHHHCCC</td>\n",
       "      <td>16</td>\n",
       "      <td>[GQV, QVG, VGR, GRQ, RQL, QLA, LAI, AII, IIG, ...</td>\n",
       "    </tr>\n",
       "    <tr>\n",
       "      <th>1</th>\n",
       "      <td>1D9K</td>\n",
       "      <td>P</td>\n",
       "      <td>GNSHRGAIEWEGIESG</td>\n",
       "      <td>CCEECCCCCCCCCCCC</td>\n",
       "      <td>CCEECCCCCCCCCCCC</td>\n",
       "      <td>16</td>\n",
       "      <td>[GNS, NSH, SHR, HRG, RGA, GAI, AIE, IEW, EWE, ...</td>\n",
       "    </tr>\n",
       "    <tr>\n",
       "      <th>2</th>\n",
       "      <td>1DPU</td>\n",
       "      <td>B</td>\n",
       "      <td>RIQRNKAAALLRLAAR</td>\n",
       "      <td>CCSSHHHHHHHHHHCC</td>\n",
       "      <td>CCCCHHHHHHHHHHCC</td>\n",
       "      <td>16</td>\n",
       "      <td>[RIQ, IQR, QRN, RNK, NKA, KAA, AAA, AAL, ALL, ...</td>\n",
       "    </tr>\n",
       "    <tr>\n",
       "      <th>3</th>\n",
       "      <td>1DXP</td>\n",
       "      <td>C</td>\n",
       "      <td>KGSVVIVGRIILSGRK</td>\n",
       "      <td>CCCBEEEEEEEECCCC</td>\n",
       "      <td>CCCEEEEEEEEECCCC</td>\n",
       "      <td>16</td>\n",
       "      <td>[KGS, GSV, SVV, VVI, VIV, IVG, VGR, GRI, RII, ...</td>\n",
       "    </tr>\n",
       "    <tr>\n",
       "      <th>4</th>\n",
       "      <td>1EJH</td>\n",
       "      <td>E</td>\n",
       "      <td>KQYDREFLLDFQFMPA</td>\n",
       "      <td>CCCCHHHHHTTSCCCC</td>\n",
       "      <td>CCCCHHHHHCCCCCCC</td>\n",
       "      <td>16</td>\n",
       "      <td>[KQY, QYD, YDR, DRE, REF, EFL, FLL, LLD, LDF, ...</td>\n",
       "    </tr>\n",
       "  </tbody>\n",
       "</table>\n",
       "</div>"
      ],
      "text/plain": [
       "  pdb_id chain_code               seq              sst8              sst3  \\\n",
       "0   1BXL          B  GQVGRQLAIIGDDINR  CCTTHHHHHHHHHTCC  CCCCHHHHHHHHHCCC   \n",
       "1   1D9K          P  GNSHRGAIEWEGIESG  CCEECCCCCCCCCCCC  CCEECCCCCCCCCCCC   \n",
       "2   1DPU          B  RIQRNKAAALLRLAAR  CCSSHHHHHHHHHHCC  CCCCHHHHHHHHHHCC   \n",
       "3   1DXP          C  KGSVVIVGRIILSGRK  CCCBEEEEEEEECCCC  CCCEEEEEEEEECCCC   \n",
       "4   1EJH          E  KQYDREFLLDFQFMPA  CCCCHHHHHTTSCCCC  CCCCHHHHHCCCCCCC   \n",
       "\n",
       "   len                                              kmers  \n",
       "0   16  [GQV, QVG, VGR, GRQ, RQL, QLA, LAI, AII, IIG, ...  \n",
       "1   16  [GNS, NSH, SHR, HRG, RGA, GAI, AIE, IEW, EWE, ...  \n",
       "2   16  [RIQ, IQR, QRN, RNK, NKA, KAA, AAA, AAL, ALL, ...  \n",
       "3   16  [KGS, GSV, SVV, VVI, VIV, IVG, VGR, GRI, RII, ...  \n",
       "4   16  [KQY, QYD, YDR, DRE, REF, EFL, FLL, LLD, LDF, ...  "
      ]
     },
     "execution_count": 4,
     "metadata": {},
     "output_type": "execute_result"
    }
   ],
   "source": [
    "# Define k-mer function (n-gram)\n",
    "def kmers(seq, k = kmer_size):\n",
    "    return ([seq[i:i + k] for i in range(len(seq) - k + 1)])\n",
    "\n",
    "# Apply the k-mer function to the amino acid sequences\n",
    "df[\"kmers\"] = df[\"seq\"].apply(kmers)\n",
    "\n",
    "# Find the maximum length of the sequences (we know from previously processing our dataset that it is 100)\n",
    "maxlen = max(df[\"len\"])\n",
    "print(\"Maximum Protein Length:\", maxlen)\n",
    "\n",
    "df.head()"
   ]
  },
  {
   "cell_type": "markdown",
   "id": "f2af629a",
   "metadata": {
    "papermill": {
     "duration": 0.013752,
     "end_time": "2024-01-09T21:10:20.987438",
     "exception": false,
     "start_time": "2024-01-09T21:10:20.973686",
     "status": "completed"
    },
    "tags": []
   },
   "source": [
    "### Pre-processing and Padding\n",
    "\n",
    "We use the Tokenizer class to transform our protein sequences and secondary structures into sequences of integers, where each integer is an index of a token in a dictionary. A dictionary is made for our 3-mers, and another dictionary is made for our secondary structures. Padding is performed to make the length of each sequence equal."
   ]
  },
  {
   "cell_type": "code",
   "execution_count": 5,
   "id": "619ae3e8",
   "metadata": {
    "execution": {
     "iopub.execute_input": "2024-01-09T21:10:21.017383Z",
     "iopub.status.busy": "2024-01-09T21:10:21.016197Z",
     "iopub.status.idle": "2024-01-09T21:10:23.108837Z",
     "shell.execute_reply": "2024-01-09T21:10:23.107908Z"
    },
    "papermill": {
     "duration": 2.109701,
     "end_time": "2024-01-09T21:10:23.110934",
     "exception": false,
     "start_time": "2024-01-09T21:10:21.001233",
     "status": "completed"
    },
    "tags": []
   },
   "outputs": [
    {
     "name": "stdout",
     "output_type": "stream",
     "text": [
      "CPU times: user 2 s, sys: 39.1 ms, total: 2.04 s\n",
      "Wall time: 2.08 s\n"
     ]
    },
    {
     "data": {
      "text/plain": [
       "((15272, 100), (15272, 100))"
      ]
     },
     "execution_count": 5,
     "metadata": {},
     "output_type": "execute_result"
    }
   ],
   "source": [
    "%%time\n",
    "\n",
    "# We will use functions from Keras to pre-process our data to be used in the model\n",
    "from tensorflow.keras.preprocessing import sequence\n",
    "from tensorflow.keras.preprocessing.text import Tokenizer\n",
    "\n",
    "# Create Tokenizer class for protein sequences, without making them lowercase\n",
    "tok_x = Tokenizer(lower = False)\n",
    "# Fit Tokenizer on protein sequences (k-mers)\n",
    "tok_x.fit_on_texts(df[\"kmers\"].values)\n",
    "# Convert protein sequences into sequence of integers and pad where necessary\n",
    "X = tok_x.texts_to_sequences(df[\"kmers\"].values)\n",
    "X = sequence.pad_sequences(X, maxlen = maxlen, padding = \"post\")\n",
    "\n",
    "# Create Tokenizer class for secondary sequences, and treat every character (element) as a token\n",
    "tok_y = Tokenizer(char_level = True)\n",
    "# Fit Tokenizer on secondary structures\n",
    "tok_y.fit_on_texts(df[\"sst3\"].values)\n",
    "# Convert secondary structures into sequence of integers and pad where necessary\n",
    "y = tok_y.texts_to_sequences(df[\"sst3\"].values)\n",
    "y = sequence.pad_sequences(y, maxlen = maxlen, padding = \"post\")\n",
    "\n",
    "X.shape, y.shape"
   ]
  },
  {
   "cell_type": "markdown",
   "id": "d3e40b1f",
   "metadata": {
    "papermill": {
     "duration": 0.01411,
     "end_time": "2024-01-09T21:10:23.189897",
     "exception": false,
     "start_time": "2024-01-09T21:10:23.175787",
     "status": "completed"
    },
    "tags": []
   },
   "source": [
    "### Training, Validation and Test Split\n",
    "\n",
    "We split our dataset into training, validation and test sets, where the training set is used to train the model. The validation set is used to choose a sensible model after it has been trained. The test set is used to test the performance of our final candidate model."
   ]
  },
  {
   "cell_type": "code",
   "execution_count": 6,
   "id": "0f56dfdb",
   "metadata": {
    "execution": {
     "iopub.execute_input": "2024-01-09T21:10:23.219821Z",
     "iopub.status.busy": "2024-01-09T21:10:23.219163Z",
     "iopub.status.idle": "2024-01-09T21:10:23.895567Z",
     "shell.execute_reply": "2024-01-09T21:10:23.894468Z"
    },
    "papermill": {
     "duration": 0.693602,
     "end_time": "2024-01-09T21:10:23.897629",
     "exception": false,
     "start_time": "2024-01-09T21:10:23.204027",
     "status": "completed"
    },
    "tags": []
   },
   "outputs": [
    {
     "data": {
      "text/plain": [
       "((11454, 100),\n",
       " (11454, 100),\n",
       " (1272, 100),\n",
       " (1272, 100),\n",
       " (2546, 100),\n",
       " (2546, 100))"
      ]
     },
     "execution_count": 6,
     "metadata": {},
     "output_type": "execute_result"
    }
   ],
   "source": [
    "from sklearn.model_selection import train_test_split\n",
    "\n",
    "# Split the data into training, validation and test sets\n",
    "X_train, X_temp, y_train, y_temp = train_test_split(X, y, train_size = 3/4, test_size = 1/4, random_state = randomer)\n",
    "\n",
    "X_val, X_test, y_val, y_test = train_test_split(X_temp, y_temp, train_size = 1/3, test_size = 2/3, random_state = randomer)\n",
    "\n",
    "X_train.shape, y_train.shape, X_val.shape, y_val.shape, X_test.shape, y_test.shape"
   ]
  },
  {
   "cell_type": "code",
   "execution_count": 7,
   "id": "06385a1e",
   "metadata": {
    "execution": {
     "iopub.execute_input": "2024-01-09T21:10:23.926982Z",
     "iopub.status.busy": "2024-01-09T21:10:23.926688Z",
     "iopub.status.idle": "2024-01-09T21:10:23.933762Z",
     "shell.execute_reply": "2024-01-09T21:10:23.932860Z"
    },
    "papermill": {
     "duration": 0.024057,
     "end_time": "2024-01-09T21:10:23.935825",
     "exception": false,
     "start_time": "2024-01-09T21:10:23.911768",
     "status": "completed"
    },
    "tags": []
   },
   "outputs": [
    {
     "data": {
      "text/plain": [
       "(array([3272, 2093, 4483,  695,  203, 1554, 2110, 1956, 2856, 3513, 2841,\n",
       "        2369, 1917, 3529, 1159,  110, 1527,  943, 3428, 4868, 4080, 6729,\n",
       "        6249, 6991, 5684, 3603, 2648, 2493, 1682,  621, 1677, 1171, 2116,\n",
       "         692, 1320, 3613, 4117, 4087, 1683, 4427, 2159, 2269, 3387, 2341,\n",
       "        1270,  121,  365,  161, 2364, 2950, 4291, 5756, 4993, 4479, 3168,\n",
       "        3306, 4084, 5154,    0,    0,    0,    0,    0,    0,    0,    0,\n",
       "           0,    0,    0,    0,    0,    0,    0,    0,    0,    0,    0,\n",
       "           0,    0,    0,    0,    0,    0,    0,    0,    0,    0,    0,\n",
       "           0,    0,    0,    0,    0,    0,    0,    0,    0,    0,    0,\n",
       "           0], dtype=int32),\n",
       " array([1, 3, 3, 3, 1, 1, 1, 1, 1, 1, 3, 3, 3, 1, 1, 1, 1, 1, 1, 3, 3, 3,\n",
       "        3, 3, 3, 3, 1, 1, 3, 3, 3, 3, 3, 3, 3, 3, 3, 3, 3, 1, 1, 1, 1, 1,\n",
       "        1, 1, 1, 1, 3, 3, 3, 3, 3, 3, 1, 1, 1, 1, 1, 1, 0, 0, 0, 0, 0, 0,\n",
       "        0, 0, 0, 0, 0, 0, 0, 0, 0, 0, 0, 0, 0, 0, 0, 0, 0, 0, 0, 0, 0, 0,\n",
       "        0, 0, 0, 0, 0, 0, 0, 0, 0, 0, 0, 0], dtype=int32))"
      ]
     },
     "execution_count": 7,
     "metadata": {},
     "output_type": "execute_result"
    }
   ],
   "source": [
    "X_train[0], y_train[0]"
   ]
  },
  {
   "cell_type": "code",
   "execution_count": 8,
   "id": "0a3218f3",
   "metadata": {
    "execution": {
     "iopub.execute_input": "2024-01-09T21:10:23.966846Z",
     "iopub.status.busy": "2024-01-09T21:10:23.966532Z",
     "iopub.status.idle": "2024-01-09T21:10:26.963328Z",
     "shell.execute_reply": "2024-01-09T21:10:26.961867Z"
    },
    "papermill": {
     "duration": 3.014001,
     "end_time": "2024-01-09T21:10:26.965478",
     "exception": false,
     "start_time": "2024-01-09T21:10:23.951477",
     "status": "completed"
    },
    "tags": []
   },
   "outputs": [
    {
     "name": "stdout",
     "output_type": "stream",
     "text": [
      "Without Oversampling:\n",
      "Number in Class 0 : 408388 , 35.65461847389558 %\n",
      "Number in Class 1 : 366060 , 31.959140911471973 %\n",
      "Number in Class 2 : 239124 , 20.876898899947616 %\n",
      "Number in Class 3 : 131828 , 11.509341714684826 %\n"
     ]
    }
   ],
   "source": [
    "from sklearn.metrics import classification_report\n",
    "\n",
    "# Simple way to find out how many instances there are of each class\n",
    "report1 = classification_report(y_train.flatten(), y_train.flatten(), output_dict = True)\n",
    "\n",
    "print(\"Without Oversampling:\")\n",
    "for i in [\"0\",\"1\",\"2\",\"3\"]:\n",
    "    print(\"Number in Class\", i, \":\", report1[i][\"support\"], \",\", report1[i][\"support\"] * 100 / report1[\"weighted avg\"][\"support\"], \"%\")"
   ]
  },
  {
   "cell_type": "code",
   "execution_count": 9,
   "id": "0dafe4f0",
   "metadata": {
    "execution": {
     "iopub.execute_input": "2024-01-09T21:10:26.996627Z",
     "iopub.status.busy": "2024-01-09T21:10:26.996289Z",
     "iopub.status.idle": "2024-01-09T21:10:27.002959Z",
     "shell.execute_reply": "2024-01-09T21:10:27.002079Z"
    },
    "papermill": {
     "duration": 0.024294,
     "end_time": "2024-01-09T21:10:27.004848",
     "exception": false,
     "start_time": "2024-01-09T21:10:26.980554",
     "status": "completed"
    },
    "tags": []
   },
   "outputs": [],
   "source": [
    "from collections import defaultdict\n",
    "\n",
    "# Function to visualise distribution of SST-3/SST-8 (taken from EDA workbook, adapted to arrays)\n",
    "def sst_visualise(array, ss_types, labels, ss_colours, title):\n",
    "    ss_counts = defaultdict(lambda: 0)\n",
    "\n",
    "    for row in array:\n",
    "        for element in row:\n",
    "            ss_counts[element] += 1\n",
    "\n",
    "    plt.bar(range(len(ss_types)), height = [ss_counts[ss] for ss in ss_types], tick_label = labels, edgecolor = \"black\", width = 0.75, zorder = 3, color = ss_colours)\n",
    "    plt.title(title)\n",
    "    plt.xlabel(\"Element\")\n",
    "    plt.ylabel(\"Frequency\")\n",
    "    plt.show()"
   ]
  },
  {
   "cell_type": "code",
   "execution_count": 10,
   "id": "99c7a1ec",
   "metadata": {
    "execution": {
     "iopub.execute_input": "2024-01-09T21:10:27.035249Z",
     "iopub.status.busy": "2024-01-09T21:10:27.034872Z",
     "iopub.status.idle": "2024-01-09T21:10:27.812942Z",
     "shell.execute_reply": "2024-01-09T21:10:27.812019Z"
    },
    "papermill": {
     "duration": 0.79647,
     "end_time": "2024-01-09T21:10:27.815740",
     "exception": false,
     "start_time": "2024-01-09T21:10:27.019270",
     "status": "completed"
    },
    "tags": []
   },
   "outputs": [
    {
     "data": {
      "image/png": "[encoded data removed]",
      "text/plain": [
       "<Figure size 640x480 with 1 Axes>"
      ]
     },
     "metadata": {},
     "output_type": "display_data"
    }
   ],
   "source": [
    "# Define elements for SST-3 and SST-8, and custom colours\n",
    "ss_types = list(set(np.ravel(y_train)))\n",
    "labels = [\"Padding\", \"C\", \"H\", \"E\"]\n",
    "ss_colours = [\"grey\", \"purple\", \"orange\", \"black\"]\n",
    "\n",
    "# Plot for training set distribution before oversampling\n",
    "sst_visualise(y_train, ss_types, labels, ss_colours, \"Secondary Structure Distribution (Training; Without Oversampling)\")"
   ]
  },
  {
   "cell_type": "code",
   "execution_count": 11,
   "id": "91a2aa54",
   "metadata": {
    "execution": {
     "iopub.execute_input": "2024-01-09T21:10:27.853598Z",
     "iopub.status.busy": "2024-01-09T21:10:27.852751Z",
     "iopub.status.idle": "2024-01-09T21:10:27.895341Z",
     "shell.execute_reply": "2024-01-09T21:10:27.894306Z"
    },
    "papermill": {
     "duration": 0.062376,
     "end_time": "2024-01-09T21:10:27.897690",
     "exception": false,
     "start_time": "2024-01-09T21:10:27.835314",
     "status": "completed"
    },
    "tags": []
   },
   "outputs": [],
   "source": [
    "# Perform One-hot Encoding (important for neural networks)\n",
    "\n",
    "from tensorflow.keras.utils import to_categorical\n",
    "\n",
    "y_train_hot = to_categorical(y_train)\n",
    "y_val_hot = to_categorical(y_val)\n",
    "y_test_hot = to_categorical(y_test)"
   ]
  },
  {
   "cell_type": "markdown",
   "id": "2831f126",
   "metadata": {
    "papermill": {
     "duration": 0.014691,
     "end_time": "2024-01-09T21:10:27.927811",
     "exception": false,
     "start_time": "2024-01-09T21:10:27.913120",
     "status": "completed"
    },
    "tags": []
   },
   "source": [
    "### Import Neural Network Functions and Define Q3 Accuracy Metric\n",
    "\n",
    "We are interested in using neural networks for multi-output classification, so we import the relevant functions from TensorFlow. Q3 accuracy is an important metric for assessing the accuracy of our models, as it excludes the padding class in its calculations (it is otherwise equivalent to 'accuracy_score' from scikit-learn)."
   ]
  },
  {
   "cell_type": "code",
   "execution_count": 12,
   "id": "9350f5f8",
   "metadata": {
    "execution": {
     "iopub.execute_input": "2024-01-09T21:10:27.959555Z",
     "iopub.status.busy": "2024-01-09T21:10:27.958886Z",
     "iopub.status.idle": "2024-01-09T21:10:27.965013Z",
     "shell.execute_reply": "2024-01-09T21:10:27.964294Z"
    },
    "papermill": {
     "duration": 0.023922,
     "end_time": "2024-01-09T21:10:27.966872",
     "exception": false,
     "start_time": "2024-01-09T21:10:27.942950",
     "status": "completed"
    },
    "tags": []
   },
   "outputs": [],
   "source": [
    "# Import relevant functions for Neural Networks\n",
    "\n",
    "from tensorflow.keras.layers import Embedding, Dense, Dropout\n",
    "from tensorflow.keras.models import Sequential\n",
    "from tensorflow.keras.callbacks import EarlyStopping"
   ]
  },
  {
   "cell_type": "code",
   "execution_count": 13,
   "id": "0d2a1809",
   "metadata": {
    "execution": {
     "iopub.execute_input": "2024-01-09T21:10:27.997640Z",
     "iopub.status.busy": "2024-01-09T21:10:27.997360Z",
     "iopub.status.idle": "2024-01-09T21:10:28.002977Z",
     "shell.execute_reply": "2024-01-09T21:10:28.002130Z"
    },
    "papermill": {
     "duration": 0.023344,
     "end_time": "2024-01-09T21:10:28.004838",
     "exception": false,
     "start_time": "2024-01-09T21:10:27.981494",
     "status": "completed"
    },
    "tags": []
   },
   "outputs": [],
   "source": [
    "# Function from KirkDCO on Kaggle (which was made by helme)\n",
    "\n",
    "from keras import backend as K\n",
    "\n",
    "def q3_acc(y_true, y_pred):\n",
    "    y = tf.argmax(y_true, axis=-1)\n",
    "    y_ = tf.argmax(y_pred, axis=-1)\n",
    "    mask = tf.greater(y, 0)\n",
    "    return K.cast(K.equal(tf.boolean_mask(y, mask), tf.boolean_mask(y_, mask)), K.floatx())"
   ]
  },
  {
   "cell_type": "markdown",
   "id": "123365eb",
   "metadata": {
    "papermill": {
     "duration": 0.014402,
     "end_time": "2024-01-09T21:10:28.033855",
     "exception": false,
     "start_time": "2024-01-09T21:10:28.019453",
     "status": "completed"
    },
    "tags": []
   },
   "source": [
    "### Neural Network Model (Model 1, Adam)\n",
    "\n",
    "We describe a neural network model without any regularisation, one hidden layer with the ReLU activation function, and the output layer with the Softmax activation function. The number of epochs is 150, with the batch size and learning rate as 128 and 0.001 respectively. The optimiser used is Adaptive Moment Estimation (Adam)."
   ]
  },
  {
   "cell_type": "markdown",
   "id": "82f1d352",
   "metadata": {
    "papermill": {
     "duration": 0.016057,
     "end_time": "2024-01-09T21:10:28.064445",
     "exception": false,
     "start_time": "2024-01-09T21:10:28.048388",
     "status": "completed"
    },
    "tags": []
   },
   "source": [
    "#### Without Oversampling"
   ]
  },
  {
   "cell_type": "markdown",
   "id": "bddf1c37",
   "metadata": {
    "papermill": {
     "duration": 0.01488,
     "end_time": "2024-01-09T21:10:28.094017",
     "exception": false,
     "start_time": "2024-01-09T21:10:28.079137",
     "status": "completed"
    },
    "tags": []
   },
   "source": [
    "### Set Hyperparameters"
   ]
  },
  {
   "cell_type": "code",
   "execution_count": 14,
   "id": "afd35974",
   "metadata": {
    "execution": {
     "iopub.execute_input": "2024-01-09T21:10:28.125634Z",
     "iopub.status.busy": "2024-01-09T21:10:28.125265Z",
     "iopub.status.idle": "2024-01-09T21:10:28.130452Z",
     "shell.execute_reply": "2024-01-09T21:10:28.129538Z"
    },
    "papermill": {
     "duration": 0.023651,
     "end_time": "2024-01-09T21:10:28.132480",
     "exception": false,
     "start_time": "2024-01-09T21:10:28.108829",
     "status": "completed"
    },
    "tags": []
   },
   "outputs": [],
   "source": [
    "# Select input and output dimensions (number of 3-mers and number of possible secondary structure elements (3 + padding = 4))\n",
    "\n",
    "n_kmers = len(tok_x.word_index) + 1\n",
    "n_elems = len(tok_y.word_index) + 1\n",
    "\n",
    "# Select number of epochs, batch size, and learning rate\n",
    "n_epochs = 150\n",
    "batch_size = 128\n",
    "learning_rate = 0.001"
   ]
  },
  {
   "cell_type": "markdown",
   "id": "a453809c",
   "metadata": {
    "papermill": {
     "duration": 0.015083,
     "end_time": "2024-01-09T21:10:28.162839",
     "exception": false,
     "start_time": "2024-01-09T21:10:28.147756",
     "status": "completed"
    },
    "tags": []
   },
   "source": [
    "### Define Model 1"
   ]
  },
  {
   "cell_type": "code",
   "execution_count": 15,
   "id": "8aa7d875",
   "metadata": {
    "execution": {
     "iopub.execute_input": "2024-01-09T21:10:28.195152Z",
     "iopub.status.busy": "2024-01-09T21:10:28.194755Z",
     "iopub.status.idle": "2024-01-09T21:10:29.192200Z",
     "shell.execute_reply": "2024-01-09T21:10:29.191162Z"
    },
    "papermill": {
     "duration": 1.021816,
     "end_time": "2024-01-09T21:10:29.200172",
     "exception": false,
     "start_time": "2024-01-09T21:10:28.178356",
     "status": "completed"
    },
    "tags": []
   },
   "outputs": [
    {
     "name": "stdout",
     "output_type": "stream",
     "text": [
      "Model: \"sequential\"\n",
      "_________________________________________________________________\n",
      " Layer (type)                Output Shape              Param #   \n",
      "=================================================================\n",
      " embedding (Embedding)       (None, 100, 11454)        91632000  \n",
      "                                                                 \n",
      " dense (Dense)               (None, 100, 1000)         11455000  \n",
      "                                                                 \n",
      " dense_1 (Dense)             (None, 100, 4)            4004      \n",
      "                                                                 \n",
      "=================================================================\n",
      "Total params: 103091004 (393.26 MB)\n",
      "Trainable params: 103091004 (393.26 MB)\n",
      "Non-trainable params: 0 (0.00 Byte)\n",
      "_________________________________________________________________\n"
     ]
    }
   ],
   "source": [
    "# Define a Neural Network model (Model 1)\n",
    "model_1 = Sequential()\n",
    "# Create Embedding layer, which turns our indexes (3-mers) into dense vectors of fixed size - 'output_dim' can be adjusted\n",
    "model_1.add(Embedding(input_dim = n_kmers, output_dim = X_train.shape[0], input_length = maxlen))\n",
    "# Create Dense layer of 1000 nodes (hidden layer), using the ReLU activation function\n",
    "model_1.add(Dense(1000, activation = \"relu\"))\n",
    "# Create Dense layer of 4 nodes, using the Softmax activation function\n",
    "model_1.add((Dense(n_elems, input_dim = y_train_hot.shape[2], activation = \"softmax\")))\n",
    "# Display summary of model\n",
    "model_1.summary()"
   ]
  },
  {
   "cell_type": "markdown",
   "id": "d84da238",
   "metadata": {
    "papermill": {
     "duration": 0.016306,
     "end_time": "2024-01-09T21:10:29.233952",
     "exception": false,
     "start_time": "2024-01-09T21:10:29.217646",
     "status": "completed"
    },
    "tags": []
   },
   "source": [
    "### Train Model 1\n",
    "\n",
    "We train the neural network on the training data, using the one-hot encoded variable 'y_train_hot'. The hyperparameters and model are defined as above. We use EarlyStopping to stop the training if the loss does not improve after 5 epochs."
   ]
  },
  {
   "cell_type": "code",
   "execution_count": 16,
   "id": "7d16c21f",
   "metadata": {
    "execution": {
     "iopub.execute_input": "2024-01-09T21:10:29.268135Z",
     "iopub.status.busy": "2024-01-09T21:10:29.267726Z",
     "iopub.status.idle": "2024-01-09T21:22:57.381117Z",
     "shell.execute_reply": "2024-01-09T21:22:57.379825Z"
    },
    "papermill": {
     "duration": 748.133315,
     "end_time": "2024-01-09T21:22:57.383557",
     "exception": false,
     "start_time": "2024-01-09T21:10:29.250242",
     "status": "completed"
    },
    "tags": []
   },
   "outputs": [
    {
     "name": "stdout",
     "output_type": "stream",
     "text": [
      "Epoch 1/150\n",
      "90/90 [==============================] - 41s 426ms/step - loss: 0.6682 - accuracy: 0.7187 - q3_acc: 0.5628\n",
      "Epoch 2/150\n",
      "90/90 [==============================] - 34s 375ms/step - loss: 0.6170 - accuracy: 0.7330 - q3_acc: 0.5851\n",
      "Epoch 3/150\n",
      "90/90 [==============================] - 30s 332ms/step - loss: 0.6129 - accuracy: 0.7359 - q3_acc: 0.5895\n",
      "Epoch 4/150\n",
      "90/90 [==============================] - 30s 332ms/step - loss: 0.6113 - accuracy: 0.7366 - q3_acc: 0.5906\n",
      "Epoch 5/150\n",
      "90/90 [==============================] - 28s 313ms/step - loss: 0.6104 - accuracy: 0.7373 - q3_acc: 0.5918\n",
      "Epoch 6/150\n",
      "90/90 [==============================] - 25s 276ms/step - loss: 0.6093 - accuracy: 0.7378 - q3_acc: 0.5925\n",
      "Epoch 7/150\n",
      "90/90 [==============================] - 25s 280ms/step - loss: 0.6085 - accuracy: 0.7383 - q3_acc: 0.5934\n",
      "Epoch 8/150\n",
      "90/90 [==============================] - 25s 277ms/step - loss: 0.6083 - accuracy: 0.7388 - q3_acc: 0.5940\n",
      "Epoch 9/150\n",
      "90/90 [==============================] - 23s 261ms/step - loss: 0.6079 - accuracy: 0.7384 - q3_acc: 0.5935\n",
      "Epoch 10/150\n",
      "90/90 [==============================] - 24s 262ms/step - loss: 0.6076 - accuracy: 0.7388 - q3_acc: 0.5940\n",
      "Epoch 11/150\n",
      "90/90 [==============================] - 23s 261ms/step - loss: 0.6074 - accuracy: 0.7387 - q3_acc: 0.5939\n",
      "Epoch 12/150\n",
      "90/90 [==============================] - 24s 264ms/step - loss: 0.6073 - accuracy: 0.7389 - q3_acc: 0.5943\n",
      "Epoch 13/150\n",
      "90/90 [==============================] - 22s 249ms/step - loss: 0.6066 - accuracy: 0.7393 - q3_acc: 0.5948\n",
      "Epoch 14/150\n",
      "90/90 [==============================] - 23s 258ms/step - loss: 0.6067 - accuracy: 0.7390 - q3_acc: 0.5943\n",
      "Epoch 15/150\n",
      "90/90 [==============================] - 22s 246ms/step - loss: 0.6067 - accuracy: 0.7391 - q3_acc: 0.5946\n",
      "Epoch 16/150\n",
      "90/90 [==============================] - 22s 246ms/step - loss: 0.6062 - accuracy: 0.7393 - q3_acc: 0.5949\n",
      "Epoch 17/150\n",
      "90/90 [==============================] - 22s 246ms/step - loss: 0.6064 - accuracy: 0.7391 - q3_acc: 0.5945\n",
      "Epoch 18/150\n",
      "90/90 [==============================] - 22s 247ms/step - loss: 0.6063 - accuracy: 0.7389 - q3_acc: 0.5943\n",
      "Epoch 19/150\n",
      "90/90 [==============================] - 22s 243ms/step - loss: 0.6061 - accuracy: 0.7394 - q3_acc: 0.5949\n",
      "Epoch 20/150\n",
      "90/90 [==============================] - 22s 242ms/step - loss: 0.6062 - accuracy: 0.7391 - q3_acc: 0.5946\n",
      "Epoch 21/150\n",
      "90/90 [==============================] - 22s 241ms/step - loss: 0.6058 - accuracy: 0.7395 - q3_acc: 0.5951\n",
      "Epoch 22/150\n",
      "90/90 [==============================] - 22s 241ms/step - loss: 0.6059 - accuracy: 0.7394 - q3_acc: 0.5950\n",
      "Epoch 23/150\n",
      "90/90 [==============================] - 22s 242ms/step - loss: 0.6057 - accuracy: 0.7394 - q3_acc: 0.5951\n",
      "Epoch 24/150\n",
      "90/90 [==============================] - 21s 239ms/step - loss: 0.6056 - accuracy: 0.7396 - q3_acc: 0.5953\n",
      "Epoch 25/150\n",
      "90/90 [==============================] - 22s 242ms/step - loss: 0.6056 - accuracy: 0.7396 - q3_acc: 0.5953\n",
      "Epoch 26/150\n",
      "90/90 [==============================] - 22s 241ms/step - loss: 0.6053 - accuracy: 0.7394 - q3_acc: 0.5951\n",
      "Epoch 27/150\n",
      "90/90 [==============================] - 22s 249ms/step - loss: 0.6057 - accuracy: 0.7395 - q3_acc: 0.5951\n",
      "Epoch 28/150\n",
      "90/90 [==============================] - 21s 233ms/step - loss: 0.6054 - accuracy: 0.7395 - q3_acc: 0.5951\n",
      "Epoch 29/150\n",
      "90/90 [==============================] - 21s 236ms/step - loss: 0.6054 - accuracy: 0.7396 - q3_acc: 0.5953\n",
      "Epoch 30/150\n",
      "90/90 [==============================] - 22s 242ms/step - loss: 0.6057 - accuracy: 0.7393 - q3_acc: 0.5949\n",
      "Epoch 31/150\n",
      "90/90 [==============================] - 22s 242ms/step - loss: 0.6053 - accuracy: 0.7397 - q3_acc: 0.5954\n",
      "Epoch 31: early stopping\n",
      "CPU times: user 8min 53s, sys: 1min 31s, total: 10min 25s\n",
      "Wall time: 12min 28s\n"
     ]
    }
   ],
   "source": [
    "%%time\n",
    "\n",
    "from tensorflow.keras.optimizers import Adam\n",
    "\n",
    "# Repeat seed (if needed)\n",
    "np.random.seed(randomer)\n",
    "tf.random.set_seed(randomer)\n",
    "tf.config.experimental.enable_op_determinism()\n",
    "\n",
    "# Use 'categorical cross-entropy' loss and the Adam optimiser with set learning rate\n",
    "model_1.compile(loss = \"categorical_crossentropy\", optimizer = Adam(learning_rate = learning_rate), metrics = [\"accuracy\", q3_acc])\n",
    "# Stop training when loss has stopped improving, using EarlyStopping\n",
    "monitor = EarlyStopping(monitor = \"loss\", min_delta = 1e-4, patience = 5, verbose = 1, mode = \"auto\")\n",
    "# Create variable to store loss and accuracy history, and fit the neural network to the training data\n",
    "history_1 = model_1.fit(X_train, y_train_hot, callbacks = [monitor], batch_size = batch_size, epochs = n_epochs, verbose = 1)"
   ]
  },
  {
   "cell_type": "code",
   "execution_count": 17,
   "id": "68cba5c5",
   "metadata": {
    "execution": {
     "iopub.execute_input": "2024-01-09T21:22:57.889735Z",
     "iopub.status.busy": "2024-01-09T21:22:57.889354Z",
     "iopub.status.idle": "2024-01-09T21:23:56.576603Z",
     "shell.execute_reply": "2024-01-09T21:23:56.575740Z"
    },
    "papermill": {
     "duration": 58.934242,
     "end_time": "2024-01-09T21:23:56.578930",
     "exception": false,
     "start_time": "2024-01-09T21:22:57.644688",
     "status": "completed"
    },
    "tags": []
   },
   "outputs": [],
   "source": [
    "model_1.save(\"model_1.keras\")"
   ]
  },
  {
   "cell_type": "code",
   "execution_count": 18,
   "id": "db2550fa",
   "metadata": {
    "execution": {
     "iopub.execute_input": "2024-01-09T21:23:57.066849Z",
     "iopub.status.busy": "2024-01-09T21:23:57.066484Z",
     "iopub.status.idle": "2024-01-09T21:24:03.474893Z",
     "shell.execute_reply": "2024-01-09T21:24:03.473957Z"
    },
    "papermill": {
     "duration": 6.656744,
     "end_time": "2024-01-09T21:24:03.476912",
     "exception": false,
     "start_time": "2024-01-09T21:23:56.820168",
     "status": "completed"
    },
    "tags": []
   },
   "outputs": [
    {
     "name": "stdout",
     "output_type": "stream",
     "text": [
      "358/358 [==============================] - 5s 14ms/step - loss: 0.6018 - accuracy: 0.7408 - q3_acc: 0.5972\n",
      "Accuracy: 0.7408354878425598\n",
      "Q3 Accuracy: 0.5972290635108948\n"
     ]
    },
    {
     "data": {
      "image/png": "[encoded data removed]",
      "text/plain": [
       "<Figure size 640x480 with 2 Axes>"
      ]
     },
     "metadata": {},
     "output_type": "display_data"
    }
   ],
   "source": [
    "# Default and Q3 Accuracy for Model\n",
    "evals = model_1.evaluate(X_train, y_train_hot)\n",
    "print(\"Accuracy:\", evals[1])\n",
    "print(\"Q3 Accuracy:\", evals[2])\n",
    "\n",
    "# Plot model loss\n",
    "plt.plot(history_1.history[\"loss\"], color = \"red\")\n",
    "plt.title(\"Model Loss/Q3 Accuracy\")\n",
    "plt.ylabel(\"Loss\")\n",
    "plt.xlabel(\"Epoch\")\n",
    "plt.legend([\"Loss\"], loc = \"upper left\")\n",
    "\n",
    "# Plot model Q3 accuracy\n",
    "plt2 = plt.twinx()\n",
    "plt2.plot(history_1.history[\"q3_acc\"])\n",
    "plt.ylabel(\"Q3 Accuracy\")\n",
    "plt2.legend([\"Q3 Accuracy\"], loc = \"upper right\")\n",
    "plt.savefig(\"base_model_no_over.pdf\")\n",
    "plt.show()"
   ]
  },
  {
   "cell_type": "markdown",
   "id": "8011b58d",
   "metadata": {
    "papermill": {
     "duration": 0.250587,
     "end_time": "2024-01-09T21:24:03.977379",
     "exception": false,
     "start_time": "2024-01-09T21:24:03.726792",
     "status": "completed"
    },
    "tags": []
   },
   "source": [
    "### Test Model 1 on Validation Set\n",
    "\n",
    "We use our trained model to predict the data in the validation set."
   ]
  },
  {
   "cell_type": "code",
   "execution_count": 19,
   "id": "7cc48275",
   "metadata": {
    "execution": {
     "iopub.execute_input": "2024-01-09T21:24:04.481670Z",
     "iopub.status.busy": "2024-01-09T21:24:04.480488Z",
     "iopub.status.idle": "2024-01-09T21:24:36.279243Z",
     "shell.execute_reply": "2024-01-09T21:24:36.278227Z"
    },
    "papermill": {
     "duration": 32.362522,
     "end_time": "2024-01-09T21:24:36.590908",
     "exception": false,
     "start_time": "2024-01-09T21:24:04.228386",
     "status": "completed"
    },
    "tags": []
   },
   "outputs": [
    {
     "name": "stdout",
     "output_type": "stream",
     "text": [
      "40/40 [==============================] - 1s 13ms/step\n",
      "Q3 Accuracy: 0.5900383591651917\n",
      "CPU times: user 31.4 s, sys: 33.4 ms, total: 31.5 s\n",
      "Wall time: 31.8 s\n"
     ]
    }
   ],
   "source": [
    "%%time\n",
    "\n",
    "# Convert Q3 accuracy to NumPy object\n",
    "def q3_num(q3_acc):\n",
    "    return (sum(q3_acc) / q3_acc.shape[0]).numpy()\n",
    "\n",
    "# Predict validation set\n",
    "preds = model_1.predict(X_val)\n",
    "print(f\"Q3 Accuracy: {q3_num(q3_acc(y_val_hot, preds))}\")"
   ]
  },
  {
   "cell_type": "markdown",
   "id": "fa37731b",
   "metadata": {
    "papermill": {
     "duration": 0.251114,
     "end_time": "2024-01-09T21:24:37.092850",
     "exception": false,
     "start_time": "2024-01-09T21:24:36.841736",
     "status": "completed"
    },
    "tags": []
   },
   "source": [
    "### Neural Network Model (Model 2, RMSprop)\n",
    "\n",
    "We use the same model and hyperparameters seen in Model 1, but here we use the Root Mean Squared Propagation (RMSprop) optimiser."
   ]
  },
  {
   "cell_type": "markdown",
   "id": "cfd3ce86",
   "metadata": {
    "papermill": {
     "duration": 0.250367,
     "end_time": "2024-01-09T21:24:37.592811",
     "exception": false,
     "start_time": "2024-01-09T21:24:37.342444",
     "status": "completed"
    },
    "tags": []
   },
   "source": [
    "### Define Model 2"
   ]
  },
  {
   "cell_type": "code",
   "execution_count": 20,
   "id": "6485c696",
   "metadata": {
    "execution": {
     "iopub.execute_input": "2024-01-09T21:24:38.099394Z",
     "iopub.status.busy": "2024-01-09T21:24:38.098509Z",
     "iopub.status.idle": "2024-01-09T21:24:38.102939Z",
     "shell.execute_reply": "2024-01-09T21:24:38.102052Z"
    },
    "papermill": {
     "duration": 0.259185,
     "end_time": "2024-01-09T21:24:38.104788",
     "exception": false,
     "start_time": "2024-01-09T21:24:37.845603",
     "status": "completed"
    },
    "tags": []
   },
   "outputs": [],
   "source": [
    "model_2 = model_1"
   ]
  },
  {
   "cell_type": "markdown",
   "id": "5b507ef5",
   "metadata": {
    "papermill": {
     "duration": 0.251532,
     "end_time": "2024-01-09T21:24:38.608567",
     "exception": false,
     "start_time": "2024-01-09T21:24:38.357035",
     "status": "completed"
    },
    "tags": []
   },
   "source": [
    "### Train Model 2\n",
    "\n",
    "We train the neural network on the training data, using the one-hot encoded variable 'y_train_hot'. The hyperparameters and model are defined as above. We use EarlyStopping to stop the training if the loss does not improve after 5 epochs."
   ]
  },
  {
   "cell_type": "code",
   "execution_count": 21,
   "id": "7614eab7",
   "metadata": {
    "execution": {
     "iopub.execute_input": "2024-01-09T21:24:39.175368Z",
     "iopub.status.busy": "2024-01-09T21:24:39.174521Z",
     "iopub.status.idle": "2024-01-09T21:30:16.081508Z",
     "shell.execute_reply": "2024-01-09T21:30:16.080408Z"
    },
    "papermill": {
     "duration": 337.22122,
     "end_time": "2024-01-09T21:30:16.083624",
     "exception": false,
     "start_time": "2024-01-09T21:24:38.862404",
     "status": "completed"
    },
    "tags": []
   },
   "outputs": [
    {
     "name": "stdout",
     "output_type": "stream",
     "text": [
      "Epoch 1/150\n",
      "90/90 [==============================] - 36s 390ms/step - loss: 0.6021 - accuracy: 0.7405 - q3_acc: 0.5966\n",
      "Epoch 2/150\n",
      "90/90 [==============================] - 31s 348ms/step - loss: 0.6021 - accuracy: 0.7406 - q3_acc: 0.5969\n",
      "Epoch 3/150\n",
      "90/90 [==============================] - 28s 312ms/step - loss: 0.6020 - accuracy: 0.7406 - q3_acc: 0.5969\n",
      "Epoch 4/150\n",
      "90/90 [==============================] - 28s 312ms/step - loss: 0.6021 - accuracy: 0.7403 - q3_acc: 0.5965\n",
      "Epoch 5/150\n",
      "90/90 [==============================] - 27s 296ms/step - loss: 0.6020 - accuracy: 0.7408 - q3_acc: 0.5971\n",
      "Epoch 6/150\n",
      "90/90 [==============================] - 24s 266ms/step - loss: 0.6020 - accuracy: 0.7403 - q3_acc: 0.5965\n",
      "Epoch 7/150\n",
      "90/90 [==============================] - 24s 269ms/step - loss: 0.6019 - accuracy: 0.7405 - q3_acc: 0.5967\n",
      "Epoch 8/150\n",
      "90/90 [==============================] - 24s 268ms/step - loss: 0.6019 - accuracy: 0.7408 - q3_acc: 0.5972\n",
      "Epoch 9/150\n",
      "90/90 [==============================] - 23s 255ms/step - loss: 0.6019 - accuracy: 0.7406 - q3_acc: 0.5968\n",
      "Epoch 10/150\n",
      "90/90 [==============================] - 23s 253ms/step - loss: 0.6020 - accuracy: 0.7404 - q3_acc: 0.5966\n",
      "Epoch 11/150\n",
      "90/90 [==============================] - 23s 254ms/step - loss: 0.6019 - accuracy: 0.7406 - q3_acc: 0.5968\n",
      "Epoch 12/150\n",
      "90/90 [==============================] - 23s 257ms/step - loss: 0.6020 - accuracy: 0.7405 - q3_acc: 0.5968\n",
      "Epoch 13/150\n",
      "90/90 [==============================] - 22s 245ms/step - loss: 0.6019 - accuracy: 0.7405 - q3_acc: 0.5967\n",
      "Epoch 13: early stopping\n",
      "CPU times: user 4min 4s, sys: 31.8 s, total: 4min 35s\n",
      "Wall time: 5min 36s\n"
     ]
    }
   ],
   "source": [
    "%%time\n",
    "\n",
    "from tensorflow.keras.optimizers import RMSprop\n",
    "\n",
    "# Repeat seed (if needed)\n",
    "np.random.seed(randomer)\n",
    "tf.random.set_seed(randomer)\n",
    "tf.config.experimental.enable_op_determinism()\n",
    "\n",
    "# Use 'categorical cross-entropy' loss and the RMSprop optimiser with set learning rate\n",
    "model_2.compile(loss = \"categorical_crossentropy\", optimizer = RMSprop(learning_rate = learning_rate), metrics = [\"accuracy\", q3_acc])\n",
    "# Stop training when loss has stopped improving, using EarlyStopping\n",
    "monitor = EarlyStopping(monitor = \"loss\", min_delta = 1e-4, patience = 5, verbose = 1, mode = \"auto\")\n",
    "# Create variable to store loss and accuracy history, and fit the neural network to the training data\n",
    "history_2 = model_2.fit(X_train, y_train_hot, callbacks = [monitor], batch_size = batch_size, epochs = n_epochs, verbose = 1)"
   ]
  },
  {
   "cell_type": "code",
   "execution_count": 22,
   "id": "663dbb3f",
   "metadata": {
    "execution": {
     "iopub.execute_input": "2024-01-09T21:30:16.797268Z",
     "iopub.status.busy": "2024-01-09T21:30:16.796873Z",
     "iopub.status.idle": "2024-01-09T21:30:19.624816Z",
     "shell.execute_reply": "2024-01-09T21:30:19.623760Z"
    },
    "papermill": {
     "duration": 3.192199,
     "end_time": "2024-01-09T21:30:19.628264",
     "exception": false,
     "start_time": "2024-01-09T21:30:16.436065",
     "status": "completed"
    },
    "tags": []
   },
   "outputs": [],
   "source": [
    "model_2.save(\"model_2.keras\")"
   ]
  },
  {
   "cell_type": "code",
   "execution_count": 23,
   "id": "9d7d3638",
   "metadata": {
    "execution": {
     "iopub.execute_input": "2024-01-09T21:30:20.388100Z",
     "iopub.status.busy": "2024-01-09T21:30:20.387691Z",
     "iopub.status.idle": "2024-01-09T21:30:26.803414Z",
     "shell.execute_reply": "2024-01-09T21:30:26.802432Z"
    },
    "papermill": {
     "duration": 6.767913,
     "end_time": "2024-01-09T21:30:26.805566",
     "exception": false,
     "start_time": "2024-01-09T21:30:20.037653",
     "status": "completed"
    },
    "tags": []
   },
   "outputs": [
    {
     "name": "stdout",
     "output_type": "stream",
     "text": [
      "358/358 [==============================] - 5s 14ms/step - loss: 0.6024 - accuracy: 0.7401 - q3_acc: 0.5961\n",
      "Accuracy: 0.7401396632194519\n",
      "Q3 Accuracy: 0.5961477160453796\n"
     ]
    },
    {
     "data": {
      "image/png": "[encoded data removed]",
      "text/plain": [
       "<Figure size 640x480 with 2 Axes>"
      ]
     },
     "metadata": {},
     "output_type": "display_data"
    }
   ],
   "source": [
    "# Default and Q3 Accuracy for Model\n",
    "evals = model_2.evaluate(X_train, y_train_hot)\n",
    "print(\"Accuracy:\", evals[1])\n",
    "print(\"Q3 Accuracy:\", evals[2])\n",
    "\n",
    "# Plot model loss\n",
    "plt.plot(history_2.history[\"loss\"], color = \"red\")\n",
    "plt.title(\"Model Loss/Q3 Accuracy\")\n",
    "plt.ylabel(\"Loss\")\n",
    "plt.xlabel(\"Epoch\")\n",
    "plt.legend([\"Loss\"], loc = \"upper left\")\n",
    "\n",
    "# Plot model Q3 accuracy\n",
    "plt2 = plt.twinx()\n",
    "plt2.plot(history_2.history[\"q3_acc\"])\n",
    "plt.ylabel(\"Q3 Accuracy\")\n",
    "plt2.legend([\"Q3 Accuracy\"], loc = \"upper right\")\n",
    "plt.savefig(\"model_2_no_over.pdf\")\n",
    "plt.show()"
   ]
  },
  {
   "cell_type": "markdown",
   "id": "be57b1bd",
   "metadata": {
    "papermill": {
     "duration": 0.356789,
     "end_time": "2024-01-09T21:30:27.514740",
     "exception": false,
     "start_time": "2024-01-09T21:30:27.157951",
     "status": "completed"
    },
    "tags": []
   },
   "source": [
    "### Test Model 2 on Validation Set\n",
    "\n",
    "We use our trained model to predict the data in the validation set."
   ]
  },
  {
   "cell_type": "code",
   "execution_count": 24,
   "id": "5dacf1ed",
   "metadata": {
    "execution": {
     "iopub.execute_input": "2024-01-09T21:30:28.226311Z",
     "iopub.status.busy": "2024-01-09T21:30:28.225912Z",
     "iopub.status.idle": "2024-01-09T21:31:00.580911Z",
     "shell.execute_reply": "2024-01-09T21:31:00.579751Z"
    },
    "papermill": {
     "duration": 33.137988,
     "end_time": "2024-01-09T21:31:01.004929",
     "exception": false,
     "start_time": "2024-01-09T21:30:27.866941",
     "status": "completed"
    },
    "tags": []
   },
   "outputs": [
    {
     "name": "stdout",
     "output_type": "stream",
     "text": [
      "40/40 [==============================] - 1s 13ms/step\n",
      "Q3 Accuracy: 0.5893375277519226\n"
     ]
    }
   ],
   "source": [
    "# Predict validation set\n",
    "preds = model_2.predict(X_val)\n",
    "print(f\"Q3 Accuracy: {q3_num(q3_acc(y_val_hot, preds))}\")"
   ]
  },
  {
   "cell_type": "markdown",
   "id": "2aecf2ad",
   "metadata": {
    "papermill": {
     "duration": 0.358214,
     "end_time": "2024-01-09T21:31:01.718157",
     "exception": false,
     "start_time": "2024-01-09T21:31:01.359943",
     "status": "completed"
    },
    "tags": []
   },
   "source": [
    "### Neural Network Model (Model 3, Adam)\n",
    "\n",
    "We describe a neural network model without any regularisation, two hidden layers with the ReLU activation function, and the output layer with the Softmax activation function. The other hyperparameters remain the same. The optimiser used is Adam, which provided better results in the comparison of the two models above (Model 1 and Model 2). Notice that the difference in performance of the two optimisers is quite small."
   ]
  },
  {
   "cell_type": "markdown",
   "id": "c044632e",
   "metadata": {
    "papermill": {
     "duration": 0.357652,
     "end_time": "2024-01-09T21:31:02.429647",
     "exception": false,
     "start_time": "2024-01-09T21:31:02.071995",
     "status": "completed"
    },
    "tags": []
   },
   "source": [
    "### Define Model 3"
   ]
  },
  {
   "cell_type": "code",
   "execution_count": 25,
   "id": "e079deaf",
   "metadata": {
    "execution": {
     "iopub.execute_input": "2024-01-09T21:31:03.173608Z",
     "iopub.status.busy": "2024-01-09T21:31:03.173225Z",
     "iopub.status.idle": "2024-01-09T21:31:03.284382Z",
     "shell.execute_reply": "2024-01-09T21:31:03.283353Z"
    },
    "papermill": {
     "duration": 0.504819,
     "end_time": "2024-01-09T21:31:03.289741",
     "exception": false,
     "start_time": "2024-01-09T21:31:02.784922",
     "status": "completed"
    },
    "tags": []
   },
   "outputs": [
    {
     "name": "stdout",
     "output_type": "stream",
     "text": [
      "Model: \"sequential_1\"\n",
      "_________________________________________________________________\n",
      " Layer (type)                Output Shape              Param #   \n",
      "=================================================================\n",
      " embedding_1 (Embedding)     (None, 100, 11454)        91632000  \n",
      "                                                                 \n",
      " dense_2 (Dense)             (None, 100, 1000)         11455000  \n",
      "                                                                 \n",
      " dense_3 (Dense)             (None, 100, 1000)         1001000   \n",
      "                                                                 \n",
      " dense_4 (Dense)             (None, 100, 4)            4004      \n",
      "                                                                 \n",
      "=================================================================\n",
      "Total params: 104092004 (397.08 MB)\n",
      "Trainable params: 104092004 (397.08 MB)\n",
      "Non-trainable params: 0 (0.00 Byte)\n",
      "_________________________________________________________________\n"
     ]
    }
   ],
   "source": [
    "# Define a Neural Network model (Model 3)\n",
    "model_3 = Sequential()\n",
    "# Create Embedding layer, which turns our indexes (3-mers) into dense vectors of fixed size - 'output_dim' can be adjusted\n",
    "model_3.add(Embedding(input_dim = n_kmers, output_dim = X_train.shape[0], input_length = maxlen))\n",
    "# Create Dense layer of 1000 nodes (hidden layer), using the ReLU activation function\n",
    "model_3.add(Dense(1000, activation = \"relu\"))\n",
    "# Create Dense layer of 1000 nodes (hidden layer), using the ReLU activation function\n",
    "model_3.add(Dense(1000, activation = \"relu\"))\n",
    "# Create Dense layer of 4 nodes, using the Softmax activation function\n",
    "model_3.add((Dense(n_elems, input_dim = y_train_hot.shape[2], activation = \"softmax\")))\n",
    "# Display summary of model\n",
    "model_3.summary()"
   ]
  },
  {
   "cell_type": "markdown",
   "id": "d3380d10",
   "metadata": {
    "papermill": {
     "duration": 0.422725,
     "end_time": "2024-01-09T21:31:04.107077",
     "exception": false,
     "start_time": "2024-01-09T21:31:03.684352",
     "status": "completed"
    },
    "tags": []
   },
   "source": [
    "### Train Model 3\n",
    "\n",
    "We train the neural network on the training data, using the one-hot encoded variable 'y_train_hot'. The hyperparameters and model are defined as above. We use EarlyStopping to stop the training if the loss does not improve after 5 epochs."
   ]
  },
  {
   "cell_type": "code",
   "execution_count": 26,
   "id": "39fb4ea0",
   "metadata": {
    "execution": {
     "iopub.execute_input": "2024-01-09T21:31:04.826100Z",
     "iopub.status.busy": "2024-01-09T21:31:04.825176Z",
     "iopub.status.idle": "2024-01-09T21:43:28.324255Z",
     "shell.execute_reply": "2024-01-09T21:43:28.323354Z"
    },
    "papermill": {
     "duration": 743.861585,
     "end_time": "2024-01-09T21:43:28.326254",
     "exception": false,
     "start_time": "2024-01-09T21:31:04.464669",
     "status": "completed"
    },
    "tags": []
   },
   "outputs": [
    {
     "name": "stdout",
     "output_type": "stream",
     "text": [
      "Epoch 1/150\n",
      "90/90 [==============================] - 35s 368ms/step - loss: 0.8138 - accuracy: 0.6993 - q3_acc: 0.5633\n",
      "Epoch 2/150\n",
      "90/90 [==============================] - 30s 335ms/step - loss: 0.6178 - accuracy: 0.7337 - q3_acc: 0.5861\n",
      "Epoch 3/150\n",
      "90/90 [==============================] - 28s 306ms/step - loss: 0.6134 - accuracy: 0.7357 - q3_acc: 0.5892\n",
      "Epoch 4/150\n",
      "90/90 [==============================] - 28s 307ms/step - loss: 0.6114 - accuracy: 0.7366 - q3_acc: 0.5906\n",
      "Epoch 5/150\n",
      "90/90 [==============================] - 27s 295ms/step - loss: 0.6111 - accuracy: 0.7368 - q3_acc: 0.5910\n",
      "Epoch 6/150\n",
      "90/90 [==============================] - 24s 271ms/step - loss: 0.6100 - accuracy: 0.7374 - q3_acc: 0.5919\n",
      "Epoch 7/150\n",
      "90/90 [==============================] - 25s 273ms/step - loss: 0.6093 - accuracy: 0.7377 - q3_acc: 0.5924\n",
      "Epoch 8/150\n",
      "90/90 [==============================] - 25s 272ms/step - loss: 0.6089 - accuracy: 0.7380 - q3_acc: 0.5929\n",
      "Epoch 9/150\n",
      "90/90 [==============================] - 24s 264ms/step - loss: 0.6091 - accuracy: 0.7379 - q3_acc: 0.5927\n",
      "Epoch 10/150\n",
      "90/90 [==============================] - 24s 262ms/step - loss: 0.6081 - accuracy: 0.7382 - q3_acc: 0.5931\n",
      "Epoch 11/150\n",
      "90/90 [==============================] - 24s 262ms/step - loss: 0.6080 - accuracy: 0.7383 - q3_acc: 0.5933\n",
      "Epoch 12/150\n",
      "90/90 [==============================] - 24s 264ms/step - loss: 0.6076 - accuracy: 0.7385 - q3_acc: 0.5935\n",
      "Epoch 13/150\n",
      "90/90 [==============================] - 23s 258ms/step - loss: 0.6070 - accuracy: 0.7391 - q3_acc: 0.5946\n",
      "Epoch 14/150\n",
      "90/90 [==============================] - 24s 261ms/step - loss: 0.6065 - accuracy: 0.7390 - q3_acc: 0.5944\n",
      "Epoch 15/150\n",
      "90/90 [==============================] - 23s 251ms/step - loss: 0.6067 - accuracy: 0.7389 - q3_acc: 0.5943\n",
      "Epoch 16/150\n",
      "90/90 [==============================] - 23s 252ms/step - loss: 0.6065 - accuracy: 0.7392 - q3_acc: 0.5946\n",
      "Epoch 17/150\n",
      "90/90 [==============================] - 23s 251ms/step - loss: 0.6066 - accuracy: 0.7389 - q3_acc: 0.5942\n",
      "Epoch 18/150\n",
      "90/90 [==============================] - 23s 252ms/step - loss: 0.6063 - accuracy: 0.7389 - q3_acc: 0.5942\n",
      "Epoch 19/150\n",
      "90/90 [==============================] - 23s 251ms/step - loss: 0.6061 - accuracy: 0.7393 - q3_acc: 0.5949\n",
      "Epoch 20/150\n",
      "90/90 [==============================] - 22s 250ms/step - loss: 0.6062 - accuracy: 0.7390 - q3_acc: 0.5944\n",
      "Epoch 21/150\n",
      "90/90 [==============================] - 22s 250ms/step - loss: 0.6058 - accuracy: 0.7395 - q3_acc: 0.5951\n",
      "Epoch 22/150\n",
      "90/90 [==============================] - 22s 249ms/step - loss: 0.6059 - accuracy: 0.7393 - q3_acc: 0.5948\n",
      "Epoch 23/150\n",
      "90/90 [==============================] - 23s 250ms/step - loss: 0.6055 - accuracy: 0.7394 - q3_acc: 0.5951\n",
      "Epoch 24/150\n",
      "90/90 [==============================] - 22s 247ms/step - loss: 0.6053 - accuracy: 0.7395 - q3_acc: 0.5951\n",
      "Epoch 25/150\n",
      "90/90 [==============================] - 22s 249ms/step - loss: 0.6051 - accuracy: 0.7397 - q3_acc: 0.5954\n",
      "Epoch 26/150\n",
      "90/90 [==============================] - 22s 247ms/step - loss: 0.6049 - accuracy: 0.7396 - q3_acc: 0.5953\n",
      "Epoch 27/150\n",
      "90/90 [==============================] - 23s 253ms/step - loss: 0.6052 - accuracy: 0.7396 - q3_acc: 0.5953\n",
      "Epoch 28/150\n",
      "90/90 [==============================] - 22s 245ms/step - loss: 0.6052 - accuracy: 0.7394 - q3_acc: 0.5950\n",
      "Epoch 29/150\n",
      "90/90 [==============================] - 22s 246ms/step - loss: 0.6050 - accuracy: 0.7398 - q3_acc: 0.5956\n",
      "Epoch 30/150\n",
      "90/90 [==============================] - 23s 251ms/step - loss: 0.6054 - accuracy: 0.7394 - q3_acc: 0.5950\n",
      "Epoch 31/150\n",
      "90/90 [==============================] - 22s 248ms/step - loss: 0.6050 - accuracy: 0.7397 - q3_acc: 0.5954\n",
      "Epoch 31: early stopping\n",
      "CPU times: user 9min 11s, sys: 1min 38s, total: 10min 50s\n",
      "Wall time: 12min 23s\n"
     ]
    }
   ],
   "source": [
    "%%time\n",
    "\n",
    "# Repeat seed (if needed)\n",
    "np.random.seed(randomer)\n",
    "tf.random.set_seed(randomer)\n",
    "tf.config.experimental.enable_op_determinism()\n",
    "\n",
    "# Use 'categorical cross-entropy' loss and the Adam optimiser with set learning rate\n",
    "model_3.compile(loss = \"categorical_crossentropy\", optimizer = Adam(learning_rate = learning_rate), metrics = [\"accuracy\", q3_acc])\n",
    "# Stop training when loss has stopped improving, using EarlyStopping\n",
    "monitor = EarlyStopping(monitor = \"loss\", min_delta = 1e-4, patience = 5, verbose = 1, mode = \"auto\")\n",
    "# Create variable to store loss and accuracy history, and fit the neural network to the training data\n",
    "history_3 = model_3.fit(X_train, y_train_hot, callbacks = [monitor], batch_size = batch_size, epochs = n_epochs, verbose = 1)"
   ]
  },
  {
   "cell_type": "code",
   "execution_count": 27,
   "id": "37789cb8",
   "metadata": {
    "execution": {
     "iopub.execute_input": "2024-01-09T21:43:29.498754Z",
     "iopub.status.busy": "2024-01-09T21:43:29.498376Z",
     "iopub.status.idle": "2024-01-09T21:43:33.724540Z",
     "shell.execute_reply": "2024-01-09T21:43:33.723690Z"
    },
    "papermill": {
     "duration": 4.814036,
     "end_time": "2024-01-09T21:43:33.727126",
     "exception": false,
     "start_time": "2024-01-09T21:43:28.913090",
     "status": "completed"
    },
    "tags": []
   },
   "outputs": [],
   "source": [
    "model_3.save(\"model_3.keras\")"
   ]
  },
  {
   "cell_type": "code",
   "execution_count": 28,
   "id": "59229bff",
   "metadata": {
    "execution": {
     "iopub.execute_input": "2024-01-09T21:43:34.955975Z",
     "iopub.status.busy": "2024-01-09T21:43:34.955604Z",
     "iopub.status.idle": "2024-01-09T21:43:41.321584Z",
     "shell.execute_reply": "2024-01-09T21:43:41.320613Z"
    },
    "papermill": {
     "duration": 7.014062,
     "end_time": "2024-01-09T21:43:41.323664",
     "exception": false,
     "start_time": "2024-01-09T21:43:34.309602",
     "status": "completed"
    },
    "tags": []
   },
   "outputs": [
    {
     "name": "stdout",
     "output_type": "stream",
     "text": [
      "358/358 [==============================] - 6s 15ms/step - loss: 0.6017 - accuracy: 0.7409 - q3_acc: 0.5973\n",
      "Accuracy: 0.7408844232559204\n",
      "Q3 Accuracy: 0.5973050594329834\n"
     ]
    },
    {
     "data": {
      "image/png": "[encoded data removed]",
      "text/plain": [
       "<Figure size 640x480 with 2 Axes>"
      ]
     },
     "metadata": {},
     "output_type": "display_data"
    }
   ],
   "source": [
    "# Default and Q3 Accuracy for Model\n",
    "evals = model_3.evaluate(X_train, y_train_hot)\n",
    "print(\"Accuracy:\", evals[1])\n",
    "print(\"Q3 Accuracy:\", evals[2])\n",
    "\n",
    "# Plot model loss\n",
    "plt.plot(history_3.history[\"loss\"], color = \"red\")\n",
    "plt.title(\"Model Loss/Q3 Accuracy\")\n",
    "plt.ylabel(\"Loss\")\n",
    "plt.xlabel(\"Epoch\")\n",
    "plt.legend([\"Loss\"], loc = \"upper left\")\n",
    "\n",
    "# Plot model Q3 accuracy\n",
    "plt2 = plt.twinx()\n",
    "plt2.plot(history_3.history[\"q3_acc\"])\n",
    "plt.ylabel(\"Q3 Accuracy\")\n",
    "plt2.legend([\"Q3 Accuracy\"], loc = \"upper right\")\n",
    "plt.savefig(\"model_3_no_over.pdf\")\n",
    "plt.show()"
   ]
  },
  {
   "cell_type": "markdown",
   "id": "7026d20c",
   "metadata": {
    "papermill": {
     "duration": 0.599817,
     "end_time": "2024-01-09T21:43:42.515415",
     "exception": false,
     "start_time": "2024-01-09T21:43:41.915598",
     "status": "completed"
    },
    "tags": []
   },
   "source": [
    "### Test Model 3 on Validation Set\n",
    "\n",
    "We use our trained model to predict the data in the validation set."
   ]
  },
  {
   "cell_type": "code",
   "execution_count": 29,
   "id": "75c0506d",
   "metadata": {
    "execution": {
     "iopub.execute_input": "2024-01-09T21:43:43.726947Z",
     "iopub.status.busy": "2024-01-09T21:43:43.726113Z",
     "iopub.status.idle": "2024-01-09T21:44:15.905896Z",
     "shell.execute_reply": "2024-01-09T21:44:15.904899Z"
    },
    "papermill": {
     "duration": 33.426066,
     "end_time": "2024-01-09T21:44:16.554991",
     "exception": false,
     "start_time": "2024-01-09T21:43:43.128925",
     "status": "completed"
    },
    "tags": []
   },
   "outputs": [
    {
     "name": "stdout",
     "output_type": "stream",
     "text": [
      "40/40 [==============================] - 1s 15ms/step\n",
      "Q3 Accuracy: 0.5897063612937927\n"
     ]
    }
   ],
   "source": [
    "# Predict validation set\n",
    "preds = model_3.predict(X_val)\n",
    "print(f\"Q3 Accuracy: {q3_num(q3_acc(y_val_hot, preds))}\")"
   ]
  },
  {
   "cell_type": "markdown",
   "id": "040033fe",
   "metadata": {
    "papermill": {
     "duration": 0.651208,
     "end_time": "2024-01-09T21:44:17.796540",
     "exception": false,
     "start_time": "2024-01-09T21:44:17.145332",
     "status": "completed"
    },
    "tags": []
   },
   "source": [
    "### Neural Network Model (Model 4, Adam, Regularised)\n",
    "\n",
    "We describe a neural network model with dropout regularisation, two hidden layers with the ReLU activation function, and the output layer with the Softmax activation function. The other hyperparameters remain the same. The optimiser used is Adam for the same reason seen previously."
   ]
  },
  {
   "cell_type": "markdown",
   "id": "340da3ed",
   "metadata": {
    "papermill": {
     "duration": 0.60087,
     "end_time": "2024-01-09T21:44:19.075757",
     "exception": false,
     "start_time": "2024-01-09T21:44:18.474887",
     "status": "completed"
    },
    "tags": []
   },
   "source": [
    "### Define Model 4"
   ]
  },
  {
   "cell_type": "code",
   "execution_count": 30,
   "id": "a9ea0e21",
   "metadata": {
    "execution": {
     "iopub.execute_input": "2024-01-09T21:44:20.306657Z",
     "iopub.status.busy": "2024-01-09T21:44:20.306267Z",
     "iopub.status.idle": "2024-01-09T21:44:20.423706Z",
     "shell.execute_reply": "2024-01-09T21:44:20.422781Z"
    },
    "papermill": {
     "duration": 0.726581,
     "end_time": "2024-01-09T21:44:20.431935",
     "exception": false,
     "start_time": "2024-01-09T21:44:19.705354",
     "status": "completed"
    },
    "tags": []
   },
   "outputs": [
    {
     "name": "stdout",
     "output_type": "stream",
     "text": [
      "Model: \"sequential_2\"\n",
      "_________________________________________________________________\n",
      " Layer (type)                Output Shape              Param #   \n",
      "=================================================================\n",
      " embedding_2 (Embedding)     (None, 100, 11454)        91632000  \n",
      "                                                                 \n",
      " dropout (Dropout)           (None, 100, 11454)        0         \n",
      "                                                                 \n",
      " dense_5 (Dense)             (None, 100, 1000)         11455000  \n",
      "                                                                 \n",
      " dropout_1 (Dropout)         (None, 100, 1000)         0         \n",
      "                                                                 \n",
      " dense_6 (Dense)             (None, 100, 1000)         1001000   \n",
      "                                                                 \n",
      " dropout_2 (Dropout)         (None, 100, 1000)         0         \n",
      "                                                                 \n",
      " dense_7 (Dense)             (None, 100, 4)            4004      \n",
      "                                                                 \n",
      "=================================================================\n",
      "Total params: 104092004 (397.08 MB)\n",
      "Trainable params: 104092004 (397.08 MB)\n",
      "Non-trainable params: 0 (0.00 Byte)\n",
      "_________________________________________________________________\n"
     ]
    }
   ],
   "source": [
    "# Define a Neural Network model (Model 4)\n",
    "model_4 = Sequential()\n",
    "# Create Embedding layer, which turns our indexes (3-mers) into dense vectors of fixed size - 'output_dim' can be adjusted\n",
    "model_4.add(Embedding(input_dim = n_kmers, output_dim = X_train.shape[0], input_length = maxlen))\n",
    "# Dropout with rate 0.1\n",
    "model_4.add(Dropout(0.1))\n",
    "# Create Dense layer of 1000 nodes (hidden layer), using the ReLU activation function\n",
    "model_4.add(Dense(1000, activation = \"relu\"))\n",
    "# Dropout with rate 0.1\n",
    "model_4.add(Dropout(0.1))\n",
    "# Create Dense layer of 1000 nodes (hidden layer), using the ReLU activation function\n",
    "model_4.add(Dense(1000, activation = \"relu\"))\n",
    "# Dropout with rate 0.1\n",
    "model_4.add(Dropout(0.1))\n",
    "# Create Dense layer of 4 nodes, using the Softmax activation function\n",
    "model_4.add((Dense(n_elems, input_dim = y_train_hot.shape[2], activation = \"softmax\")))\n",
    "# Display summary of model\n",
    "model_4.summary()"
   ]
  },
  {
   "cell_type": "markdown",
   "id": "275ff9a8",
   "metadata": {
    "papermill": {
     "duration": 0.655076,
     "end_time": "2024-01-09T21:44:21.683493",
     "exception": false,
     "start_time": "2024-01-09T21:44:21.028417",
     "status": "completed"
    },
    "tags": []
   },
   "source": [
    "### Train Model 4\n",
    "\n",
    "We train the neural network on the training data, using the one-hot encoded variable 'y_train_hot'. The hyperparameters and model are defined as above. We use EarlyStopping to stop the training if the loss does not improve after 5 epochs."
   ]
  },
  {
   "cell_type": "code",
   "execution_count": 31,
   "id": "3ebb98a3",
   "metadata": {
    "execution": {
     "iopub.execute_input": "2024-01-09T21:44:22.871210Z",
     "iopub.status.busy": "2024-01-09T21:44:22.870786Z",
     "iopub.status.idle": "2024-01-09T21:57:00.360098Z",
     "shell.execute_reply": "2024-01-09T21:57:00.358995Z"
    },
    "papermill": {
     "duration": 758.086303,
     "end_time": "2024-01-09T21:57:00.362290",
     "exception": false,
     "start_time": "2024-01-09T21:44:22.275987",
     "status": "completed"
    },
    "tags": []
   },
   "outputs": [
    {
     "name": "stdout",
     "output_type": "stream",
     "text": [
      "Epoch 1/150\n",
      "90/90 [==============================] - 35s 374ms/step - loss: 0.6753 - accuracy: 0.7116 - q3_acc: 0.5571\n",
      "Epoch 2/150\n",
      "90/90 [==============================] - 31s 342ms/step - loss: 0.6183 - accuracy: 0.7338 - q3_acc: 0.5863\n",
      "Epoch 3/150\n",
      "90/90 [==============================] - 29s 316ms/step - loss: 0.6137 - accuracy: 0.7359 - q3_acc: 0.5895\n",
      "Epoch 4/150\n",
      "90/90 [==============================] - 28s 317ms/step - loss: 0.6121 - accuracy: 0.7365 - q3_acc: 0.5904\n",
      "Epoch 5/150\n",
      "90/90 [==============================] - 28s 305ms/step - loss: 0.6114 - accuracy: 0.7372 - q3_acc: 0.5915\n",
      "Epoch 6/150\n",
      "90/90 [==============================] - 26s 285ms/step - loss: 0.6100 - accuracy: 0.7377 - q3_acc: 0.5924\n",
      "Epoch 7/150\n",
      "90/90 [==============================] - 26s 288ms/step - loss: 0.6094 - accuracy: 0.7380 - q3_acc: 0.5929\n",
      "Epoch 8/150\n",
      "90/90 [==============================] - 26s 286ms/step - loss: 0.6089 - accuracy: 0.7385 - q3_acc: 0.5936\n",
      "Epoch 9/150\n",
      "90/90 [==============================] - 25s 276ms/step - loss: 0.6088 - accuracy: 0.7383 - q3_acc: 0.5933\n",
      "Epoch 10/150\n",
      "90/90 [==============================] - 25s 275ms/step - loss: 0.6079 - accuracy: 0.7388 - q3_acc: 0.5941\n",
      "Epoch 11/150\n",
      "90/90 [==============================] - 25s 275ms/step - loss: 0.6079 - accuracy: 0.7387 - q3_acc: 0.5940\n",
      "Epoch 12/150\n",
      "90/90 [==============================] - 25s 276ms/step - loss: 0.6078 - accuracy: 0.7387 - q3_acc: 0.5940\n",
      "Epoch 13/150\n",
      "90/90 [==============================] - 24s 268ms/step - loss: 0.6068 - accuracy: 0.7393 - q3_acc: 0.5948\n",
      "Epoch 14/150\n",
      "90/90 [==============================] - 25s 273ms/step - loss: 0.6068 - accuracy: 0.7391 - q3_acc: 0.5946\n",
      "Epoch 15/150\n",
      "90/90 [==============================] - 24s 267ms/step - loss: 0.6069 - accuracy: 0.7393 - q3_acc: 0.5949\n",
      "Epoch 16/150\n",
      "90/90 [==============================] - 24s 267ms/step - loss: 0.6065 - accuracy: 0.7394 - q3_acc: 0.5950\n",
      "Epoch 17/150\n",
      "90/90 [==============================] - 24s 264ms/step - loss: 0.6065 - accuracy: 0.7392 - q3_acc: 0.5947\n",
      "Epoch 18/150\n",
      "90/90 [==============================] - 24s 268ms/step - loss: 0.6064 - accuracy: 0.7393 - q3_acc: 0.5948\n",
      "Epoch 19/150\n",
      "90/90 [==============================] - 24s 267ms/step - loss: 0.6064 - accuracy: 0.7394 - q3_acc: 0.5950\n",
      "Epoch 20/150\n",
      "90/90 [==============================] - 24s 264ms/step - loss: 0.6065 - accuracy: 0.7393 - q3_acc: 0.5949\n",
      "Epoch 21/150\n",
      "90/90 [==============================] - 24s 265ms/step - loss: 0.6062 - accuracy: 0.7395 - q3_acc: 0.5951\n",
      "Epoch 22/150\n",
      "90/90 [==============================] - 24s 266ms/step - loss: 0.6063 - accuracy: 0.7395 - q3_acc: 0.5952\n",
      "Epoch 23/150\n",
      "90/90 [==============================] - 24s 266ms/step - loss: 0.6061 - accuracy: 0.7396 - q3_acc: 0.5954\n",
      "Epoch 24/150\n",
      "90/90 [==============================] - 24s 265ms/step - loss: 0.6059 - accuracy: 0.7397 - q3_acc: 0.5954\n",
      "Epoch 25/150\n",
      "90/90 [==============================] - 24s 265ms/step - loss: 0.6057 - accuracy: 0.7398 - q3_acc: 0.5956\n",
      "Epoch 26/150\n",
      "90/90 [==============================] - 24s 263ms/step - loss: 0.6056 - accuracy: 0.7397 - q3_acc: 0.5954\n",
      "Epoch 27/150\n",
      "90/90 [==============================] - 24s 268ms/step - loss: 0.6058 - accuracy: 0.7396 - q3_acc: 0.5954\n",
      "Epoch 28/150\n",
      "90/90 [==============================] - 23s 260ms/step - loss: 0.6057 - accuracy: 0.7396 - q3_acc: 0.5953\n",
      "Epoch 29/150\n",
      "90/90 [==============================] - 24s 261ms/step - loss: 0.6057 - accuracy: 0.7400 - q3_acc: 0.5959\n",
      "Epoch 30/150\n",
      "90/90 [==============================] - 24s 263ms/step - loss: 0.6060 - accuracy: 0.7396 - q3_acc: 0.5953\n",
      "Epoch 30: early stopping\n",
      "CPU times: user 9min 2s, sys: 1min 42s, total: 10min 44s\n",
      "Wall time: 12min 37s\n"
     ]
    }
   ],
   "source": [
    "%%time\n",
    "\n",
    "# Repeat seed (if needed)\n",
    "np.random.seed(randomer)\n",
    "tf.random.set_seed(randomer)\n",
    "tf.config.experimental.enable_op_determinism()\n",
    "\n",
    "# Use 'categorical cross-entropy' loss and the Adam optimiser with set learning rate\n",
    "model_4.compile(loss = \"categorical_crossentropy\", optimizer = Adam(learning_rate = learning_rate), metrics = [\"accuracy\", q3_acc])\n",
    "# Stop training when loss has stopped improving, using EarlyStopping\n",
    "monitor = EarlyStopping(monitor = \"loss\", min_delta = 1e-4, patience = 5, verbose = 1, mode = \"auto\")\n",
    "# Create variable to store loss and accuracy history, and fit the neural network to the training data\n",
    "history_4 = model_4.fit(X_train, y_train_hot, callbacks = [monitor], batch_size = batch_size, epochs = n_epochs, verbose = 1)"
   ]
  },
  {
   "cell_type": "code",
   "execution_count": 32,
   "id": "366ba1b3",
   "metadata": {
    "execution": {
     "iopub.execute_input": "2024-01-09T21:57:02.078224Z",
     "iopub.status.busy": "2024-01-09T21:57:02.077818Z",
     "iopub.status.idle": "2024-01-09T21:57:06.334541Z",
     "shell.execute_reply": "2024-01-09T21:57:06.333703Z"
    },
    "papermill": {
     "duration": 5.075533,
     "end_time": "2024-01-09T21:57:06.336886",
     "exception": false,
     "start_time": "2024-01-09T21:57:01.261353",
     "status": "completed"
    },
    "tags": []
   },
   "outputs": [],
   "source": [
    "model_4.save(\"model_4.keras\")"
   ]
  },
  {
   "cell_type": "code",
   "execution_count": 33,
   "id": "4a7b6e2d",
   "metadata": {
    "execution": {
     "iopub.execute_input": "2024-01-09T21:57:08.081853Z",
     "iopub.status.busy": "2024-01-09T21:57:08.081466Z",
     "iopub.status.idle": "2024-01-09T21:57:14.514987Z",
     "shell.execute_reply": "2024-01-09T21:57:14.513996Z"
    },
    "papermill": {
     "duration": 7.340122,
     "end_time": "2024-01-09T21:57:14.517268",
     "exception": false,
     "start_time": "2024-01-09T21:57:07.177146",
     "status": "completed"
    },
    "tags": []
   },
   "outputs": [
    {
     "name": "stdout",
     "output_type": "stream",
     "text": [
      "358/358 [==============================] - 6s 16ms/step - loss: 0.6025 - accuracy: 0.7405 - q3_acc: 0.5967\n",
      "Accuracy: 0.7405168414115906\n",
      "Q3 Accuracy: 0.5967338681221008\n"
     ]
    },
    {
     "data": {
      "image/png": "[encoded data removed]",
      "text/plain": [
       "<Figure size 640x480 with 2 Axes>"
      ]
     },
     "metadata": {},
     "output_type": "display_data"
    }
   ],
   "source": [
    "# Default and Q3 Accuracy for Model\n",
    "evals = model_4.evaluate(X_train, y_train_hot)\n",
    "print(\"Accuracy:\", evals[1])\n",
    "print(\"Q3 Accuracy:\", evals[2])\n",
    "\n",
    "# Plot model loss\n",
    "plt.plot(history_4.history[\"loss\"], color = \"red\")\n",
    "plt.title(\"Model Loss/Q3 Accuracy\")\n",
    "plt.ylabel(\"Loss\")\n",
    "plt.xlabel(\"Epoch\")\n",
    "plt.legend([\"Loss\"], loc = \"upper left\")\n",
    "\n",
    "# Plot model Q3 accuracy\n",
    "plt2 = plt.twinx()\n",
    "plt2.plot(history_4.history[\"q3_acc\"])\n",
    "plt.ylabel(\"Q3 Accuracy\")\n",
    "plt2.legend([\"Q3 Accuracy\"], loc = \"upper right\")\n",
    "plt.savefig(\"model_4_no_over.pdf\")\n",
    "plt.show()"
   ]
  },
  {
   "cell_type": "markdown",
   "id": "d9b7df1b",
   "metadata": {
    "papermill": {
     "duration": 0.906696,
     "end_time": "2024-01-09T21:57:16.247494",
     "exception": false,
     "start_time": "2024-01-09T21:57:15.340798",
     "status": "completed"
    },
    "tags": []
   },
   "source": [
    "### Test Model 4 on Validation Set\n",
    "\n",
    "We use our trained model to predict the data in the validation set."
   ]
  },
  {
   "cell_type": "code",
   "execution_count": 34,
   "id": "5916a291",
   "metadata": {
    "execution": {
     "iopub.execute_input": "2024-01-09T21:57:18.012882Z",
     "iopub.status.busy": "2024-01-09T21:57:18.012480Z",
     "iopub.status.idle": "2024-01-09T21:57:49.812201Z",
     "shell.execute_reply": "2024-01-09T21:57:49.811271Z"
    },
    "papermill": {
     "duration": 33.534405,
     "end_time": "2024-01-09T21:57:50.707963",
     "exception": false,
     "start_time": "2024-01-09T21:57:17.173558",
     "status": "completed"
    },
    "tags": []
   },
   "outputs": [
    {
     "name": "stdout",
     "output_type": "stream",
     "text": [
      "40/40 [==============================] - 1s 14ms/step\n",
      "Q3 Accuracy: 0.5879604816436768\n"
     ]
    }
   ],
   "source": [
    "# Predict validation set\n",
    "preds = model_4.predict(X_val)\n",
    "print(f\"Q3 Accuracy: {q3_num(q3_acc(y_val_hot, preds))}\")"
   ]
  },
  {
   "cell_type": "markdown",
   "id": "e0b74a87",
   "metadata": {
    "papermill": {
     "duration": 0.827927,
     "end_time": "2024-01-09T21:57:52.356922",
     "exception": false,
     "start_time": "2024-01-09T21:57:51.528995",
     "status": "completed"
    },
    "tags": []
   },
   "source": [
    "### Results of Chosen Model (Model 1)\n",
    "\n",
    "We use the model with the best validation set accuracy, which is Model 1. We test this model on the test set. We also compare the results between training on the oversampled data against training on the original data. The oversampled data training can be found in the relevant notebook, in the Github repository."
   ]
  },
  {
   "cell_type": "code",
   "execution_count": 35,
   "id": "67bc9145",
   "metadata": {
    "execution": {
     "iopub.execute_input": "2024-01-09T21:57:54.147849Z",
     "iopub.status.busy": "2024-01-09T21:57:54.146880Z",
     "iopub.status.idle": "2024-01-09T21:57:55.352755Z",
     "shell.execute_reply": "2024-01-09T21:57:55.351919Z"
    },
    "papermill": {
     "duration": 2.066558,
     "end_time": "2024-01-09T21:57:55.354935",
     "exception": false,
     "start_time": "2024-01-09T21:57:53.288377",
     "status": "completed"
    },
    "tags": []
   },
   "outputs": [
    {
     "name": "stdout",
     "output_type": "stream",
     "text": [
      "80/80 [==============================] - 1s 13ms/step\n"
     ]
    }
   ],
   "source": [
    "# Predict test set\n",
    "y_pred1 = model_1.predict(X_test)"
   ]
  },
  {
   "cell_type": "code",
   "execution_count": 36,
   "id": "dc308cfd",
   "metadata": {
    "execution": {
     "iopub.execute_input": "2024-01-09T21:57:57.077793Z",
     "iopub.status.busy": "2024-01-09T21:57:57.077414Z",
     "iopub.status.idle": "2024-01-09T21:59:00.707786Z",
     "shell.execute_reply": "2024-01-09T21:59:00.706860Z"
    },
    "papermill": {
     "duration": 64.962172,
     "end_time": "2024-01-09T21:59:01.141816",
     "exception": false,
     "start_time": "2024-01-09T21:57:56.179644",
     "status": "completed"
    },
    "tags": []
   },
   "outputs": [
    {
     "name": "stdout",
     "output_type": "stream",
     "text": [
      "===== Without Oversampling =====\n",
      "\n",
      "Default Accuracy: 0.7341633935585232\n",
      "Q3 Accuracy: 0.585936427116394\n",
      "\n",
      "               precision    recall  f1-score   support\n",
      "\n",
      "     Padding   0.947087  1.000000  0.972825     91142\n",
      "           C   0.647081  0.697525  0.671357     80377\n",
      "           H   0.581939  0.553263  0.567239     53940\n",
      "           E   0.482755  0.338629  0.398048     29141\n",
      "\n",
      "    accuracy                       0.734163    254600\n",
      "   macro avg   0.664716  0.647354  0.652367    254600\n",
      "weighted avg   0.721868  0.734163  0.725936    254600\n",
      "\n"
     ]
    },
    {
     "data": {
      "image/png": "[encoded data removed]",
      "text/plain": [
       "<Figure size 640x480 with 2 Axes>"
      ]
     },
     "metadata": {},
     "output_type": "display_data"
    }
   ],
   "source": [
    "from sklearn.metrics import accuracy_score, confusion_matrix, ConfusionMatrixDisplay\n",
    "\n",
    "converted_hot = tf.argmax(y_test_hot, axis = -1).numpy()\n",
    "converted_pred = tf.argmax(y_pred1, axis = -1).numpy()\n",
    "\n",
    "print(\"===== Without Oversampling =====\\n\")\n",
    "\n",
    "# Output useful metrics\n",
    "\n",
    "print(f\"Default Accuracy: {accuracy_score(converted_hot.flatten(), converted_pred.flatten())}\")\n",
    "print(f\"Q3 Accuracy: {q3_num(q3_acc(y_test_hot, y_pred1))}\")\n",
    "print(\"\\n\", classification_report(converted_hot.flatten(), converted_pred.flatten(), target_names = [\"Padding\", \"C\", \"H\", \"E\"], digits = 6))\n",
    "\n",
    "# Create and display confusion matrix\n",
    "\n",
    "cm1 = confusion_matrix(converted_hot.flatten(), converted_pred.flatten())\n",
    "disp1 = ConfusionMatrixDisplay(confusion_matrix = cm1, display_labels = [\"Padding\", \"C\", \"H\", \"E\"])\n",
    "disp1.plot()\n",
    "disp1.figure_.savefig(\"disp1.pdf\")\n",
    "plt.show()"
   ]
  },
  {
   "cell_type": "code",
   "execution_count": null,
   "id": "63c7c8c0",
   "metadata": {
    "papermill": {
     "duration": 0.894663,
     "end_time": "2024-01-09T21:59:02.860215",
     "exception": false,
     "start_time": "2024-01-09T21:59:01.965552",
     "status": "completed"
    },
    "tags": []
   },
   "outputs": [],
   "source": []
  }
 ],
 "metadata": {
  "kaggle": {
   "accelerator": "gpu",
   "dataSources": [
    {
     "datasetId": 4213466,
     "sourceId": 7268634,
     "sourceType": "datasetVersion"
    }
   ],
   "dockerImageVersionId": 30627,
   "isGpuEnabled": true,
   "isInternetEnabled": true,
   "language": "python",
   "sourceType": "notebook"
  },
  "kernelspec": {
   "display_name": "Python 3 (ipykernel)",
   "language": "python",
   "name": "python3"
  },
  "language_info": {
   "codemirror_mode": {
    "name": "ipython",
    "version": 3
   },
   "file_extension": ".py",
   "mimetype": "text/x-python",
   "name": "python",
   "nbconvert_exporter": "python",
   "pygments_lexer": "ipython3",
   "version": "3.10.13"
  },
  "papermill": {
   "default_parameters": {},
   "duration": 2942.044702,
   "end_time": "2024-01-09T21:59:06.967778",
   "environment_variables": {},
   "exception": null,
   "input_path": "__notebook__.ipynb",
   "output_path": "__notebook__.ipynb",
   "parameters": {},
   "start_time": "2024-01-09T21:10:04.923076",
   "version": "2.4.0"
  }
 },
 "nbformat": 4,
 "nbformat_minor": 5
}

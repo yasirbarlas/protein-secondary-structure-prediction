{
 "cells": [
  {
   "cell_type": "markdown",
   "id": "e4a0b861",
   "metadata": {
    "papermill": {
     "duration": 0.014792,
     "end_time": "2024-01-10T01:35:39.236709",
     "exception": false,
     "start_time": "2024-01-10T01:35:39.221917",
     "status": "completed"
    },
    "tags": []
   },
   "source": [
    "# INM701: Neural Networks (Part 2, Oversampled Data)\n",
    "\n",
    "We look at using TensorFlow/Keras to create a neural network that can accurately predict protein secondary structures.\n",
    "\n",
    "This notebook is specifically for the oversampled data.\n",
    "\n",
    "The work presented here is part of the coursework of the INM701 module at City, University of London. The Github repository can be found [here](https://github.com/yasirbarlas/City-INM701)."
   ]
  },
  {
   "cell_type": "markdown",
   "id": "2c9b13ac",
   "metadata": {
    "papermill": {
     "duration": 0.01386,
     "end_time": "2024-01-10T01:35:39.264997",
     "exception": false,
     "start_time": "2024-01-10T01:35:39.251137",
     "status": "completed"
    },
    "tags": []
   },
   "source": [
    "### Import Libraries"
   ]
  },
  {
   "cell_type": "code",
   "execution_count": 1,
   "id": "850a95fc",
   "metadata": {
    "execution": {
     "iopub.execute_input": "2024-01-10T01:35:39.294549Z",
     "iopub.status.busy": "2024-01-10T01:35:39.294194Z",
     "iopub.status.idle": "2024-01-10T01:35:51.158988Z",
     "shell.execute_reply": "2024-01-10T01:35:51.158187Z"
    },
    "papermill": {
     "duration": 11.882798,
     "end_time": "2024-01-10T01:35:51.161807",
     "exception": false,
     "start_time": "2024-01-10T01:35:39.279009",
     "status": "completed"
    },
    "tags": []
   },
   "outputs": [
    {
     "name": "stderr",
     "output_type": "stream",
     "text": [
      "/opt/conda/lib/python3.10/site-packages/scipy/__init__.py:146: UserWarning: A NumPy version >=1.16.5 and <1.23.0 is required for this version of SciPy (detected version 1.24.3\n",
      "  warnings.warn(f\"A NumPy version >={np_minversion} and <{np_maxversion}\"\n"
     ]
    }
   ],
   "source": [
    "# Import Relevant Libraries\n",
    "import os\n",
    "import numpy as np\n",
    "import pandas as pd\n",
    "import random\n",
    "import matplotlib.pyplot as plt\n",
    "import tensorflow as tf\n",
    "\n",
    "# Ignore warnings (making the work easier to read)\n",
    "import warnings\n",
    "warnings.filterwarnings(\"ignore\")"
   ]
  },
  {
   "cell_type": "markdown",
   "id": "6c7bc52a",
   "metadata": {
    "papermill": {
     "duration": 0.014134,
     "end_time": "2024-01-10T01:35:51.190850",
     "exception": false,
     "start_time": "2024-01-10T01:35:51.176716",
     "status": "completed"
    },
    "tags": []
   },
   "source": [
    "### Import Dataset\n",
    "\n",
    "Refer to the 'eda-data-processing.ipynb' workbook for more detail on how this dataset was created."
   ]
  },
  {
   "cell_type": "code",
   "execution_count": 2,
   "id": "c80c4833",
   "metadata": {
    "execution": {
     "iopub.execute_input": "2024-01-10T01:35:51.222693Z",
     "iopub.status.busy": "2024-01-10T01:35:51.222047Z",
     "iopub.status.idle": "2024-01-10T01:35:51.362580Z",
     "shell.execute_reply": "2024-01-10T01:35:51.361640Z"
    },
    "papermill": {
     "duration": 0.158478,
     "end_time": "2024-01-10T01:35:51.364737",
     "exception": false,
     "start_time": "2024-01-10T01:35:51.206259",
     "status": "completed"
    },
    "tags": []
   },
   "outputs": [
    {
     "data": {
      "text/html": [
       "<div>\n",
       "<style scoped>\n",
       "    .dataframe tbody tr th:only-of-type {\n",
       "        vertical-align: middle;\n",
       "    }\n",
       "\n",
       "    .dataframe tbody tr th {\n",
       "        vertical-align: top;\n",
       "    }\n",
       "\n",
       "    .dataframe thead th {\n",
       "        text-align: right;\n",
       "    }\n",
       "</style>\n",
       "<table border=\"1\" class=\"dataframe\">\n",
       "  <thead>\n",
       "    <tr style=\"text-align: right;\">\n",
       "      <th></th>\n",
       "      <th>pdb_id</th>\n",
       "      <th>chain_code</th>\n",
       "      <th>seq</th>\n",
       "      <th>sst8</th>\n",
       "      <th>sst3</th>\n",
       "      <th>len</th>\n",
       "    </tr>\n",
       "  </thead>\n",
       "  <tbody>\n",
       "    <tr>\n",
       "      <th>0</th>\n",
       "      <td>1BXL</td>\n",
       "      <td>B</td>\n",
       "      <td>GQVGRQLAIIGDDINR</td>\n",
       "      <td>CCTTHHHHHHHHHTCC</td>\n",
       "      <td>CCCCHHHHHHHHHCCC</td>\n",
       "      <td>16</td>\n",
       "    </tr>\n",
       "    <tr>\n",
       "      <th>1</th>\n",
       "      <td>1D9K</td>\n",
       "      <td>P</td>\n",
       "      <td>GNSHRGAIEWEGIESG</td>\n",
       "      <td>CCEECCCCCCCCCCCC</td>\n",
       "      <td>CCEECCCCCCCCCCCC</td>\n",
       "      <td>16</td>\n",
       "    </tr>\n",
       "    <tr>\n",
       "      <th>2</th>\n",
       "      <td>1DPU</td>\n",
       "      <td>B</td>\n",
       "      <td>RIQRNKAAALLRLAAR</td>\n",
       "      <td>CCSSHHHHHHHHHHCC</td>\n",
       "      <td>CCCCHHHHHHHHHHCC</td>\n",
       "      <td>16</td>\n",
       "    </tr>\n",
       "    <tr>\n",
       "      <th>3</th>\n",
       "      <td>1DXP</td>\n",
       "      <td>C</td>\n",
       "      <td>KGSVVIVGRIILSGRK</td>\n",
       "      <td>CCCBEEEEEEEECCCC</td>\n",
       "      <td>CCCEEEEEEEEECCCC</td>\n",
       "      <td>16</td>\n",
       "    </tr>\n",
       "    <tr>\n",
       "      <th>4</th>\n",
       "      <td>1EJH</td>\n",
       "      <td>E</td>\n",
       "      <td>KQYDREFLLDFQFMPA</td>\n",
       "      <td>CCCCHHHHHTTSCCCC</td>\n",
       "      <td>CCCCHHHHHCCCCCCC</td>\n",
       "      <td>16</td>\n",
       "    </tr>\n",
       "    <tr>\n",
       "      <th>...</th>\n",
       "      <td>...</td>\n",
       "      <td>...</td>\n",
       "      <td>...</td>\n",
       "      <td>...</td>\n",
       "      <td>...</td>\n",
       "      <td>...</td>\n",
       "    </tr>\n",
       "    <tr>\n",
       "      <th>15267</th>\n",
       "      <td>6UUJ</td>\n",
       "      <td>A</td>\n",
       "      <td>GAMVPEGLAAASAAVEALTARLAAAHASAAPVITAVVPPAADPVSL...</td>\n",
       "      <td>CCCCCSTTHHHHHHHHHHHHHHHHHHHHSHHHHHSCCCSSSSHHHH...</td>\n",
       "      <td>CCCCCCCCHHHHHHHHHHHHHHHHHHHHCHHHHHCCCCCCCCHHHH...</td>\n",
       "      <td>100</td>\n",
       "    </tr>\n",
       "    <tr>\n",
       "      <th>15268</th>\n",
       "      <td>6V7M</td>\n",
       "      <td>A</td>\n",
       "      <td>MKVLWAALLVTFLAGCQAKVEQAVETEPEPELRQQTEWQSGQRWEL...</td>\n",
       "      <td>CCCCCCCCCCCCCCCCCCCCCCCCCCCCCCCCCCCCCCCCCCHHHH...</td>\n",
       "      <td>CCCCCCCCCCCCCCCCCCCCCCCCCCCCCCCCCCCCCCCCCCHHHH...</td>\n",
       "      <td>100</td>\n",
       "    </tr>\n",
       "    <tr>\n",
       "      <th>15269</th>\n",
       "      <td>6VQX</td>\n",
       "      <td>A</td>\n",
       "      <td>MKVPAFFAANILTIEQIIEAINNDGSAMTSAPEIAGYYAWDAATDA...</td>\n",
       "      <td>CCCCSSTTSSCCCHHHHHHHHHTTSCTTSCHHHHHHHHHHHHHHHS...</td>\n",
       "      <td>CCCCCCCCCCCCCHHHHHHHHHCCCCCCCCHHHHHHHHHHHHHHHC...</td>\n",
       "      <td>100</td>\n",
       "    </tr>\n",
       "    <tr>\n",
       "      <th>15270</th>\n",
       "      <td>6XVF</td>\n",
       "      <td>F</td>\n",
       "      <td>RWLEGIRKWYYNAAGFNKLGLMRDDTIHENDDVKEAIRRLPENLYN...</td>\n",
       "      <td>CCTHHHHHHHHHHHCGGGGTCCGGGSBCCCHHHHHHHHTSCHHHHH...</td>\n",
       "      <td>CCCHHHHHHHHHHHCHHHHCCCHHHCECCCHHHHHHHHCCCHHHHH...</td>\n",
       "      <td>100</td>\n",
       "    </tr>\n",
       "    <tr>\n",
       "      <th>15271</th>\n",
       "      <td>6YIE</td>\n",
       "      <td>B</td>\n",
       "      <td>VAKTNSLRRRKLASFLKDFDREVEIRIKQIESDRQNLLKEVDNLYN...</td>\n",
       "      <td>CCCCCCHHHHHHHHHHHHHHHHHHHHHHHHHHHHHHHHHHHHHHHH...</td>\n",
       "      <td>CCCCCCHHHHHHHHHHHHHHHHHHHHHHHHHHHHHHHHHHHHHHHH...</td>\n",
       "      <td>100</td>\n",
       "    </tr>\n",
       "  </tbody>\n",
       "</table>\n",
       "<p>15272 rows × 6 columns</p>\n",
       "</div>"
      ],
      "text/plain": [
       "      pdb_id chain_code                                                seq  \\\n",
       "0       1BXL          B                                   GQVGRQLAIIGDDINR   \n",
       "1       1D9K          P                                   GNSHRGAIEWEGIESG   \n",
       "2       1DPU          B                                   RIQRNKAAALLRLAAR   \n",
       "3       1DXP          C                                   KGSVVIVGRIILSGRK   \n",
       "4       1EJH          E                                   KQYDREFLLDFQFMPA   \n",
       "...      ...        ...                                                ...   \n",
       "15267   6UUJ          A  GAMVPEGLAAASAAVEALTARLAAAHASAAPVITAVVPPAADPVSL...   \n",
       "15268   6V7M          A  MKVLWAALLVTFLAGCQAKVEQAVETEPEPELRQQTEWQSGQRWEL...   \n",
       "15269   6VQX          A  MKVPAFFAANILTIEQIIEAINNDGSAMTSAPEIAGYYAWDAATDA...   \n",
       "15270   6XVF          F  RWLEGIRKWYYNAAGFNKLGLMRDDTIHENDDVKEAIRRLPENLYN...   \n",
       "15271   6YIE          B  VAKTNSLRRRKLASFLKDFDREVEIRIKQIESDRQNLLKEVDNLYN...   \n",
       "\n",
       "                                                    sst8  \\\n",
       "0                                       CCTTHHHHHHHHHTCC   \n",
       "1                                       CCEECCCCCCCCCCCC   \n",
       "2                                       CCSSHHHHHHHHHHCC   \n",
       "3                                       CCCBEEEEEEEECCCC   \n",
       "4                                       CCCCHHHHHTTSCCCC   \n",
       "...                                                  ...   \n",
       "15267  CCCCCSTTHHHHHHHHHHHHHHHHHHHHSHHHHHSCCCSSSSHHHH...   \n",
       "15268  CCCCCCCCCCCCCCCCCCCCCCCCCCCCCCCCCCCCCCCCCCHHHH...   \n",
       "15269  CCCCSSTTSSCCCHHHHHHHHHTTSCTTSCHHHHHHHHHHHHHHHS...   \n",
       "15270  CCTHHHHHHHHHHHCGGGGTCCGGGSBCCCHHHHHHHHTSCHHHHH...   \n",
       "15271  CCCCCCHHHHHHHHHHHHHHHHHHHHHHHHHHHHHHHHHHHHHHHH...   \n",
       "\n",
       "                                                    sst3  len  \n",
       "0                                       CCCCHHHHHHHHHCCC   16  \n",
       "1                                       CCEECCCCCCCCCCCC   16  \n",
       "2                                       CCCCHHHHHHHHHHCC   16  \n",
       "3                                       CCCEEEEEEEEECCCC   16  \n",
       "4                                       CCCCHHHHHCCCCCCC   16  \n",
       "...                                                  ...  ...  \n",
       "15267  CCCCCCCCHHHHHHHHHHHHHHHHHHHHCHHHHHCCCCCCCCHHHH...  100  \n",
       "15268  CCCCCCCCCCCCCCCCCCCCCCCCCCCCCCCCCCCCCCCCCCHHHH...  100  \n",
       "15269  CCCCCCCCCCCCCHHHHHHHHHCCCCCCCCHHHHHHHHHHHHHHHC...  100  \n",
       "15270  CCCHHHHHHHHHHHCHHHHCCCHHHCECCCHHHHHHHHCCCHHHHH...  100  \n",
       "15271  CCCCCCHHHHHHHHHHHHHHHHHHHHHHHHHHHHHHHHHHHHHHHH...  100  \n",
       "\n",
       "[15272 rows x 6 columns]"
      ]
     },
     "execution_count": 2,
     "metadata": {},
     "output_type": "execute_result"
    }
   ],
   "source": [
    "# Create a variable for the path to the directory containing the dataset (and where to work)\n",
    "path = \"/kaggle/input/protein-sequences-16-100\"\n",
    "\n",
    "# Create a variable containing the full path of the dataset\n",
    "dataset = os.path.join(path, \"prot-seq-filtered.csv\")\n",
    "\n",
    "# Create a Pandas DataFrame of the dataset (which is a .csv file)\n",
    "df = pd.read_csv(dataset, delimiter = \",\")\n",
    "\n",
    "df"
   ]
  },
  {
   "cell_type": "markdown",
   "id": "0fad54f6",
   "metadata": {
    "papermill": {
     "duration": 0.01478,
     "end_time": "2024-01-10T01:35:51.394709",
     "exception": false,
     "start_time": "2024-01-10T01:35:51.379929",
     "status": "completed"
    },
    "tags": []
   },
   "source": [
    "### Set Random Seed and $k$-mer Size\n",
    "\n",
    "We choose a seed for reproducibility and a sensible $k$-mer size."
   ]
  },
  {
   "cell_type": "code",
   "execution_count": 3,
   "id": "2758c14e",
   "metadata": {
    "execution": {
     "iopub.execute_input": "2024-01-10T01:35:51.428269Z",
     "iopub.status.busy": "2024-01-10T01:35:51.427423Z",
     "iopub.status.idle": "2024-01-10T01:35:51.432801Z",
     "shell.execute_reply": "2024-01-10T01:35:51.431897Z"
    },
    "papermill": {
     "duration": 0.025121,
     "end_time": "2024-01-10T01:35:51.434729",
     "exception": false,
     "start_time": "2024-01-10T01:35:51.409608",
     "status": "completed"
    },
    "tags": []
   },
   "outputs": [],
   "source": [
    "# k-mer size and seed choice\n",
    "\n",
    "kmer_size = 3\n",
    "randomer = 50\n",
    "\n",
    "# Random Seed\n",
    "random.seed(randomer)\n",
    "np.random.seed(randomer)\n",
    "tf.random.set_seed(randomer)\n",
    "tf.config.experimental.enable_op_determinism()"
   ]
  },
  {
   "cell_type": "markdown",
   "id": "14cf686d",
   "metadata": {
    "papermill": {
     "duration": 0.014687,
     "end_time": "2024-01-10T01:35:51.464922",
     "exception": false,
     "start_time": "2024-01-10T01:35:51.450235",
     "status": "completed"
    },
    "tags": []
   },
   "source": [
    "### Generate $k$-mers\n",
    "We convert our protein sequences in to $k$-mers, making the problem less computationally expensive. The choice of $k$ affects the performance of the model, with higher $k$ likely leading to less accurate models. This accuracy can vary based on much larger datasets, and with longer protein sequences.\n",
    "\n",
    "For example, the 3-mers for \"GQVGRQ\" are:\n",
    "\n",
    "GQV, QVG, VGR, GRQ"
   ]
  },
  {
   "cell_type": "code",
   "execution_count": 4,
   "id": "afa4c18b",
   "metadata": {
    "execution": {
     "iopub.execute_input": "2024-01-10T01:35:51.496893Z",
     "iopub.status.busy": "2024-01-10T01:35:51.496037Z",
     "iopub.status.idle": "2024-01-10T01:35:51.746048Z",
     "shell.execute_reply": "2024-01-10T01:35:51.745073Z"
    },
    "papermill": {
     "duration": 0.268277,
     "end_time": "2024-01-10T01:35:51.748247",
     "exception": false,
     "start_time": "2024-01-10T01:35:51.479970",
     "status": "completed"
    },
    "tags": []
   },
   "outputs": [
    {
     "name": "stdout",
     "output_type": "stream",
     "text": [
      "Maximum Protein Length: 100\n"
     ]
    },
    {
     "data": {
      "text/html": [
       "<div>\n",
       "<style scoped>\n",
       "    .dataframe tbody tr th:only-of-type {\n",
       "        vertical-align: middle;\n",
       "    }\n",
       "\n",
       "    .dataframe tbody tr th {\n",
       "        vertical-align: top;\n",
       "    }\n",
       "\n",
       "    .dataframe thead th {\n",
       "        text-align: right;\n",
       "    }\n",
       "</style>\n",
       "<table border=\"1\" class=\"dataframe\">\n",
       "  <thead>\n",
       "    <tr style=\"text-align: right;\">\n",
       "      <th></th>\n",
       "      <th>pdb_id</th>\n",
       "      <th>chain_code</th>\n",
       "      <th>seq</th>\n",
       "      <th>sst8</th>\n",
       "      <th>sst3</th>\n",
       "      <th>len</th>\n",
       "      <th>kmers</th>\n",
       "    </tr>\n",
       "  </thead>\n",
       "  <tbody>\n",
       "    <tr>\n",
       "      <th>0</th>\n",
       "      <td>1BXL</td>\n",
       "      <td>B</td>\n",
       "      <td>GQVGRQLAIIGDDINR</td>\n",
       "      <td>CCTTHHHHHHHHHTCC</td>\n",
       "      <td>CCCCHHHHHHHHHCCC</td>\n",
       "      <td>16</td>\n",
       "      <td>[GQV, QVG, VGR, GRQ, RQL, QLA, LAI, AII, IIG, ...</td>\n",
       "    </tr>\n",
       "    <tr>\n",
       "      <th>1</th>\n",
       "      <td>1D9K</td>\n",
       "      <td>P</td>\n",
       "      <td>GNSHRGAIEWEGIESG</td>\n",
       "      <td>CCEECCCCCCCCCCCC</td>\n",
       "      <td>CCEECCCCCCCCCCCC</td>\n",
       "      <td>16</td>\n",
       "      <td>[GNS, NSH, SHR, HRG, RGA, GAI, AIE, IEW, EWE, ...</td>\n",
       "    </tr>\n",
       "    <tr>\n",
       "      <th>2</th>\n",
       "      <td>1DPU</td>\n",
       "      <td>B</td>\n",
       "      <td>RIQRNKAAALLRLAAR</td>\n",
       "      <td>CCSSHHHHHHHHHHCC</td>\n",
       "      <td>CCCCHHHHHHHHHHCC</td>\n",
       "      <td>16</td>\n",
       "      <td>[RIQ, IQR, QRN, RNK, NKA, KAA, AAA, AAL, ALL, ...</td>\n",
       "    </tr>\n",
       "    <tr>\n",
       "      <th>3</th>\n",
       "      <td>1DXP</td>\n",
       "      <td>C</td>\n",
       "      <td>KGSVVIVGRIILSGRK</td>\n",
       "      <td>CCCBEEEEEEEECCCC</td>\n",
       "      <td>CCCEEEEEEEEECCCC</td>\n",
       "      <td>16</td>\n",
       "      <td>[KGS, GSV, SVV, VVI, VIV, IVG, VGR, GRI, RII, ...</td>\n",
       "    </tr>\n",
       "    <tr>\n",
       "      <th>4</th>\n",
       "      <td>1EJH</td>\n",
       "      <td>E</td>\n",
       "      <td>KQYDREFLLDFQFMPA</td>\n",
       "      <td>CCCCHHHHHTTSCCCC</td>\n",
       "      <td>CCCCHHHHHCCCCCCC</td>\n",
       "      <td>16</td>\n",
       "      <td>[KQY, QYD, YDR, DRE, REF, EFL, FLL, LLD, LDF, ...</td>\n",
       "    </tr>\n",
       "  </tbody>\n",
       "</table>\n",
       "</div>"
      ],
      "text/plain": [
       "  pdb_id chain_code               seq              sst8              sst3  \\\n",
       "0   1BXL          B  GQVGRQLAIIGDDINR  CCTTHHHHHHHHHTCC  CCCCHHHHHHHHHCCC   \n",
       "1   1D9K          P  GNSHRGAIEWEGIESG  CCEECCCCCCCCCCCC  CCEECCCCCCCCCCCC   \n",
       "2   1DPU          B  RIQRNKAAALLRLAAR  CCSSHHHHHHHHHHCC  CCCCHHHHHHHHHHCC   \n",
       "3   1DXP          C  KGSVVIVGRIILSGRK  CCCBEEEEEEEECCCC  CCCEEEEEEEEECCCC   \n",
       "4   1EJH          E  KQYDREFLLDFQFMPA  CCCCHHHHHTTSCCCC  CCCCHHHHHCCCCCCC   \n",
       "\n",
       "   len                                              kmers  \n",
       "0   16  [GQV, QVG, VGR, GRQ, RQL, QLA, LAI, AII, IIG, ...  \n",
       "1   16  [GNS, NSH, SHR, HRG, RGA, GAI, AIE, IEW, EWE, ...  \n",
       "2   16  [RIQ, IQR, QRN, RNK, NKA, KAA, AAA, AAL, ALL, ...  \n",
       "3   16  [KGS, GSV, SVV, VVI, VIV, IVG, VGR, GRI, RII, ...  \n",
       "4   16  [KQY, QYD, YDR, DRE, REF, EFL, FLL, LLD, LDF, ...  "
      ]
     },
     "execution_count": 4,
     "metadata": {},
     "output_type": "execute_result"
    }
   ],
   "source": [
    "# Define k-mer function (n-gram)\n",
    "def kmers(seq, k = kmer_size):\n",
    "    return ([seq[i:i + k] for i in range(len(seq) - k + 1)])\n",
    "\n",
    "# Apply the k-mer function to the amino acid sequences\n",
    "df[\"kmers\"] = df[\"seq\"].apply(kmers)\n",
    "\n",
    "# Find the maximum length of the sequences (we know from previously processing our dataset that it is 100)\n",
    "maxlen = max(df[\"len\"])\n",
    "print(\"Maximum Protein Length:\", maxlen)\n",
    "\n",
    "df.head()"
   ]
  },
  {
   "cell_type": "markdown",
   "id": "7e3bd5c1",
   "metadata": {
    "papermill": {
     "duration": 0.014878,
     "end_time": "2024-01-10T01:35:51.778836",
     "exception": false,
     "start_time": "2024-01-10T01:35:51.763958",
     "status": "completed"
    },
    "tags": []
   },
   "source": [
    "### Pre-processing and Padding\n",
    "\n",
    "We use the Tokenizer class to transform our protein sequences and secondary structures into sequences of integers, where each integer is an index of a token in a dictionary. A dictionary is made for our 3-mers, and another dictionary is made for our secondary structures. Padding is performed to make the length of each sequence equal."
   ]
  },
  {
   "cell_type": "code",
   "execution_count": 5,
   "id": "2975027e",
   "metadata": {
    "execution": {
     "iopub.execute_input": "2024-01-10T01:35:51.861671Z",
     "iopub.status.busy": "2024-01-10T01:35:51.861297Z",
     "iopub.status.idle": "2024-01-10T01:35:53.863031Z",
     "shell.execute_reply": "2024-01-10T01:35:53.862130Z"
    },
    "papermill": {
     "duration": 2.07185,
     "end_time": "2024-01-10T01:35:53.865707",
     "exception": false,
     "start_time": "2024-01-10T01:35:51.793857",
     "status": "completed"
    },
    "tags": []
   },
   "outputs": [
    {
     "name": "stdout",
     "output_type": "stream",
     "text": [
      "CPU times: user 1.92 s, sys: 28.6 ms, total: 1.95 s\n",
      "Wall time: 1.99 s\n"
     ]
    },
    {
     "data": {
      "text/plain": [
       "((15272, 100), (15272, 100))"
      ]
     },
     "execution_count": 5,
     "metadata": {},
     "output_type": "execute_result"
    }
   ],
   "source": [
    "%%time\n",
    "\n",
    "# We will use functions from Keras to pre-process our data to be used in the model\n",
    "from tensorflow.keras.preprocessing import sequence\n",
    "from tensorflow.keras.preprocessing.text import Tokenizer\n",
    "\n",
    "# Create Tokenizer class for protein sequences, without making them lowercase\n",
    "tok_x = Tokenizer(lower = False)\n",
    "# Fit Tokenizer on protein sequences (k-mers)\n",
    "tok_x.fit_on_texts(df[\"kmers\"].values)\n",
    "# Convert protein sequences into sequence of integers and pad where necessary\n",
    "X = tok_x.texts_to_sequences(df[\"kmers\"].values)\n",
    "X = sequence.pad_sequences(X, maxlen = maxlen, padding = \"post\")\n",
    "\n",
    "# Create Tokenizer class for secondary sequences, and treat every character (element) as a token\n",
    "tok_y = Tokenizer(char_level = True)\n",
    "# Fit Tokenizer on secondary structures\n",
    "tok_y.fit_on_texts(df[\"sst3\"].values)\n",
    "# Convert secondary structures into sequence of integers and pad where necessary\n",
    "y = tok_y.texts_to_sequences(df[\"sst3\"].values)\n",
    "y = sequence.pad_sequences(y, maxlen = maxlen, padding = \"post\")\n",
    "\n",
    "X.shape, y.shape"
   ]
  },
  {
   "cell_type": "markdown",
   "id": "a7b23c24",
   "metadata": {
    "papermill": {
     "duration": 0.015617,
     "end_time": "2024-01-10T01:35:53.901570",
     "exception": false,
     "start_time": "2024-01-10T01:35:53.885953",
     "status": "completed"
    },
    "tags": []
   },
   "source": [
    "### Training, Validation and Test Split\n",
    "\n",
    "We split our dataset into training, validation and test sets, where the training set is used to train the model. The validation set is used to choose a sensible model after it has been trained. The test set is used to test the performance of our final candidate model."
   ]
  },
  {
   "cell_type": "code",
   "execution_count": 6,
   "id": "c80c291d",
   "metadata": {
    "execution": {
     "iopub.execute_input": "2024-01-10T01:35:53.933610Z",
     "iopub.status.busy": "2024-01-10T01:35:53.933016Z",
     "iopub.status.idle": "2024-01-10T01:35:54.591965Z",
     "shell.execute_reply": "2024-01-10T01:35:54.591032Z"
    },
    "papermill": {
     "duration": 0.677556,
     "end_time": "2024-01-10T01:35:54.594261",
     "exception": false,
     "start_time": "2024-01-10T01:35:53.916705",
     "status": "completed"
    },
    "tags": []
   },
   "outputs": [
    {
     "data": {
      "text/plain": [
       "((11454, 100),\n",
       " (11454, 100),\n",
       " (1272, 100),\n",
       " (1272, 100),\n",
       " (2546, 100),\n",
       " (2546, 100))"
      ]
     },
     "execution_count": 6,
     "metadata": {},
     "output_type": "execute_result"
    }
   ],
   "source": [
    "from sklearn.model_selection import train_test_split\n",
    "\n",
    "# Split the data into training, validation and test sets\n",
    "X_train, X_temp, y_train, y_temp = train_test_split(X, y, train_size = 3/4, test_size = 1/4, random_state = randomer)\n",
    "\n",
    "X_val, X_test, y_val, y_test = train_test_split(X_temp, y_temp, train_size = 1/3, test_size = 2/3, random_state = randomer)\n",
    "\n",
    "X_train.shape, y_train.shape, X_val.shape, y_val.shape, X_test.shape, y_test.shape"
   ]
  },
  {
   "cell_type": "code",
   "execution_count": 7,
   "id": "4080259a",
   "metadata": {
    "execution": {
     "iopub.execute_input": "2024-01-10T01:35:54.626614Z",
     "iopub.status.busy": "2024-01-10T01:35:54.626297Z",
     "iopub.status.idle": "2024-01-10T01:35:54.633177Z",
     "shell.execute_reply": "2024-01-10T01:35:54.632318Z"
    },
    "papermill": {
     "duration": 0.025201,
     "end_time": "2024-01-10T01:35:54.635138",
     "exception": false,
     "start_time": "2024-01-10T01:35:54.609937",
     "status": "completed"
    },
    "tags": []
   },
   "outputs": [
    {
     "data": {
      "text/plain": [
       "(array([3272, 2093, 4483,  695,  203, 1554, 2110, 1956, 2856, 3513, 2841,\n",
       "        2369, 1917, 3529, 1159,  110, 1527,  943, 3428, 4868, 4080, 6729,\n",
       "        6249, 6991, 5684, 3603, 2648, 2493, 1682,  621, 1677, 1171, 2116,\n",
       "         692, 1320, 3613, 4117, 4087, 1683, 4427, 2159, 2269, 3387, 2341,\n",
       "        1270,  121,  365,  161, 2364, 2950, 4291, 5756, 4993, 4479, 3168,\n",
       "        3306, 4084, 5154,    0,    0,    0,    0,    0,    0,    0,    0,\n",
       "           0,    0,    0,    0,    0,    0,    0,    0,    0,    0,    0,\n",
       "           0,    0,    0,    0,    0,    0,    0,    0,    0,    0,    0,\n",
       "           0,    0,    0,    0,    0,    0,    0,    0,    0,    0,    0,\n",
       "           0], dtype=int32),\n",
       " array([1, 3, 3, 3, 1, 1, 1, 1, 1, 1, 3, 3, 3, 1, 1, 1, 1, 1, 1, 3, 3, 3,\n",
       "        3, 3, 3, 3, 1, 1, 3, 3, 3, 3, 3, 3, 3, 3, 3, 3, 3, 1, 1, 1, 1, 1,\n",
       "        1, 1, 1, 1, 3, 3, 3, 3, 3, 3, 1, 1, 1, 1, 1, 1, 0, 0, 0, 0, 0, 0,\n",
       "        0, 0, 0, 0, 0, 0, 0, 0, 0, 0, 0, 0, 0, 0, 0, 0, 0, 0, 0, 0, 0, 0,\n",
       "        0, 0, 0, 0, 0, 0, 0, 0, 0, 0, 0, 0], dtype=int32))"
      ]
     },
     "execution_count": 7,
     "metadata": {},
     "output_type": "execute_result"
    }
   ],
   "source": [
    "X_train[0], y_train[0]"
   ]
  },
  {
   "cell_type": "markdown",
   "id": "dddad811",
   "metadata": {
    "papermill": {
     "duration": 0.01518,
     "end_time": "2024-01-10T01:35:54.666140",
     "exception": false,
     "start_time": "2024-01-10T01:35:54.650960",
     "status": "completed"
    },
    "tags": []
   },
   "source": [
    "### Oversampling Method\n",
    "\n",
    "In \"Oversampling 1\", we extract protein sequences where class 3 (E) is the majority class in the corresponding secondary structure. This way, we aren't increasing class 1 (C) at a faster rate, which is the majority class in the overall dataset (see 'eda-data-processing.ipynb' in the repository). There are 24 of these based on our threshold, and we append these to X_train and y_train (with variables now called nx_ar and ny_ar respectively) 350 times.\n",
    "\n",
    "In \"Oversampling 2\", we extract protein sequences where class 2 (H) is the majority class in the corresponding secondary structure. There are 42 of these based on our threshold, and we append these 110 times.\n",
    "\n",
    "In \"Oversampling 3\", we extract protein sequences where class 0 (the padding) is sufficiently high. We do this so that class 0 is not heavily less represented in comparison to the other classes. There are 677 of these based on our threshold, and we append these 3 times.\n",
    "\n",
    "We shuffle the resulting dataset as appropriate."
   ]
  },
  {
   "cell_type": "code",
   "execution_count": 8,
   "id": "a075d0fe",
   "metadata": {
    "execution": {
     "iopub.execute_input": "2024-01-10T01:35:54.698233Z",
     "iopub.status.busy": "2024-01-10T01:35:54.697737Z",
     "iopub.status.idle": "2024-01-10T01:35:54.701527Z",
     "shell.execute_reply": "2024-01-10T01:35:54.700705Z"
    },
    "papermill": {
     "duration": 0.021842,
     "end_time": "2024-01-10T01:35:54.703401",
     "exception": false,
     "start_time": "2024-01-10T01:35:54.681559",
     "status": "completed"
    },
    "tags": []
   },
   "outputs": [],
   "source": [
    "# Duplicate training set\n",
    "nx_ar = X_train\n",
    "ny_ar = y_train"
   ]
  },
  {
   "cell_type": "code",
   "execution_count": 9,
   "id": "7ab6a8fc",
   "metadata": {
    "execution": {
     "iopub.execute_input": "2024-01-10T01:35:54.735655Z",
     "iopub.status.busy": "2024-01-10T01:35:54.735176Z",
     "iopub.status.idle": "2024-01-10T01:36:12.766276Z",
     "shell.execute_reply": "2024-01-10T01:36:12.765238Z"
    },
    "papermill": {
     "duration": 18.049834,
     "end_time": "2024-01-10T01:36:12.768713",
     "exception": false,
     "start_time": "2024-01-10T01:35:54.718879",
     "status": "completed"
    },
    "tags": []
   },
   "outputs": [
    {
     "name": "stdout",
     "output_type": "stream",
     "text": [
      "24\n",
      "(19854, 100) (19854, 100)\n",
      "CPU times: user 10.7 s, sys: 7.37 s, total: 18 s\n",
      "Wall time: 18 s\n"
     ]
    }
   ],
   "source": [
    "%%time\n",
    "\n",
    "# Oversampling 1\n",
    "\n",
    "x_o1 = []\n",
    "y_o1 = []\n",
    "\n",
    "for i, y in enumerate(y_train):\n",
    "    if (np.sum(y == 3) / len(y)) >= 0.6:\n",
    "        x_o1.append(X_train[i])\n",
    "        y_o1.append(y)\n",
    "        \n",
    "print(len(x_o1))\n",
    "\n",
    "for i in range(0, 350):\n",
    "    for i, x in enumerate(x_o1):\n",
    "        nx_ar = np.vstack((nx_ar, x))\n",
    "        ny_ar = np.vstack((ny_ar, y_o1[i]))\n",
    "\n",
    "print(nx_ar.shape, ny_ar.shape)"
   ]
  },
  {
   "cell_type": "code",
   "execution_count": 10,
   "id": "bdaf2b9f",
   "metadata": {
    "execution": {
     "iopub.execute_input": "2024-01-10T01:36:12.802354Z",
     "iopub.status.busy": "2024-01-10T01:36:12.802020Z",
     "iopub.status.idle": "2024-01-10T01:36:38.903146Z",
     "shell.execute_reply": "2024-01-10T01:36:38.902180Z"
    },
    "papermill": {
     "duration": 26.120207,
     "end_time": "2024-01-10T01:36:38.905393",
     "exception": false,
     "start_time": "2024-01-10T01:36:12.785186",
     "status": "completed"
    },
    "tags": []
   },
   "outputs": [
    {
     "name": "stdout",
     "output_type": "stream",
     "text": [
      "42\n",
      "(24474, 100) (24474, 100)\n",
      "CPU times: user 15.7 s, sys: 10.4 s, total: 26.1 s\n",
      "Wall time: 26.1 s\n"
     ]
    }
   ],
   "source": [
    "%%time\n",
    "\n",
    "# Oversampling 2\n",
    "\n",
    "x_o2 = []\n",
    "y_o2 = []\n",
    "\n",
    "for i, y in enumerate(y_train):\n",
    "    if (np.sum(y == 2) / len(y)) >= 0.8:\n",
    "        x_o2.append(X_train[i])\n",
    "        y_o2.append(y)\n",
    "\n",
    "print(len(x_o2))\n",
    "\n",
    "for i in range(0, 110):\n",
    "    for i, x in enumerate(x_o2):\n",
    "        nx_ar = np.vstack((nx_ar, x))\n",
    "        ny_ar = np.vstack((ny_ar, y_o2[i]))\n",
    "\n",
    "print(nx_ar.shape, ny_ar.shape)"
   ]
  },
  {
   "cell_type": "code",
   "execution_count": 11,
   "id": "bb966b06",
   "metadata": {
    "execution": {
     "iopub.execute_input": "2024-01-10T01:36:38.939549Z",
     "iopub.status.busy": "2024-01-10T01:36:38.939233Z",
     "iopub.status.idle": "2024-01-10T01:36:51.796165Z",
     "shell.execute_reply": "2024-01-10T01:36:51.795194Z"
    },
    "papermill": {
     "duration": 12.876435,
     "end_time": "2024-01-10T01:36:51.798388",
     "exception": false,
     "start_time": "2024-01-10T01:36:38.921953",
     "status": "completed"
    },
    "tags": []
   },
   "outputs": [
    {
     "name": "stdout",
     "output_type": "stream",
     "text": [
      "677\n",
      "(26505, 100) (26505, 100)\n",
      "CPU times: user 7.84 s, sys: 5.02 s, total: 12.9 s\n",
      "Wall time: 12.9 s\n"
     ]
    }
   ],
   "source": [
    "%%time\n",
    "\n",
    "# Oversampling 3\n",
    "\n",
    "x_o3 = []\n",
    "y_o3 = []\n",
    "\n",
    "for i, y in enumerate(y_train):\n",
    "    if (np.sum(y == 0) / len(y)) >= 0.8:\n",
    "        x_o3.append(X_train[i])\n",
    "        y_o3.append(y)\n",
    "\n",
    "print(len(x_o3))\n",
    "\n",
    "for i in range(0, 3):\n",
    "    for i, x in enumerate(x_o3):\n",
    "        nx_ar = np.vstack((nx_ar, x))\n",
    "        ny_ar = np.vstack((ny_ar, y_o3[i]))\n",
    "\n",
    "print(nx_ar.shape, ny_ar.shape)"
   ]
  },
  {
   "cell_type": "code",
   "execution_count": 12,
   "id": "8122ffb0",
   "metadata": {
    "execution": {
     "iopub.execute_input": "2024-01-10T01:36:51.834315Z",
     "iopub.status.busy": "2024-01-10T01:36:51.834038Z",
     "iopub.status.idle": "2024-01-10T01:36:51.851189Z",
     "shell.execute_reply": "2024-01-10T01:36:51.850290Z"
    },
    "papermill": {
     "duration": 0.037485,
     "end_time": "2024-01-10T01:36:51.853364",
     "exception": false,
     "start_time": "2024-01-10T01:36:51.815879",
     "status": "completed"
    },
    "tags": []
   },
   "outputs": [
    {
     "data": {
      "text/plain": [
       "(array([[ 937, 2726, 3010, ...,    0,    0,    0],\n",
       "        [5611, 1463,  625, ...,    0,    0,    0],\n",
       "        [3720, 2259, 1591, ...,    0,    0,    0],\n",
       "        ...,\n",
       "        [ 731,    3, 1281, ...,    0,    0,    0],\n",
       "        [1021, 2009, 4556, ...,    0,    0,    0],\n",
       "        [ 817, 1738, 1553, ...,    0,    0,    0]], dtype=int32),\n",
       " array([[1, 1, 1, ..., 0, 0, 0],\n",
       "        [1, 3, 3, ..., 0, 0, 0],\n",
       "        [1, 1, 1, ..., 0, 0, 0],\n",
       "        ...,\n",
       "        [1, 1, 1, ..., 0, 0, 0],\n",
       "        [1, 1, 1, ..., 0, 0, 0],\n",
       "        [1, 1, 1, ..., 0, 0, 0]], dtype=int32))"
      ]
     },
     "execution_count": 12,
     "metadata": {},
     "output_type": "execute_result"
    }
   ],
   "source": [
    "# Repeat seed (if needed)\n",
    "np.random.seed(randomer)\n",
    "\n",
    "# Generate random indices (we want to shuffle our training set)\n",
    "indices = np.random.permutation(len(nx_ar))\n",
    "\n",
    "# Shuffle both arrays using the same indices\n",
    "X_train_new = nx_ar[indices]\n",
    "y_train_new = ny_ar[indices]\n",
    "\n",
    "X_train_new, y_train_new"
   ]
  },
  {
   "cell_type": "code",
   "execution_count": 13,
   "id": "6fb30c2b",
   "metadata": {
    "execution": {
     "iopub.execute_input": "2024-01-10T01:36:51.890738Z",
     "iopub.status.busy": "2024-01-10T01:36:51.890386Z",
     "iopub.status.idle": "2024-01-10T01:36:59.943256Z",
     "shell.execute_reply": "2024-01-10T01:36:59.942225Z"
    },
    "papermill": {
     "duration": 8.073963,
     "end_time": "2024-01-10T01:36:59.945554",
     "exception": false,
     "start_time": "2024-01-10T01:36:51.871591",
     "status": "completed"
    },
    "tags": []
   },
   "outputs": [
    {
     "name": "stdout",
     "output_type": "stream",
     "text": [
      "Without Oversampling:\n",
      "Number in Class 0 : 408388 , 35.65461847389558 %\n",
      "Number in Class 1 : 366060 , 31.959140911471973 %\n",
      "Number in Class 2 : 239124 , 20.876898899947616 %\n",
      "Number in Class 3 : 131828 , 11.509341714684826 %\n",
      "\n",
      "With Oversampling:\n",
      "Number in Class 0 : 649924 , 24.520807394831163 %\n",
      "Number in Class 1 : 705695 , 26.624976419543483 %\n",
      "Number in Class 2 : 645468 , 24.35268817204301 %\n",
      "Number in Class 3 : 649413 , 24.501528013582345 %\n"
     ]
    }
   ],
   "source": [
    "from sklearn.metrics import classification_report\n",
    "\n",
    "# Simple way to find out how many instances there are of each class\n",
    "report1 = classification_report(y_train.flatten(), y_train.flatten(), output_dict = True)\n",
    "report2 = classification_report(y_train_new.flatten(), y_train_new.flatten(), output_dict = True)\n",
    "\n",
    "print(\"Without Oversampling:\")\n",
    "for i in [\"0\",\"1\",\"2\",\"3\"]:\n",
    "    print(\"Number in Class\", i, \":\", report1[i][\"support\"], \",\", report1[i][\"support\"] * 100 / report1[\"weighted avg\"][\"support\"], \"%\")\n",
    "    \n",
    "print(\"\\nWith Oversampling:\")\n",
    "for i in [\"0\",\"1\",\"2\",\"3\"]:\n",
    "    print(\"Number in Class\", i, \":\", report2[i][\"support\"], \",\", report2[i][\"support\"] * 100 / report2[\"weighted avg\"][\"support\"], \"%\")"
   ]
  },
  {
   "cell_type": "code",
   "execution_count": 14,
   "id": "5f358913",
   "metadata": {
    "execution": {
     "iopub.execute_input": "2024-01-10T01:36:59.980452Z",
     "iopub.status.busy": "2024-01-10T01:36:59.980161Z",
     "iopub.status.idle": "2024-01-10T01:36:59.986617Z",
     "shell.execute_reply": "2024-01-10T01:36:59.985746Z"
    },
    "papermill": {
     "duration": 0.025985,
     "end_time": "2024-01-10T01:36:59.988465",
     "exception": false,
     "start_time": "2024-01-10T01:36:59.962480",
     "status": "completed"
    },
    "tags": []
   },
   "outputs": [],
   "source": [
    "from collections import defaultdict\n",
    "\n",
    "# Function to visualise distribution of SST-3/SST-8 (taken from EDA workbook, adapted to arrays)\n",
    "def sst_visualise(array, ss_types, labels, ss_colours, title):\n",
    "    ss_counts = defaultdict(lambda: 0)\n",
    "\n",
    "    for row in array:\n",
    "        for element in row:\n",
    "            ss_counts[element] += 1\n",
    "\n",
    "    plt.bar(range(len(ss_types)), height = [ss_counts[ss] for ss in ss_types], tick_label = labels, edgecolor = \"black\", width = 0.75, zorder = 3, color = ss_colours)\n",
    "    plt.title(title)\n",
    "    plt.xlabel(\"Element\")\n",
    "    plt.ylabel(\"Frequency\")\n",
    "    plt.show()"
   ]
  },
  {
   "cell_type": "code",
   "execution_count": 15,
   "id": "c2229688",
   "metadata": {
    "execution": {
     "iopub.execute_input": "2024-01-10T01:37:00.022957Z",
     "iopub.status.busy": "2024-01-10T01:37:00.022690Z",
     "iopub.status.idle": "2024-01-10T01:37:01.663077Z",
     "shell.execute_reply": "2024-01-10T01:37:01.662145Z"
    },
    "papermill": {
     "duration": 1.659981,
     "end_time": "2024-01-10T01:37:01.665043",
     "exception": false,
     "start_time": "2024-01-10T01:37:00.005062",
     "status": "completed"
    },
    "tags": []
   },
   "outputs": [
    {
     "data": {
      "image/png": "[encoded data removed]",
      "text/plain": [
       "<Figure size 640x480 with 1 Axes>"
      ]
     },
     "metadata": {},
     "output_type": "display_data"
    },
    {
     "data": {
      "image/png": "[encoded data removed]",
      "text/plain": [
       "<Figure size 640x480 with 1 Axes>"
      ]
     },
     "metadata": {},
     "output_type": "display_data"
    }
   ],
   "source": [
    "# Define elements for SST-3 and SST-8, and custom colours\n",
    "ss_types = list(set(np.ravel(y_train)))\n",
    "labels = [\"Padding\", \"C\", \"H\", \"E\"]\n",
    "ss_colours = [\"grey\", \"purple\", \"orange\", \"black\"]\n",
    "\n",
    "# Plot for training set distribution before oversampling\n",
    "sst_visualise(y_train, ss_types, labels, ss_colours, \"Secondary Structure Distribution (Training; Without Oversampling)\")\n",
    "\n",
    "# Plot for training set distribution after oversampling\n",
    "sst_visualise(y_train_new, ss_types, labels, ss_colours, \"Secondary Structure Distribution (Training; With Oversampling)\")"
   ]
  },
  {
   "cell_type": "code",
   "execution_count": 16,
   "id": "1dc95a07",
   "metadata": {
    "execution": {
     "iopub.execute_input": "2024-01-10T01:37:01.703044Z",
     "iopub.status.busy": "2024-01-10T01:37:01.702734Z",
     "iopub.status.idle": "2024-01-10T01:37:01.774484Z",
     "shell.execute_reply": "2024-01-10T01:37:01.773487Z"
    },
    "papermill": {
     "duration": 0.094064,
     "end_time": "2024-01-10T01:37:01.776923",
     "exception": false,
     "start_time": "2024-01-10T01:37:01.682859",
     "status": "completed"
    },
    "tags": []
   },
   "outputs": [],
   "source": [
    "# Perform One-hot Encoding (important for neural networks)\n",
    "\n",
    "from tensorflow.keras.utils import to_categorical\n",
    "\n",
    "y_train_new_hot = to_categorical(y_train_new)\n",
    "y_val_hot = to_categorical(y_val)\n",
    "y_test_hot = to_categorical(y_test)"
   ]
  },
  {
   "cell_type": "markdown",
   "id": "e68fdaea",
   "metadata": {
    "papermill": {
     "duration": 0.017941,
     "end_time": "2024-01-10T01:37:01.812999",
     "exception": false,
     "start_time": "2024-01-10T01:37:01.795058",
     "status": "completed"
    },
    "tags": []
   },
   "source": [
    "### Import Neural Network Functions and Define Q3 Accuracy Metric\n",
    "\n",
    "We are interested in using neural networks for multi-output classification, so we import the relevant functions from TensorFlow. Q3 accuracy is an important metric for assessing the accuracy of our models, as it excludes the padding class in its calculations (it is otherwise equivalent to 'accuracy_score' from scikit-learn)."
   ]
  },
  {
   "cell_type": "code",
   "execution_count": 17,
   "id": "8473ca6b",
   "metadata": {
    "execution": {
     "iopub.execute_input": "2024-01-10T01:37:01.849815Z",
     "iopub.status.busy": "2024-01-10T01:37:01.849219Z",
     "iopub.status.idle": "2024-01-10T01:37:01.855283Z",
     "shell.execute_reply": "2024-01-10T01:37:01.854616Z"
    },
    "papermill": {
     "duration": 0.026528,
     "end_time": "2024-01-10T01:37:01.857123",
     "exception": false,
     "start_time": "2024-01-10T01:37:01.830595",
     "status": "completed"
    },
    "tags": []
   },
   "outputs": [],
   "source": [
    "# Import relevant functions for Neural Networks\n",
    "\n",
    "from tensorflow.keras.layers import Embedding, Dense, Dropout\n",
    "from tensorflow.keras.models import Sequential\n",
    "from tensorflow.keras.callbacks import EarlyStopping"
   ]
  },
  {
   "cell_type": "code",
   "execution_count": 18,
   "id": "136dc010",
   "metadata": {
    "execution": {
     "iopub.execute_input": "2024-01-10T01:37:01.893983Z",
     "iopub.status.busy": "2024-01-10T01:37:01.893277Z",
     "iopub.status.idle": "2024-01-10T01:37:01.898743Z",
     "shell.execute_reply": "2024-01-10T01:37:01.897970Z"
    },
    "papermill": {
     "duration": 0.025633,
     "end_time": "2024-01-10T01:37:01.900528",
     "exception": false,
     "start_time": "2024-01-10T01:37:01.874895",
     "status": "completed"
    },
    "tags": []
   },
   "outputs": [],
   "source": [
    "# Function from KirkDCO on Kaggle (which was made by helme)\n",
    "\n",
    "from keras import backend as K\n",
    "\n",
    "def q3_acc(y_true, y_pred):\n",
    "    y = tf.argmax(y_true, axis=-1)\n",
    "    y_ = tf.argmax(y_pred, axis=-1)\n",
    "    mask = tf.greater(y, 0)\n",
    "    return K.cast(K.equal(tf.boolean_mask(y, mask), tf.boolean_mask(y_, mask)), K.floatx())"
   ]
  },
  {
   "cell_type": "markdown",
   "id": "6a41b0fd",
   "metadata": {
    "papermill": {
     "duration": 0.017333,
     "end_time": "2024-01-10T01:37:01.935237",
     "exception": false,
     "start_time": "2024-01-10T01:37:01.917904",
     "status": "completed"
    },
    "tags": []
   },
   "source": [
    "### Neural Network Model (Model 1, Adam)\n",
    "\n",
    "We describe a neural network model without any regularisation, one hidden layer with the ReLU activation function, and the output layer with the Softmax activation function. The number of epochs is 150, with the batch size and learning rate as 128 and 0.001 respectively. The optimiser used is Adaptive Moment Estimation (Adam)."
   ]
  },
  {
   "cell_type": "markdown",
   "id": "0c0302aa",
   "metadata": {
    "papermill": {
     "duration": 0.017246,
     "end_time": "2024-01-10T01:37:01.969964",
     "exception": false,
     "start_time": "2024-01-10T01:37:01.952718",
     "status": "completed"
    },
    "tags": []
   },
   "source": [
    "#### With Oversampling"
   ]
  },
  {
   "cell_type": "markdown",
   "id": "238b088e",
   "metadata": {
    "papermill": {
     "duration": 0.017174,
     "end_time": "2024-01-10T01:37:02.004645",
     "exception": false,
     "start_time": "2024-01-10T01:37:01.987471",
     "status": "completed"
    },
    "tags": []
   },
   "source": [
    "### Set Hyperparameters"
   ]
  },
  {
   "cell_type": "code",
   "execution_count": 19,
   "id": "15a63498",
   "metadata": {
    "execution": {
     "iopub.execute_input": "2024-01-10T01:37:02.040978Z",
     "iopub.status.busy": "2024-01-10T01:37:02.040412Z",
     "iopub.status.idle": "2024-01-10T01:37:02.045144Z",
     "shell.execute_reply": "2024-01-10T01:37:02.044311Z"
    },
    "papermill": {
     "duration": 0.02516,
     "end_time": "2024-01-10T01:37:02.047096",
     "exception": false,
     "start_time": "2024-01-10T01:37:02.021936",
     "status": "completed"
    },
    "tags": []
   },
   "outputs": [],
   "source": [
    "# Select input and output dimensions (number of 3-mers and number of possible secondary structure elements (3 + padding = 4))\n",
    "\n",
    "n_kmers = len(tok_x.word_index) + 1\n",
    "n_elems = len(tok_y.word_index) + 1\n",
    "\n",
    "# Select number of epochs, batch size, and learning rate\n",
    "n_epochs = 150\n",
    "batch_size = 128\n",
    "learning_rate = 0.001"
   ]
  },
  {
   "cell_type": "markdown",
   "id": "8e8cafb1",
   "metadata": {
    "papermill": {
     "duration": 0.017761,
     "end_time": "2024-01-10T01:37:02.082162",
     "exception": false,
     "start_time": "2024-01-10T01:37:02.064401",
     "status": "completed"
    },
    "tags": []
   },
   "source": [
    "### Define Model 1"
   ]
  },
  {
   "cell_type": "code",
   "execution_count": 20,
   "id": "1f22e832",
   "metadata": {
    "execution": {
     "iopub.execute_input": "2024-01-10T01:37:02.118426Z",
     "iopub.status.busy": "2024-01-10T01:37:02.118104Z",
     "iopub.status.idle": "2024-01-10T01:37:03.119168Z",
     "shell.execute_reply": "2024-01-10T01:37:03.118288Z"
    },
    "papermill": {
     "duration": 1.026031,
     "end_time": "2024-01-10T01:37:03.125609",
     "exception": false,
     "start_time": "2024-01-10T01:37:02.099578",
     "status": "completed"
    },
    "tags": []
   },
   "outputs": [
    {
     "name": "stdout",
     "output_type": "stream",
     "text": [
      "Model: \"sequential\"\n",
      "_________________________________________________________________\n",
      " Layer (type)                Output Shape              Param #   \n",
      "=================================================================\n",
      " embedding (Embedding)       (None, 100, 11454)        91632000  \n",
      "                                                                 \n",
      " dense (Dense)               (None, 100, 1000)         11455000  \n",
      "                                                                 \n",
      " dense_1 (Dense)             (None, 100, 4)            4004      \n",
      "                                                                 \n",
      "=================================================================\n",
      "Total params: 103091004 (393.26 MB)\n",
      "Trainable params: 103091004 (393.26 MB)\n",
      "Non-trainable params: 0 (0.00 Byte)\n",
      "_________________________________________________________________\n"
     ]
    }
   ],
   "source": [
    "# Define a Neural Network model (Model 1)\n",
    "model_1 = Sequential()\n",
    "# Create Embedding layer, which turns our indexes (3-mers) into dense vectors of fixed size - 'output_dim' can be adjusted\n",
    "model_1.add(Embedding(input_dim = n_kmers, output_dim = X_train.shape[0], input_length = maxlen))\n",
    "# Create Dense layer of 1000 nodes (hidden layer), using the ReLU activation function\n",
    "model_1.add(Dense(1000, activation = \"relu\"))\n",
    "# Create Dense layer of 4 nodes, using the Softmax activation function\n",
    "model_1.add((Dense(n_elems, input_dim = y_train_new_hot.shape[2], activation = \"softmax\")))\n",
    "# Display summary of model\n",
    "model_1.summary()"
   ]
  },
  {
   "cell_type": "markdown",
   "id": "eeeb1556",
   "metadata": {
    "papermill": {
     "duration": 0.018883,
     "end_time": "2024-01-10T01:37:03.163628",
     "exception": false,
     "start_time": "2024-01-10T01:37:03.144745",
     "status": "completed"
    },
    "tags": []
   },
   "source": [
    "### Train Model 1\n",
    "\n",
    "We train the neural network on the training data, using the one-hot encoded variable 'y_train_new_hot'. The hyperparameters and model are defined as above. We use EarlyStopping to stop the training if the loss does not improve after 5 epochs."
   ]
  },
  {
   "cell_type": "code",
   "execution_count": 21,
   "id": "baba42c3",
   "metadata": {
    "execution": {
     "iopub.execute_input": "2024-01-10T01:37:03.202642Z",
     "iopub.status.busy": "2024-01-10T01:37:03.202264Z",
     "iopub.status.idle": "2024-01-10T02:00:14.422853Z",
     "shell.execute_reply": "2024-01-10T02:00:14.422040Z"
    },
    "papermill": {
     "duration": 1391.242641,
     "end_time": "2024-01-10T02:00:14.424966",
     "exception": false,
     "start_time": "2024-01-10T01:37:03.182325",
     "status": "completed"
    },
    "tags": []
   },
   "outputs": [
    {
     "name": "stdout",
     "output_type": "stream",
     "text": [
      "Epoch 1/150\n",
      "208/208 [==============================] - 82s 384ms/step - loss: 0.5298 - accuracy: 0.8034 - q3_acc: 0.7395\n",
      "Epoch 2/150\n",
      "208/208 [==============================] - 67s 321ms/step - loss: 0.4994 - accuracy: 0.8106 - q3_acc: 0.7490\n",
      "Epoch 3/150\n",
      "208/208 [==============================] - 62s 300ms/step - loss: 0.4967 - accuracy: 0.8118 - q3_acc: 0.7506\n",
      "Epoch 4/150\n",
      "208/208 [==============================] - 58s 281ms/step - loss: 0.4953 - accuracy: 0.8122 - q3_acc: 0.7512\n",
      "Epoch 5/150\n",
      "208/208 [==============================] - 53s 255ms/step - loss: 0.4951 - accuracy: 0.8125 - q3_acc: 0.7515\n",
      "Epoch 6/150\n",
      "208/208 [==============================] - 50s 241ms/step - loss: 0.4943 - accuracy: 0.8127 - q3_acc: 0.7519\n",
      "Epoch 7/150\n",
      "208/208 [==============================] - 50s 240ms/step - loss: 0.4937 - accuracy: 0.8127 - q3_acc: 0.7518\n",
      "Epoch 8/150\n",
      "208/208 [==============================] - 49s 234ms/step - loss: 0.4936 - accuracy: 0.8129 - q3_acc: 0.7521\n",
      "Epoch 9/150\n",
      "208/208 [==============================] - 49s 233ms/step - loss: 0.4934 - accuracy: 0.8129 - q3_acc: 0.7522\n",
      "Epoch 10/150\n",
      "208/208 [==============================] - 47s 225ms/step - loss: 0.4930 - accuracy: 0.8130 - q3_acc: 0.7522\n",
      "Epoch 11/150\n",
      "208/208 [==============================] - 46s 222ms/step - loss: 0.4929 - accuracy: 0.8131 - q3_acc: 0.7523\n",
      "Epoch 12/150\n",
      "208/208 [==============================] - 47s 227ms/step - loss: 0.4930 - accuracy: 0.8130 - q3_acc: 0.7523\n",
      "Epoch 13/150\n",
      "208/208 [==============================] - 49s 235ms/step - loss: 0.4926 - accuracy: 0.8132 - q3_acc: 0.7525\n",
      "Epoch 14/150\n",
      "208/208 [==============================] - 47s 225ms/step - loss: 0.4928 - accuracy: 0.8131 - q3_acc: 0.7523\n",
      "Epoch 15/150\n",
      "208/208 [==============================] - 46s 223ms/step - loss: 0.4923 - accuracy: 0.8132 - q3_acc: 0.7525\n",
      "Epoch 16/150\n",
      "208/208 [==============================] - 46s 223ms/step - loss: 0.4926 - accuracy: 0.8130 - q3_acc: 0.7523\n",
      "Epoch 17/150\n",
      "208/208 [==============================] - 46s 220ms/step - loss: 0.4923 - accuracy: 0.8131 - q3_acc: 0.7524\n",
      "Epoch 18/150\n",
      "208/208 [==============================] - 45s 217ms/step - loss: 0.4922 - accuracy: 0.8132 - q3_acc: 0.7525\n",
      "Epoch 19/150\n",
      "208/208 [==============================] - 45s 216ms/step - loss: 0.4920 - accuracy: 0.8132 - q3_acc: 0.7525\n",
      "Epoch 20/150\n",
      "208/208 [==============================] - 46s 222ms/step - loss: 0.4925 - accuracy: 0.8131 - q3_acc: 0.7524\n",
      "Epoch 21/150\n",
      "208/208 [==============================] - 45s 218ms/step - loss: 0.4918 - accuracy: 0.8133 - q3_acc: 0.7526\n",
      "Epoch 22/150\n",
      "208/208 [==============================] - 45s 219ms/step - loss: 0.4918 - accuracy: 0.8132 - q3_acc: 0.7526\n",
      "Epoch 23/150\n",
      "208/208 [==============================] - 45s 218ms/step - loss: 0.4917 - accuracy: 0.8133 - q3_acc: 0.7526\n",
      "Epoch 24/150\n",
      "208/208 [==============================] - 45s 218ms/step - loss: 0.4919 - accuracy: 0.8133 - q3_acc: 0.7526\n",
      "Epoch 25/150\n",
      "208/208 [==============================] - 45s 217ms/step - loss: 0.4918 - accuracy: 0.8132 - q3_acc: 0.7526\n",
      "Epoch 26/150\n",
      "208/208 [==============================] - 45s 215ms/step - loss: 0.4917 - accuracy: 0.8133 - q3_acc: 0.7526\n",
      "Epoch 27/150\n",
      "208/208 [==============================] - 44s 213ms/step - loss: 0.4917 - accuracy: 0.8133 - q3_acc: 0.7526\n",
      "Epoch 28/150\n",
      "208/208 [==============================] - 45s 216ms/step - loss: 0.4917 - accuracy: 0.8133 - q3_acc: 0.7527\n",
      "Epoch 28: early stopping\n",
      "CPU times: user 15min 58s, sys: 3min 17s, total: 19min 15s\n",
      "Wall time: 23min 11s\n"
     ]
    }
   ],
   "source": [
    "%%time\n",
    "\n",
    "from tensorflow.keras.optimizers import Adam\n",
    "\n",
    "# Repeat seed (if needed)\n",
    "np.random.seed(randomer)\n",
    "tf.random.set_seed(randomer)\n",
    "tf.config.experimental.enable_op_determinism()\n",
    "\n",
    "# Use 'categorical cross-entropy' loss and the Adam optimiser with set learning rate\n",
    "model_1.compile(loss = \"categorical_crossentropy\", optimizer = Adam(learning_rate = learning_rate), metrics = [\"accuracy\", q3_acc])\n",
    "# Stop training when loss has stopped improving, using EarlyStopping\n",
    "monitor = EarlyStopping(monitor = \"loss\", min_delta = 1e-4, patience = 5, verbose = 1, mode = \"auto\")\n",
    "# Create variable to store loss and accuracy history, and fit the neural network to the training data\n",
    "history_1 = model_1.fit(X_train_new, y_train_new_hot, callbacks = [monitor], batch_size = batch_size, epochs = n_epochs, verbose = 1)"
   ]
  },
  {
   "cell_type": "code",
   "execution_count": 22,
   "id": "67683757",
   "metadata": {
    "execution": {
     "iopub.execute_input": "2024-01-10T02:00:15.411995Z",
     "iopub.status.busy": "2024-01-10T02:00:15.411620Z",
     "iopub.status.idle": "2024-01-10T02:00:19.604074Z",
     "shell.execute_reply": "2024-01-10T02:00:19.603255Z"
    },
    "papermill": {
     "duration": 4.67595,
     "end_time": "2024-01-10T02:00:19.606421",
     "exception": false,
     "start_time": "2024-01-10T02:00:14.930471",
     "status": "completed"
    },
    "tags": []
   },
   "outputs": [],
   "source": [
    "model_1.save(\"model_1_os.keras\")"
   ]
  },
  {
   "cell_type": "code",
   "execution_count": 23,
   "id": "746103ed",
   "metadata": {
    "execution": {
     "iopub.execute_input": "2024-01-10T02:00:20.636766Z",
     "iopub.status.busy": "2024-01-10T02:00:20.636398Z",
     "iopub.status.idle": "2024-01-10T02:00:33.422746Z",
     "shell.execute_reply": "2024-01-10T02:00:33.421842Z"
    },
    "papermill": {
     "duration": 13.275872,
     "end_time": "2024-01-10T02:00:33.425196",
     "exception": false,
     "start_time": "2024-01-10T02:00:20.149324",
     "status": "completed"
    },
    "tags": []
   },
   "outputs": [
    {
     "name": "stdout",
     "output_type": "stream",
     "text": [
      "829/829 [==============================] - 12s 14ms/step - loss: 0.4892 - accuracy: 0.8137 - q3_acc: 0.7532\n",
      "Accuracy: 0.813688337802887\n",
      "Q3 Accuracy: 0.753161609172821\n"
     ]
    },
    {
     "data": {
      "image/png": "[encoded data removed]",
      "text/plain": [
       "<Figure size 640x480 with 2 Axes>"
      ]
     },
     "metadata": {},
     "output_type": "display_data"
    }
   ],
   "source": [
    "# Default and Q3 Accuracy for Model\n",
    "evals = model_1.evaluate(X_train_new, y_train_new_hot)\n",
    "print(\"Accuracy:\", evals[1])\n",
    "print(\"Q3 Accuracy:\", evals[2])\n",
    "\n",
    "# Plot model loss\n",
    "plt.plot(history_1.history[\"loss\"], color = \"red\")\n",
    "plt.title(\"Model Loss/Q3 Accuracy\")\n",
    "plt.ylabel(\"Loss\")\n",
    "plt.xlabel(\"Epoch\")\n",
    "plt.legend([\"Loss\"], loc = \"upper left\")\n",
    "\n",
    "# Plot model Q3 accuracy\n",
    "plt2 = plt.twinx()\n",
    "plt2.plot(history_1.history[\"q3_acc\"])\n",
    "plt.ylabel(\"Q3 Accuracy\")\n",
    "plt2.legend([\"Q3 Accuracy\"], loc = \"upper right\")\n",
    "plt.savefig(\"base_model_over.pdf\")\n",
    "plt.show()"
   ]
  },
  {
   "cell_type": "markdown",
   "id": "ee84e63d",
   "metadata": {
    "papermill": {
     "duration": 0.515162,
     "end_time": "2024-01-10T02:00:34.440992",
     "exception": false,
     "start_time": "2024-01-10T02:00:33.925830",
     "status": "completed"
    },
    "tags": []
   },
   "source": [
    "### Test Model 1 on Validation Set\n",
    "\n",
    "We use our trained model to predict the data in the validation set."
   ]
  },
  {
   "cell_type": "code",
   "execution_count": 24,
   "id": "ec69f80d",
   "metadata": {
    "execution": {
     "iopub.execute_input": "2024-01-10T02:00:35.504936Z",
     "iopub.status.busy": "2024-01-10T02:00:35.504253Z",
     "iopub.status.idle": "2024-01-10T02:01:07.467316Z",
     "shell.execute_reply": "2024-01-10T02:01:07.466336Z"
    },
    "papermill": {
     "duration": 33.013476,
     "end_time": "2024-01-10T02:01:07.967710",
     "exception": false,
     "start_time": "2024-01-10T02:00:34.954234",
     "status": "completed"
    },
    "tags": []
   },
   "outputs": [
    {
     "name": "stdout",
     "output_type": "stream",
     "text": [
      "40/40 [==============================] - 1s 13ms/step\n",
      "Q3 Accuracy: 0.5343899130821228\n",
      "CPU times: user 31.6 s, sys: 22.7 ms, total: 31.6 s\n",
      "Wall time: 32 s\n"
     ]
    }
   ],
   "source": [
    "%%time\n",
    "\n",
    "# Convert Q3 accuracy to NumPy object\n",
    "def q3_num(q3_acc):\n",
    "    return (sum(q3_acc) / q3_acc.shape[0]).numpy()\n",
    "\n",
    "# Predict validation set\n",
    "preds = model_1.predict(X_val)\n",
    "print(f\"Q3 Accuracy: {q3_num(q3_acc(y_val_hot, preds))}\")"
   ]
  },
  {
   "cell_type": "markdown",
   "id": "7281aff0",
   "metadata": {
    "papermill": {
     "duration": 0.49485,
     "end_time": "2024-01-10T02:01:08.963319",
     "exception": false,
     "start_time": "2024-01-10T02:01:08.468469",
     "status": "completed"
    },
    "tags": []
   },
   "source": [
    "### Neural Network Model (Model 2, RMSprop)\n",
    "\n",
    "We use the same model and hyperparameters seen in Model 1, but here we use the Root Mean Squared Propagation (RMSprop) optimiser."
   ]
  },
  {
   "cell_type": "markdown",
   "id": "b928f748",
   "metadata": {
    "papermill": {
     "duration": 0.501391,
     "end_time": "2024-01-10T02:01:09.964144",
     "exception": false,
     "start_time": "2024-01-10T02:01:09.462753",
     "status": "completed"
    },
    "tags": []
   },
   "source": [
    "### Define Model 2"
   ]
  },
  {
   "cell_type": "code",
   "execution_count": 25,
   "id": "1e26081b",
   "metadata": {
    "execution": {
     "iopub.execute_input": "2024-01-10T02:01:11.015871Z",
     "iopub.status.busy": "2024-01-10T02:01:11.015136Z",
     "iopub.status.idle": "2024-01-10T02:01:11.019538Z",
     "shell.execute_reply": "2024-01-10T02:01:11.018660Z"
    },
    "papermill": {
     "duration": 0.502998,
     "end_time": "2024-01-10T02:01:11.021423",
     "exception": false,
     "start_time": "2024-01-10T02:01:10.518425",
     "status": "completed"
    },
    "tags": []
   },
   "outputs": [],
   "source": [
    "model_2 = model_1"
   ]
  },
  {
   "cell_type": "markdown",
   "id": "e2607f1d",
   "metadata": {
    "papermill": {
     "duration": 0.502556,
     "end_time": "2024-01-10T02:01:12.018934",
     "exception": false,
     "start_time": "2024-01-10T02:01:11.516378",
     "status": "completed"
    },
    "tags": []
   },
   "source": [
    "### Train Model 2\n",
    "\n",
    "We train the neural network on the training data, using the one-hot encoded variable 'y_train_new_hot'. The hyperparameters and model are defined as above. We use EarlyStopping to stop the training if the loss does not improve after 5 epochs."
   ]
  },
  {
   "cell_type": "code",
   "execution_count": 26,
   "id": "1abc2e52",
   "metadata": {
    "execution": {
     "iopub.execute_input": "2024-01-10T02:01:13.021205Z",
     "iopub.status.busy": "2024-01-10T02:01:13.020321Z",
     "iopub.status.idle": "2024-01-10T02:10:14.138277Z",
     "shell.execute_reply": "2024-01-10T02:10:14.137291Z"
    },
    "papermill": {
     "duration": 541.620517,
     "end_time": "2024-01-10T02:10:14.140293",
     "exception": false,
     "start_time": "2024-01-10T02:01:12.519776",
     "status": "completed"
    },
    "tags": []
   },
   "outputs": [
    {
     "name": "stdout",
     "output_type": "stream",
     "text": [
      "Epoch 1/150\n",
      "208/208 [==============================] - 74s 349ms/step - loss: 0.4892 - accuracy: 0.8136 - q3_acc: 0.7531\n",
      "Epoch 2/150\n",
      "208/208 [==============================] - 63s 301ms/step - loss: 0.4891 - accuracy: 0.8138 - q3_acc: 0.7533\n",
      "Epoch 3/150\n",
      "208/208 [==============================] - 59s 282ms/step - loss: 0.4890 - accuracy: 0.8137 - q3_acc: 0.7532\n",
      "Epoch 4/150\n",
      "208/208 [==============================] - 56s 268ms/step - loss: 0.4890 - accuracy: 0.8137 - q3_acc: 0.7531\n",
      "Epoch 5/150\n",
      "208/208 [==============================] - 51s 247ms/step - loss: 0.4889 - accuracy: 0.8137 - q3_acc: 0.7532\n",
      "Epoch 6/150\n",
      "208/208 [==============================] - 49s 234ms/step - loss: 0.4889 - accuracy: 0.8137 - q3_acc: 0.7532\n",
      "Epoch 7/150\n",
      "208/208 [==============================] - 49s 234ms/step - loss: 0.4889 - accuracy: 0.8136 - q3_acc: 0.7531\n",
      "Epoch 8/150\n",
      "208/208 [==============================] - 48s 229ms/step - loss: 0.4889 - accuracy: 0.8137 - q3_acc: 0.7532\n",
      "Epoch 9/150\n",
      "208/208 [==============================] - 47s 228ms/step - loss: 0.4889 - accuracy: 0.8137 - q3_acc: 0.7531\n",
      "Epoch 10/150\n",
      "208/208 [==============================] - 46s 222ms/step - loss: 0.4889 - accuracy: 0.8137 - q3_acc: 0.7532\n",
      "Epoch 10: early stopping\n",
      "CPU times: user 6min 19s, sys: 59.5 s, total: 7min 19s\n",
      "Wall time: 9min 1s\n"
     ]
    }
   ],
   "source": [
    "%%time\n",
    "\n",
    "from tensorflow.keras.optimizers import RMSprop\n",
    "\n",
    "# Repeat seed (if needed)\n",
    "np.random.seed(randomer)\n",
    "tf.random.set_seed(randomer)\n",
    "tf.config.experimental.enable_op_determinism()\n",
    "\n",
    "# Use 'categorical cross-entropy' loss and the RMSprop optimiser with set learning rate\n",
    "model_2.compile(loss = \"categorical_crossentropy\", optimizer = RMSprop(learning_rate = learning_rate), metrics = [\"accuracy\", q3_acc])\n",
    "# Stop training when loss has stopped improving, using EarlyStopping\n",
    "monitor = EarlyStopping(monitor = \"loss\", min_delta = 1e-4, patience = 5, verbose = 1, mode = \"auto\")\n",
    "# Create variable to store loss and accuracy history, and fit the neural network to the training data\n",
    "history_2 = model_2.fit(X_train_new, y_train_new_hot, callbacks = [monitor], batch_size = batch_size, epochs = n_epochs, verbose = 1)"
   ]
  },
  {
   "cell_type": "code",
   "execution_count": 27,
   "id": "26724416",
   "metadata": {
    "execution": {
     "iopub.execute_input": "2024-01-10T02:10:15.539033Z",
     "iopub.status.busy": "2024-01-10T02:10:15.538667Z",
     "iopub.status.idle": "2024-01-10T02:10:38.635999Z",
     "shell.execute_reply": "2024-01-10T02:10:38.634993Z"
    },
    "papermill": {
     "duration": 23.771244,
     "end_time": "2024-01-10T02:10:38.638453",
     "exception": false,
     "start_time": "2024-01-10T02:10:14.867209",
     "status": "completed"
    },
    "tags": []
   },
   "outputs": [],
   "source": [
    "model_2.save(\"model_2_os.keras\")"
   ]
  },
  {
   "cell_type": "code",
   "execution_count": 28,
   "id": "2b8eed8c",
   "metadata": {
    "execution": {
     "iopub.execute_input": "2024-01-10T02:10:40.051543Z",
     "iopub.status.busy": "2024-01-10T02:10:40.050819Z",
     "iopub.status.idle": "2024-01-10T02:10:52.924499Z",
     "shell.execute_reply": "2024-01-10T02:10:52.923578Z"
    },
    "papermill": {
     "duration": 13.548604,
     "end_time": "2024-01-10T02:10:52.926958",
     "exception": false,
     "start_time": "2024-01-10T02:10:39.378354",
     "status": "completed"
    },
    "tags": []
   },
   "outputs": [
    {
     "name": "stdout",
     "output_type": "stream",
     "text": [
      "829/829 [==============================] - 12s 14ms/step - loss: 0.4918 - accuracy: 0.8136 - q3_acc: 0.7530\n",
      "Accuracy: 0.8135974407196045\n",
      "Q3 Accuracy: 0.75304114818573\n"
     ]
    },
    {
     "data": {
      "image/png": "[encoded data removed]",
      "text/plain": [
       "<Figure size 640x480 with 2 Axes>"
      ]
     },
     "metadata": {},
     "output_type": "display_data"
    }
   ],
   "source": [
    "# Default and Q3 Accuracy for Model\n",
    "evals = model_2.evaluate(X_train_new, y_train_new_hot)\n",
    "print(\"Accuracy:\", evals[1])\n",
    "print(\"Q3 Accuracy:\", evals[2])\n",
    "\n",
    "# Plot model loss\n",
    "plt.plot(history_2.history[\"loss\"], color = \"red\")\n",
    "plt.title(\"Model Loss/Q3 Accuracy\")\n",
    "plt.ylabel(\"Loss\")\n",
    "plt.xlabel(\"Epoch\")\n",
    "plt.legend([\"Loss\"], loc = \"upper left\")\n",
    "\n",
    "# Plot model Q3 accuracy\n",
    "plt2 = plt.twinx()\n",
    "plt2.plot(history_2.history[\"q3_acc\"])\n",
    "plt.ylabel(\"Q3 Accuracy\")\n",
    "plt2.legend([\"Q3 Accuracy\"], loc = \"upper right\")\n",
    "plt.savefig(\"model_2_over.pdf\")\n",
    "plt.show()"
   ]
  },
  {
   "cell_type": "markdown",
   "id": "1f9c2bbe",
   "metadata": {
    "papermill": {
     "duration": 0.686464,
     "end_time": "2024-01-10T02:10:54.301375",
     "exception": false,
     "start_time": "2024-01-10T02:10:53.614911",
     "status": "completed"
    },
    "tags": []
   },
   "source": [
    "### Test Model 2 on Validation Set\n",
    "\n",
    "We use our trained model to predict the data in the validation set."
   ]
  },
  {
   "cell_type": "code",
   "execution_count": 29,
   "id": "e87928a5",
   "metadata": {
    "execution": {
     "iopub.execute_input": "2024-01-10T02:10:55.768120Z",
     "iopub.status.busy": "2024-01-10T02:10:55.767757Z",
     "iopub.status.idle": "2024-01-10T02:11:28.330540Z",
     "shell.execute_reply": "2024-01-10T02:11:28.329551Z"
    },
    "papermill": {
     "duration": 33.943252,
     "end_time": "2024-01-10T02:11:29.019444",
     "exception": false,
     "start_time": "2024-01-10T02:10:55.076192",
     "status": "completed"
    },
    "tags": []
   },
   "outputs": [
    {
     "name": "stdout",
     "output_type": "stream",
     "text": [
      "40/40 [==============================] - 1s 13ms/step\n",
      "Q3 Accuracy: 0.5341439843177795\n"
     ]
    }
   ],
   "source": [
    "# Predict validation set\n",
    "preds = model_2.predict(X_val)\n",
    "print(f\"Q3 Accuracy: {q3_num(q3_acc(y_val_hot, preds))}\")"
   ]
  },
  {
   "cell_type": "markdown",
   "id": "4c8b5454",
   "metadata": {
    "papermill": {
     "duration": 0.691349,
     "end_time": "2024-01-10T02:11:30.452828",
     "exception": false,
     "start_time": "2024-01-10T02:11:29.761479",
     "status": "completed"
    },
    "tags": []
   },
   "source": [
    "### Neural Network Model (Model 3, Adam)\n",
    "\n",
    "We describe a neural network model without any regularisation, two hidden layers with the ReLU activation function, and the output layer with the Softmax activation function. The other hyperparameters remain the same. The optimiser used is Adam, which provided better results in the comparison of the two models above (Model 1 and Model 2). Notice that the difference in performance of the two optimisers is quite small."
   ]
  },
  {
   "cell_type": "markdown",
   "id": "8cac1f18",
   "metadata": {
    "papermill": {
     "duration": 0.748985,
     "end_time": "2024-01-10T02:11:31.892447",
     "exception": false,
     "start_time": "2024-01-10T02:11:31.143462",
     "status": "completed"
    },
    "tags": []
   },
   "source": [
    "### Define Model 3"
   ]
  },
  {
   "cell_type": "code",
   "execution_count": 30,
   "id": "62b9bd58",
   "metadata": {
    "execution": {
     "iopub.execute_input": "2024-01-10T02:11:33.289788Z",
     "iopub.status.busy": "2024-01-10T02:11:33.289407Z",
     "iopub.status.idle": "2024-01-10T02:11:33.401422Z",
     "shell.execute_reply": "2024-01-10T02:11:33.400393Z"
    },
    "papermill": {
     "duration": 0.811953,
     "end_time": "2024-01-10T02:11:33.404022",
     "exception": false,
     "start_time": "2024-01-10T02:11:32.592069",
     "status": "completed"
    },
    "tags": []
   },
   "outputs": [
    {
     "name": "stdout",
     "output_type": "stream",
     "text": [
      "Model: \"sequential_1\"\n",
      "_________________________________________________________________\n",
      " Layer (type)                Output Shape              Param #   \n",
      "=================================================================\n",
      " embedding_1 (Embedding)     (None, 100, 11454)        91632000  \n",
      "                                                                 \n",
      " dense_2 (Dense)             (None, 100, 1000)         11455000  \n",
      "                                                                 \n",
      " dense_3 (Dense)             (None, 100, 1000)         1001000   \n",
      "                                                                 \n",
      " dense_4 (Dense)             (None, 100, 4)            4004      \n",
      "                                                                 \n",
      "=================================================================\n",
      "Total params: 104092004 (397.08 MB)\n",
      "Trainable params: 104092004 (397.08 MB)\n",
      "Non-trainable params: 0 (0.00 Byte)\n",
      "_________________________________________________________________\n"
     ]
    }
   ],
   "source": [
    "# Define a Neural Network model (Model 3)\n",
    "model_3 = Sequential()\n",
    "# Create Embedding layer, which turns our indexes (3-mers) into dense vectors of fixed size - 'output_dim' can be adjusted\n",
    "model_3.add(Embedding(input_dim = n_kmers, output_dim = X_train.shape[0], input_length = maxlen))\n",
    "# Create Dense layer of 1000 nodes (hidden layer), using the ReLU activation function\n",
    "model_3.add(Dense(1000, activation = \"relu\"))\n",
    "# Create Dense layer of 1000 nodes (hidden layer), using the ReLU activation function\n",
    "model_3.add(Dense(1000, activation = \"relu\"))\n",
    "# Create Dense layer of 4 nodes, using the Softmax activation function\n",
    "model_3.add((Dense(n_elems, input_dim = y_train_new_hot.shape[2], activation = \"softmax\")))\n",
    "# Display summary of model\n",
    "model_3.summary()"
   ]
  },
  {
   "cell_type": "markdown",
   "id": "f91427c0",
   "metadata": {
    "papermill": {
     "duration": 0.785448,
     "end_time": "2024-01-10T02:11:34.885499",
     "exception": false,
     "start_time": "2024-01-10T02:11:34.100051",
     "status": "completed"
    },
    "tags": []
   },
   "source": [
    "### Train Model 3\n",
    "\n",
    "We train the neural network on the training data, using the one-hot encoded variable 'y_train_new_hot'. The hyperparameters and model are defined as above. We use EarlyStopping to stop the training if the loss does not improve after 5 epochs."
   ]
  },
  {
   "cell_type": "code",
   "execution_count": 31,
   "id": "4b8d81a7",
   "metadata": {
    "execution": {
     "iopub.execute_input": "2024-01-10T02:11:36.270167Z",
     "iopub.status.busy": "2024-01-10T02:11:36.269409Z",
     "iopub.status.idle": "2024-01-10T02:50:53.843618Z",
     "shell.execute_reply": "2024-01-10T02:50:53.842572Z"
    },
    "papermill": {
     "duration": 2358.267595,
     "end_time": "2024-01-10T02:50:53.845649",
     "exception": false,
     "start_time": "2024-01-10T02:11:35.578054",
     "status": "completed"
    },
    "tags": []
   },
   "outputs": [
    {
     "name": "stdout",
     "output_type": "stream",
     "text": [
      "Epoch 1/150\n",
      "208/208 [==============================] - 71s 333ms/step - loss: 0.5376 - accuracy: 0.7990 - q3_acc: 0.7402\n",
      "Epoch 2/150\n",
      "208/208 [==============================] - 61s 292ms/step - loss: 0.4996 - accuracy: 0.8107 - q3_acc: 0.7492\n",
      "Epoch 3/150\n",
      "208/208 [==============================] - 58s 279ms/step - loss: 0.4967 - accuracy: 0.8118 - q3_acc: 0.7507\n",
      "Epoch 4/150\n",
      "208/208 [==============================] - 56s 268ms/step - loss: 0.4960 - accuracy: 0.8121 - q3_acc: 0.7510\n",
      "Epoch 5/150\n",
      "208/208 [==============================] - 52s 252ms/step - loss: 0.4954 - accuracy: 0.8123 - q3_acc: 0.7513\n",
      "Epoch 6/150\n",
      "208/208 [==============================] - 50s 242ms/step - loss: 0.4944 - accuracy: 0.8126 - q3_acc: 0.7517\n",
      "Epoch 7/150\n",
      "208/208 [==============================] - 50s 242ms/step - loss: 0.4938 - accuracy: 0.8127 - q3_acc: 0.7518\n",
      "Epoch 8/150\n",
      "208/208 [==============================] - 50s 238ms/step - loss: 0.4937 - accuracy: 0.8128 - q3_acc: 0.7519\n",
      "Epoch 9/150\n",
      "208/208 [==============================] - 49s 237ms/step - loss: 0.4935 - accuracy: 0.8129 - q3_acc: 0.7521\n",
      "Epoch 10/150\n",
      "208/208 [==============================] - 48s 233ms/step - loss: 0.4929 - accuracy: 0.8130 - q3_acc: 0.7522\n",
      "Epoch 11/150\n",
      "208/208 [==============================] - 48s 232ms/step - loss: 0.4928 - accuracy: 0.8130 - q3_acc: 0.7522\n",
      "Epoch 12/150\n",
      "208/208 [==============================] - 49s 234ms/step - loss: 0.4927 - accuracy: 0.8131 - q3_acc: 0.7523\n",
      "Epoch 13/150\n",
      "208/208 [==============================] - 49s 237ms/step - loss: 0.4924 - accuracy: 0.8132 - q3_acc: 0.7525\n",
      "Epoch 14/150\n",
      "208/208 [==============================] - 49s 233ms/step - loss: 0.4927 - accuracy: 0.8131 - q3_acc: 0.7523\n",
      "Epoch 15/150\n",
      "208/208 [==============================] - 48s 231ms/step - loss: 0.4922 - accuracy: 0.8131 - q3_acc: 0.7524\n",
      "Epoch 16/150\n",
      "208/208 [==============================] - 48s 232ms/step - loss: 0.4924 - accuracy: 0.8131 - q3_acc: 0.7524\n",
      "Epoch 17/150\n",
      "208/208 [==============================] - 48s 231ms/step - loss: 0.4921 - accuracy: 0.8132 - q3_acc: 0.7525\n",
      "Epoch 18/150\n",
      "208/208 [==============================] - 48s 229ms/step - loss: 0.4918 - accuracy: 0.8132 - q3_acc: 0.7525\n",
      "Epoch 19/150\n",
      "208/208 [==============================] - 47s 226ms/step - loss: 0.4917 - accuracy: 0.8132 - q3_acc: 0.7526\n",
      "Epoch 20/150\n",
      "208/208 [==============================] - 48s 229ms/step - loss: 0.4921 - accuracy: 0.8131 - q3_acc: 0.7524\n",
      "Epoch 21/150\n",
      "208/208 [==============================] - 47s 226ms/step - loss: 0.4916 - accuracy: 0.8133 - q3_acc: 0.7526\n",
      "Epoch 22/150\n",
      "208/208 [==============================] - 48s 228ms/step - loss: 0.4914 - accuracy: 0.8134 - q3_acc: 0.7528\n",
      "Epoch 23/150\n",
      "208/208 [==============================] - 47s 227ms/step - loss: 0.4914 - accuracy: 0.8133 - q3_acc: 0.7526\n",
      "Epoch 24/150\n",
      "208/208 [==============================] - 47s 227ms/step - loss: 0.4917 - accuracy: 0.8133 - q3_acc: 0.7526\n",
      "Epoch 25/150\n",
      "208/208 [==============================] - 47s 228ms/step - loss: 0.4914 - accuracy: 0.8133 - q3_acc: 0.7527\n",
      "Epoch 26/150\n",
      "208/208 [==============================] - 47s 226ms/step - loss: 0.4912 - accuracy: 0.8134 - q3_acc: 0.7527\n",
      "Epoch 27/150\n",
      "208/208 [==============================] - 47s 225ms/step - loss: 0.4913 - accuracy: 0.8133 - q3_acc: 0.7527\n",
      "Epoch 28/150\n",
      "208/208 [==============================] - 47s 227ms/step - loss: 0.4912 - accuracy: 0.8133 - q3_acc: 0.7527\n",
      "Epoch 29/150\n",
      "208/208 [==============================] - 48s 230ms/step - loss: 0.4910 - accuracy: 0.8132 - q3_acc: 0.7526\n",
      "Epoch 30/150\n",
      "208/208 [==============================] - 48s 232ms/step - loss: 0.4908 - accuracy: 0.8134 - q3_acc: 0.7527\n",
      "Epoch 31/150\n",
      "208/208 [==============================] - 48s 230ms/step - loss: 0.4909 - accuracy: 0.8134 - q3_acc: 0.7528\n",
      "Epoch 32/150\n",
      "208/208 [==============================] - 47s 228ms/step - loss: 0.4908 - accuracy: 0.8134 - q3_acc: 0.7528\n",
      "Epoch 33/150\n",
      "208/208 [==============================] - 48s 229ms/step - loss: 0.4908 - accuracy: 0.8134 - q3_acc: 0.7528\n",
      "Epoch 34/150\n",
      "208/208 [==============================] - 48s 232ms/step - loss: 0.4906 - accuracy: 0.8135 - q3_acc: 0.7529\n",
      "Epoch 35/150\n",
      "208/208 [==============================] - 47s 228ms/step - loss: 0.4908 - accuracy: 0.8134 - q3_acc: 0.7528\n",
      "Epoch 36/150\n",
      "208/208 [==============================] - 48s 230ms/step - loss: 0.4906 - accuracy: 0.8134 - q3_acc: 0.7528\n",
      "Epoch 37/150\n",
      "208/208 [==============================] - 47s 226ms/step - loss: 0.4906 - accuracy: 0.8135 - q3_acc: 0.7529\n",
      "Epoch 38/150\n",
      "208/208 [==============================] - 48s 231ms/step - loss: 0.4904 - accuracy: 0.8135 - q3_acc: 0.7529\n",
      "Epoch 39/150\n",
      "208/208 [==============================] - 48s 228ms/step - loss: 0.4904 - accuracy: 0.8135 - q3_acc: 0.7529\n",
      "Epoch 40/150\n",
      "208/208 [==============================] - 48s 229ms/step - loss: 0.4903 - accuracy: 0.8135 - q3_acc: 0.7529\n",
      "Epoch 41/150\n",
      "208/208 [==============================] - 48s 229ms/step - loss: 0.4903 - accuracy: 0.8134 - q3_acc: 0.7528\n",
      "Epoch 42/150\n",
      "208/208 [==============================] - 48s 230ms/step - loss: 0.4905 - accuracy: 0.8134 - q3_acc: 0.7528\n",
      "Epoch 43/150\n",
      "208/208 [==============================] - 48s 229ms/step - loss: 0.4900 - accuracy: 0.8136 - q3_acc: 0.7530\n",
      "Epoch 44/150\n",
      "208/208 [==============================] - 47s 226ms/step - loss: 0.4902 - accuracy: 0.8136 - q3_acc: 0.7530\n",
      "Epoch 45/150\n",
      "208/208 [==============================] - 47s 226ms/step - loss: 0.4902 - accuracy: 0.8134 - q3_acc: 0.7528\n",
      "Epoch 46/150\n",
      "208/208 [==============================] - 47s 228ms/step - loss: 0.4901 - accuracy: 0.8135 - q3_acc: 0.7530\n",
      "Epoch 47/150\n",
      "208/208 [==============================] - 48s 230ms/step - loss: 0.4901 - accuracy: 0.8135 - q3_acc: 0.7529\n",
      "Epoch 48/150\n",
      "208/208 [==============================] - 48s 230ms/step - loss: 0.4900 - accuracy: 0.8135 - q3_acc: 0.7530\n",
      "Epoch 48: early stopping\n",
      "CPU times: user 27min 10s, sys: 6min 21s, total: 33min 32s\n",
      "Wall time: 39min 17s\n"
     ]
    }
   ],
   "source": [
    "%%time\n",
    "\n",
    "# Repeat seed (if needed)\n",
    "np.random.seed(randomer)\n",
    "tf.random.set_seed(randomer)\n",
    "tf.config.experimental.enable_op_determinism()\n",
    "\n",
    "# Use 'categorical cross-entropy' loss and the Adam optimiser with set learning rate\n",
    "model_3.compile(loss = \"categorical_crossentropy\", optimizer = Adam(learning_rate = learning_rate), metrics = [\"accuracy\", q3_acc])\n",
    "# Stop training when loss has stopped improving, using EarlyStopping\n",
    "monitor = EarlyStopping(monitor = \"loss\", min_delta = 1e-4, patience = 5, verbose = 1, mode = \"auto\")\n",
    "# Create variable to store loss and accuracy history, and fit the neural network to the training data\n",
    "history_3 = model_3.fit(X_train_new, y_train_new_hot, callbacks = [monitor], batch_size = batch_size, epochs = n_epochs, verbose = 1)"
   ]
  },
  {
   "cell_type": "code",
   "execution_count": 32,
   "id": "0978e7fe",
   "metadata": {
    "execution": {
     "iopub.execute_input": "2024-01-10T02:50:56.977276Z",
     "iopub.status.busy": "2024-01-10T02:50:56.976623Z",
     "iopub.status.idle": "2024-01-10T02:51:01.258815Z",
     "shell.execute_reply": "2024-01-10T02:51:01.257568Z"
    },
    "papermill": {
     "duration": 5.885617,
     "end_time": "2024-01-10T02:51:01.261265",
     "exception": false,
     "start_time": "2024-01-10T02:50:55.375648",
     "status": "completed"
    },
    "tags": []
   },
   "outputs": [],
   "source": [
    "model_3.save(\"model_3_os.keras\")"
   ]
  },
  {
   "cell_type": "code",
   "execution_count": 33,
   "id": "f1543014",
   "metadata": {
    "execution": {
     "iopub.execute_input": "2024-01-10T02:51:04.349834Z",
     "iopub.status.busy": "2024-01-10T02:51:04.349080Z",
     "iopub.status.idle": "2024-01-10T02:51:18.712593Z",
     "shell.execute_reply": "2024-01-10T02:51:18.711658Z"
    },
    "papermill": {
     "duration": 15.872012,
     "end_time": "2024-01-10T02:51:18.714943",
     "exception": false,
     "start_time": "2024-01-10T02:51:02.842931",
     "status": "completed"
    },
    "tags": []
   },
   "outputs": [
    {
     "name": "stdout",
     "output_type": "stream",
     "text": [
      "829/829 [==============================] - 14s 16ms/step - loss: 0.4882 - accuracy: 0.8139 - q3_acc: 0.7534\n",
      "Accuracy: 0.8138615489006042\n",
      "Q3 Accuracy: 0.7533910274505615\n"
     ]
    },
    {
     "data": {
      "image/png": "[encoded data removed]",
      "text/plain": [
       "<Figure size 640x480 with 2 Axes>"
      ]
     },
     "metadata": {},
     "output_type": "display_data"
    }
   ],
   "source": [
    "# Default and Q3 Accuracy for Model\n",
    "evals = model_3.evaluate(X_train_new, y_train_new_hot)\n",
    "print(\"Accuracy:\", evals[1])\n",
    "print(\"Q3 Accuracy:\", evals[2])\n",
    "\n",
    "# Plot model loss\n",
    "plt.plot(history_3.history[\"loss\"], color = \"red\")\n",
    "plt.title(\"Model Loss/Q3 Accuracy\")\n",
    "plt.ylabel(\"Loss\")\n",
    "plt.xlabel(\"Epoch\")\n",
    "plt.legend([\"Loss\"], loc = \"upper left\")\n",
    "\n",
    "# Plot model Q3 accuracy\n",
    "plt2 = plt.twinx()\n",
    "plt2.plot(history_3.history[\"q3_acc\"])\n",
    "plt.ylabel(\"Q3 Accuracy\")\n",
    "plt2.legend([\"Q3 Accuracy\"], loc = \"upper right\")\n",
    "plt.savefig(\"model_3_over.pdf\")\n",
    "plt.show()"
   ]
  },
  {
   "cell_type": "markdown",
   "id": "7af38f76",
   "metadata": {
    "papermill": {
     "duration": 1.616519,
     "end_time": "2024-01-10T02:51:21.947752",
     "exception": false,
     "start_time": "2024-01-10T02:51:20.331233",
     "status": "completed"
    },
    "tags": []
   },
   "source": [
    "### Test Model 3 on Validation Set\n",
    "\n",
    "We use our trained model to predict the data in the validation set."
   ]
  },
  {
   "cell_type": "code",
   "execution_count": 34,
   "id": "adabb231",
   "metadata": {
    "execution": {
     "iopub.execute_input": "2024-01-10T02:51:25.116720Z",
     "iopub.status.busy": "2024-01-10T02:51:25.115957Z",
     "iopub.status.idle": "2024-01-10T02:51:57.543000Z",
     "shell.execute_reply": "2024-01-10T02:51:57.541958Z"
    },
    "papermill": {
     "duration": 35.596199,
     "end_time": "2024-01-10T02:51:59.066600",
     "exception": false,
     "start_time": "2024-01-10T02:51:23.470401",
     "status": "completed"
    },
    "tags": []
   },
   "outputs": [
    {
     "name": "stdout",
     "output_type": "stream",
     "text": [
      "40/40 [==============================] - 1s 15ms/step\n",
      "Q3 Accuracy: 0.5336276292800903\n"
     ]
    }
   ],
   "source": [
    "# Predict validation set\n",
    "preds = model_3.predict(X_val)\n",
    "print(f\"Q3 Accuracy: {q3_num(q3_acc(y_val_hot, preds))}\")"
   ]
  },
  {
   "cell_type": "markdown",
   "id": "1c0988eb",
   "metadata": {
    "papermill": {
     "duration": 1.521633,
     "end_time": "2024-01-10T02:52:02.213952",
     "exception": false,
     "start_time": "2024-01-10T02:52:00.692319",
     "status": "completed"
    },
    "tags": []
   },
   "source": [
    "### Neural Network Model (Model 4, Adam, Regularised)\n",
    "\n",
    "We describe a neural network model with dropout regularisation, two hidden layers with the ReLU activation function, and the output layer with the Softmax activation function. The other hyperparameters remain the same. The optimiser used is Adam for the same reason seen previously."
   ]
  },
  {
   "cell_type": "markdown",
   "id": "d882bba9",
   "metadata": {
    "papermill": {
     "duration": 1.661128,
     "end_time": "2024-01-10T02:52:05.477682",
     "exception": false,
     "start_time": "2024-01-10T02:52:03.816554",
     "status": "completed"
    },
    "tags": []
   },
   "source": [
    "### Define Model 4"
   ]
  },
  {
   "cell_type": "code",
   "execution_count": 35,
   "id": "58a129d4",
   "metadata": {
    "execution": {
     "iopub.execute_input": "2024-01-10T02:52:08.610563Z",
     "iopub.status.busy": "2024-01-10T02:52:08.610071Z",
     "iopub.status.idle": "2024-01-10T02:52:08.756473Z",
     "shell.execute_reply": "2024-01-10T02:52:08.755301Z"
    },
    "papermill": {
     "duration": 1.761088,
     "end_time": "2024-01-10T02:52:08.761911",
     "exception": false,
     "start_time": "2024-01-10T02:52:07.000823",
     "status": "completed"
    },
    "tags": []
   },
   "outputs": [
    {
     "name": "stdout",
     "output_type": "stream",
     "text": [
      "Model: \"sequential_2\"\n",
      "_________________________________________________________________\n",
      " Layer (type)                Output Shape              Param #   \n",
      "=================================================================\n",
      " embedding_2 (Embedding)     (None, 100, 11454)        91632000  \n",
      "                                                                 \n",
      " dropout (Dropout)           (None, 100, 11454)        0         \n",
      "                                                                 \n",
      " dense_5 (Dense)             (None, 100, 1000)         11455000  \n",
      "                                                                 \n",
      " dropout_1 (Dropout)         (None, 100, 1000)         0         \n",
      "                                                                 \n",
      " dense_6 (Dense)             (None, 100, 1000)         1001000   \n",
      "                                                                 \n",
      " dropout_2 (Dropout)         (None, 100, 1000)         0         \n",
      "                                                                 \n",
      " dense_7 (Dense)             (None, 100, 4)            4004      \n",
      "                                                                 \n",
      "=================================================================\n",
      "Total params: 104092004 (397.08 MB)\n",
      "Trainable params: 104092004 (397.08 MB)\n",
      "Non-trainable params: 0 (0.00 Byte)\n",
      "_________________________________________________________________\n"
     ]
    }
   ],
   "source": [
    "# Define a Neural Network model (Model 4)\n",
    "model_4 = Sequential()\n",
    "# Create Embedding layer, which turns our indexes (3-mers) into dense vectors of fixed size - 'output_dim' can be adjusted\n",
    "model_4.add(Embedding(input_dim = n_kmers, output_dim = X_train.shape[0], input_length = maxlen))\n",
    "# Dropout with rate 0.1\n",
    "model_4.add(Dropout(0.1))\n",
    "# Create Dense layer of 1000 nodes (hidden layer), using the ReLU activation function\n",
    "model_4.add(Dense(1000, activation = \"relu\"))\n",
    "# Dropout with rate 0.1\n",
    "model_4.add(Dropout(0.1))\n",
    "# Create Dense layer of 1000 nodes (hidden layer), using the ReLU activation function\n",
    "model_4.add(Dense(1000, activation = \"relu\"))\n",
    "# Dropout with rate 0.1\n",
    "model_4.add(Dropout(0.1))\n",
    "# Create Dense layer of 4 nodes, using the Softmax activation function\n",
    "model_4.add((Dense(n_elems, input_dim = y_train_new_hot.shape[2], activation = \"softmax\")))\n",
    "# Display summary of model\n",
    "model_4.summary()"
   ]
  },
  {
   "cell_type": "markdown",
   "id": "df6e3cca",
   "metadata": {
    "papermill": {
     "duration": 1.5332,
     "end_time": "2024-01-10T02:52:11.943371",
     "exception": false,
     "start_time": "2024-01-10T02:52:10.410171",
     "status": "completed"
    },
    "tags": []
   },
   "source": [
    "### Train Model 4\n",
    "\n",
    "We train the neural network on the training data, using the one-hot encoded variable 'y_train_new_hot'. The hyperparameters and model are defined as above. We use EarlyStopping to stop the training if the loss does not improve after 5 epochs."
   ]
  },
  {
   "cell_type": "code",
   "execution_count": 36,
   "id": "e3c4424d",
   "metadata": {
    "execution": {
     "iopub.execute_input": "2024-01-10T02:52:15.261655Z",
     "iopub.status.busy": "2024-01-10T02:52:15.260976Z",
     "iopub.status.idle": "2024-01-10T03:16:19.324211Z",
     "shell.execute_reply": "2024-01-10T03:16:19.323359Z"
    },
    "papermill": {
     "duration": 1445.723652,
     "end_time": "2024-01-10T03:16:19.326084",
     "exception": false,
     "start_time": "2024-01-10T02:52:13.602432",
     "status": "completed"
    },
    "tags": []
   },
   "outputs": [
    {
     "name": "stdout",
     "output_type": "stream",
     "text": [
      "Epoch 1/150\n",
      "208/208 [==============================] - 74s 349ms/step - loss: 0.5320 - accuracy: 0.8014 - q3_acc: 0.7383\n",
      "Epoch 2/150\n",
      "208/208 [==============================] - 65s 310ms/step - loss: 0.5003 - accuracy: 0.8107 - q3_acc: 0.7493\n",
      "Epoch 3/150\n",
      "208/208 [==============================] - 61s 295ms/step - loss: 0.4974 - accuracy: 0.8118 - q3_acc: 0.7507\n",
      "Epoch 4/150\n",
      "208/208 [==============================] - 59s 284ms/step - loss: 0.4965 - accuracy: 0.8122 - q3_acc: 0.7512\n",
      "Epoch 5/150\n",
      "208/208 [==============================] - 55s 267ms/step - loss: 0.4960 - accuracy: 0.8124 - q3_acc: 0.7515\n",
      "Epoch 6/150\n",
      "208/208 [==============================] - 53s 257ms/step - loss: 0.4953 - accuracy: 0.8128 - q3_acc: 0.7520\n",
      "Epoch 7/150\n",
      "208/208 [==============================] - 54s 257ms/step - loss: 0.4946 - accuracy: 0.8127 - q3_acc: 0.7518\n",
      "Epoch 8/150\n",
      "208/208 [==============================] - 53s 254ms/step - loss: 0.4947 - accuracy: 0.8129 - q3_acc: 0.7521\n",
      "Epoch 9/150\n",
      "208/208 [==============================] - 53s 253ms/step - loss: 0.4944 - accuracy: 0.8130 - q3_acc: 0.7522\n",
      "Epoch 10/150\n",
      "208/208 [==============================] - 52s 248ms/step - loss: 0.4939 - accuracy: 0.8130 - q3_acc: 0.7522\n",
      "Epoch 11/150\n",
      "208/208 [==============================] - 51s 247ms/step - loss: 0.4939 - accuracy: 0.8130 - q3_acc: 0.7523\n",
      "Epoch 12/150\n",
      "208/208 [==============================] - 52s 250ms/step - loss: 0.4937 - accuracy: 0.8131 - q3_acc: 0.7523\n",
      "Epoch 13/150\n",
      "208/208 [==============================] - 52s 252ms/step - loss: 0.4937 - accuracy: 0.8131 - q3_acc: 0.7523\n",
      "Epoch 14/150\n",
      "208/208 [==============================] - 51s 247ms/step - loss: 0.4936 - accuracy: 0.8131 - q3_acc: 0.7524\n",
      "Epoch 15/150\n",
      "208/208 [==============================] - 51s 244ms/step - loss: 0.4938 - accuracy: 0.8131 - q3_acc: 0.7524\n",
      "Epoch 16/150\n",
      "208/208 [==============================] - 51s 246ms/step - loss: 0.4936 - accuracy: 0.8131 - q3_acc: 0.7523\n",
      "Epoch 17/150\n",
      "208/208 [==============================] - 51s 245ms/step - loss: 0.4938 - accuracy: 0.8131 - q3_acc: 0.7524\n",
      "Epoch 18/150\n",
      "208/208 [==============================] - 50s 243ms/step - loss: 0.4934 - accuracy: 0.8132 - q3_acc: 0.7525\n",
      "Epoch 19/150\n",
      "208/208 [==============================] - 50s 242ms/step - loss: 0.4929 - accuracy: 0.8133 - q3_acc: 0.7526\n",
      "Epoch 20/150\n",
      "208/208 [==============================] - 51s 246ms/step - loss: 0.4934 - accuracy: 0.8132 - q3_acc: 0.7526\n",
      "Epoch 21/150\n",
      "208/208 [==============================] - 50s 242ms/step - loss: 0.4930 - accuracy: 0.8132 - q3_acc: 0.7526\n",
      "Epoch 22/150\n",
      "208/208 [==============================] - 51s 243ms/step - loss: 0.4926 - accuracy: 0.8134 - q3_acc: 0.7527\n",
      "Epoch 23/150\n",
      "208/208 [==============================] - 51s 244ms/step - loss: 0.4929 - accuracy: 0.8132 - q3_acc: 0.7526\n",
      "Epoch 24/150\n",
      "208/208 [==============================] - 51s 244ms/step - loss: 0.4929 - accuracy: 0.8133 - q3_acc: 0.7527\n",
      "Epoch 25/150\n",
      "208/208 [==============================] - 51s 243ms/step - loss: 0.4929 - accuracy: 0.8133 - q3_acc: 0.7526\n",
      "Epoch 26/150\n",
      "208/208 [==============================] - 50s 241ms/step - loss: 0.4927 - accuracy: 0.8134 - q3_acc: 0.7528\n",
      "Epoch 27/150\n",
      "208/208 [==============================] - 50s 240ms/step - loss: 0.4928 - accuracy: 0.8134 - q3_acc: 0.7527\n",
      "Epoch 27: early stopping\n",
      "CPU times: user 16min 28s, sys: 3min 40s, total: 20min 8s\n",
      "Wall time: 24min 4s\n"
     ]
    }
   ],
   "source": [
    "%%time\n",
    "\n",
    "# Repeat seed (if needed)\n",
    "np.random.seed(randomer)\n",
    "tf.random.set_seed(randomer)\n",
    "tf.config.experimental.enable_op_determinism()\n",
    "\n",
    "# Use 'categorical cross-entropy' loss and the Adam optimiser with set learning rate\n",
    "model_4.compile(loss = \"categorical_crossentropy\", optimizer = Adam(learning_rate = learning_rate), metrics = [\"accuracy\", q3_acc])\n",
    "# Stop training when loss has stopped improving, using EarlyStopping\n",
    "monitor = EarlyStopping(monitor = \"loss\", min_delta = 1e-4, patience = 5, verbose = 1, mode = \"auto\")\n",
    "# Create variable to store loss and accuracy history, and fit the neural network to the training data\n",
    "history_4 = model_4.fit(X_train_new, y_train_new_hot, callbacks = [monitor], batch_size = batch_size, epochs = n_epochs, verbose = 1)"
   ]
  },
  {
   "cell_type": "code",
   "execution_count": 37,
   "id": "760364ad",
   "metadata": {
    "execution": {
     "iopub.execute_input": "2024-01-10T03:16:23.532274Z",
     "iopub.status.busy": "2024-01-10T03:16:23.531884Z",
     "iopub.status.idle": "2024-01-10T03:16:27.791718Z",
     "shell.execute_reply": "2024-01-10T03:16:27.790870Z"
    },
    "papermill": {
     "duration": 6.363735,
     "end_time": "2024-01-10T03:16:27.794086",
     "exception": false,
     "start_time": "2024-01-10T03:16:21.430351",
     "status": "completed"
    },
    "tags": []
   },
   "outputs": [],
   "source": [
    "model_4.save(\"model_4_os.keras\")"
   ]
  },
  {
   "cell_type": "code",
   "execution_count": 38,
   "id": "e61cd370",
   "metadata": {
    "execution": {
     "iopub.execute_input": "2024-01-10T03:16:31.827861Z",
     "iopub.status.busy": "2024-01-10T03:16:31.826828Z",
     "iopub.status.idle": "2024-01-10T03:16:53.402846Z",
     "shell.execute_reply": "2024-01-10T03:16:53.401864Z"
    },
    "papermill": {
     "duration": 23.645083,
     "end_time": "2024-01-10T03:16:53.404918",
     "exception": false,
     "start_time": "2024-01-10T03:16:29.759835",
     "status": "completed"
    },
    "tags": []
   },
   "outputs": [
    {
     "name": "stdout",
     "output_type": "stream",
     "text": [
      "829/829 [==============================] - 13s 15ms/step - loss: 0.4909 - accuracy: 0.8137 - q3_acc: 0.7532\n",
      "Accuracy: 0.813694417476654\n",
      "Q3 Accuracy: 0.753169596195221\n"
     ]
    },
    {
     "data": {
      "image/png": "[encoded data removed]",
      "text/plain": [
       "<Figure size 640x480 with 2 Axes>"
      ]
     },
     "metadata": {},
     "output_type": "display_data"
    }
   ],
   "source": [
    "# Default and Q3 Accuracy for Model\n",
    "evals = model_4.evaluate(X_train_new, y_train_new_hot)\n",
    "print(\"Accuracy:\", evals[1])\n",
    "print(\"Q3 Accuracy:\", evals[2])\n",
    "\n",
    "# Plot model loss\n",
    "plt.plot(history_4.history[\"loss\"], color = \"red\")\n",
    "plt.title(\"Model Loss/Q3 Accuracy\")\n",
    "plt.ylabel(\"Loss\")\n",
    "plt.xlabel(\"Epoch\")\n",
    "plt.legend([\"Loss\"], loc = \"upper left\")\n",
    "\n",
    "# Plot model Q3 accuracy\n",
    "plt2 = plt.twinx()\n",
    "plt2.plot(history_4.history[\"q3_acc\"])\n",
    "plt.ylabel(\"Q3 Accuracy\")\n",
    "plt2.legend([\"Q3 Accuracy\"], loc = \"upper right\")\n",
    "plt.savefig(\"model_4_over.pdf\")\n",
    "plt.show()"
   ]
  },
  {
   "cell_type": "markdown",
   "id": "59501a7b",
   "metadata": {
    "papermill": {
     "duration": 2.07616,
     "end_time": "2024-01-10T03:16:57.663849",
     "exception": false,
     "start_time": "2024-01-10T03:16:55.587689",
     "status": "completed"
    },
    "tags": []
   },
   "source": [
    "### Test Model 4 on Validation Set\n",
    "\n",
    "We use our trained model to predict the data in the validation set."
   ]
  },
  {
   "cell_type": "code",
   "execution_count": 39,
   "id": "e3fa1417",
   "metadata": {
    "execution": {
     "iopub.execute_input": "2024-01-10T03:17:01.730663Z",
     "iopub.status.busy": "2024-01-10T03:17:01.730256Z",
     "iopub.status.idle": "2024-01-10T03:17:34.407841Z",
     "shell.execute_reply": "2024-01-10T03:17:34.406787Z"
    },
    "papermill": {
     "duration": 36.860279,
     "end_time": "2024-01-10T03:17:36.507043",
     "exception": false,
     "start_time": "2024-01-10T03:16:59.646764",
     "status": "completed"
    },
    "tags": []
   },
   "outputs": [
    {
     "name": "stdout",
     "output_type": "stream",
     "text": [
      "40/40 [==============================] - 1s 15ms/step\n",
      "Q3 Accuracy: 0.532939076423645\n"
     ]
    }
   ],
   "source": [
    "# Predict validation set\n",
    "preds = model_4.predict(X_val)\n",
    "print(f\"Q3 Accuracy: {q3_num(q3_acc(y_val_hot, preds))}\")"
   ]
  },
  {
   "cell_type": "markdown",
   "id": "75aa929e",
   "metadata": {
    "papermill": {
     "duration": 2.06821,
     "end_time": "2024-01-10T03:17:40.579701",
     "exception": false,
     "start_time": "2024-01-10T03:17:38.511491",
     "status": "completed"
    },
    "tags": []
   },
   "source": [
    "### $k$-Fold Cross-Validation (Oversampled Data)\n",
    "\n",
    "We perform $k$-fold cross-validation on our oversampled data to determine if the accuracy is approximately equal for different subsets of the data. We use the architecture and hyperparameters from Model 1, which provides the best validation set performance out of the described models."
   ]
  },
  {
   "cell_type": "code",
   "execution_count": 40,
   "id": "16038204",
   "metadata": {
    "execution": {
     "iopub.execute_input": "2024-01-10T03:17:44.748462Z",
     "iopub.status.busy": "2024-01-10T03:17:44.747719Z",
     "iopub.status.idle": "2024-01-10T05:33:43.925701Z",
     "shell.execute_reply": "2024-01-10T05:33:43.924887Z"
    },
    "papermill": {
     "duration": 8166.072326,
     "end_time": "2024-01-10T05:33:48.724209",
     "exception": false,
     "start_time": "2024-01-10T03:17:42.651883",
     "status": "completed"
    },
    "tags": []
   },
   "outputs": [
    {
     "name": "stdout",
     "output_type": "stream",
     "text": [
      "Fold #1, Training Size: 21204, Validation Size: 5301\n",
      "====================\n",
      "Epoch 1/150\n",
      "166/166 [==============================] - 58s 342ms/step - loss: 0.5376 - accuracy: 0.8000 - q3_acc: 0.7371\n",
      "Epoch 2/150\n",
      "166/166 [==============================] - 49s 296ms/step - loss: 0.5004 - accuracy: 0.8101 - q3_acc: 0.7482\n",
      "Epoch 3/150\n",
      "166/166 [==============================] - 47s 281ms/step - loss: 0.4974 - accuracy: 0.8114 - q3_acc: 0.7500\n",
      "Epoch 4/150\n",
      "166/166 [==============================] - 45s 270ms/step - loss: 0.4958 - accuracy: 0.8118 - q3_acc: 0.7505\n",
      "Epoch 5/150\n",
      "166/166 [==============================] - 44s 262ms/step - loss: 0.4955 - accuracy: 0.8121 - q3_acc: 0.7509\n",
      "Epoch 6/150\n",
      "166/166 [==============================] - 41s 245ms/step - loss: 0.4952 - accuracy: 0.8123 - q3_acc: 0.7512\n",
      "Epoch 7/150\n",
      "166/166 [==============================] - 39s 235ms/step - loss: 0.4942 - accuracy: 0.8125 - q3_acc: 0.7515\n",
      "Epoch 8/150\n",
      "166/166 [==============================] - 40s 239ms/step - loss: 0.4941 - accuracy: 0.8127 - q3_acc: 0.7517\n",
      "Epoch 9/150\n",
      "166/166 [==============================] - 39s 234ms/step - loss: 0.4936 - accuracy: 0.8127 - q3_acc: 0.7517\n",
      "Epoch 10/150\n",
      "166/166 [==============================] - 38s 228ms/step - loss: 0.4934 - accuracy: 0.8127 - q3_acc: 0.7518\n",
      "Epoch 11/150\n",
      "166/166 [==============================] - 38s 229ms/step - loss: 0.4933 - accuracy: 0.8128 - q3_acc: 0.7518\n",
      "Epoch 12/150\n",
      "166/166 [==============================] - 37s 222ms/step - loss: 0.4933 - accuracy: 0.8128 - q3_acc: 0.7519\n",
      "Epoch 13/150\n",
      "166/166 [==============================] - 36s 217ms/step - loss: 0.4935 - accuracy: 0.8129 - q3_acc: 0.7519\n",
      "Epoch 14/150\n",
      "166/166 [==============================] - 37s 224ms/step - loss: 0.4927 - accuracy: 0.8130 - q3_acc: 0.7520\n",
      "Epoch 15/150\n",
      "166/166 [==============================] - 37s 222ms/step - loss: 0.4927 - accuracy: 0.8130 - q3_acc: 0.7521\n",
      "Epoch 16/150\n",
      "166/166 [==============================] - 36s 219ms/step - loss: 0.4926 - accuracy: 0.8131 - q3_acc: 0.7522\n",
      "Epoch 17/150\n",
      "166/166 [==============================] - 37s 225ms/step - loss: 0.4926 - accuracy: 0.8129 - q3_acc: 0.7520\n",
      "Epoch 18/150\n",
      "166/166 [==============================] - 36s 219ms/step - loss: 0.4927 - accuracy: 0.8130 - q3_acc: 0.7521\n",
      "Epoch 19/150\n",
      "166/166 [==============================] - 36s 219ms/step - loss: 0.4925 - accuracy: 0.8130 - q3_acc: 0.7521\n",
      "Epoch 20/150\n",
      "166/166 [==============================] - 36s 217ms/step - loss: 0.4922 - accuracy: 0.8131 - q3_acc: 0.7522\n",
      "Epoch 21/150\n",
      "166/166 [==============================] - 37s 224ms/step - loss: 0.4922 - accuracy: 0.8131 - q3_acc: 0.7522\n",
      "Epoch 22/150\n",
      "166/166 [==============================] - 37s 222ms/step - loss: 0.4921 - accuracy: 0.8130 - q3_acc: 0.7520\n",
      "Epoch 23/150\n",
      "166/166 [==============================] - 37s 220ms/step - loss: 0.4919 - accuracy: 0.8130 - q3_acc: 0.7521\n",
      "Epoch 24/150\n",
      "166/166 [==============================] - 37s 220ms/step - loss: 0.4921 - accuracy: 0.8131 - q3_acc: 0.7522\n",
      "Epoch 25/150\n",
      "166/166 [==============================] - 36s 216ms/step - loss: 0.4917 - accuracy: 0.8131 - q3_acc: 0.7522\n",
      "Epoch 26/150\n",
      "166/166 [==============================] - 36s 220ms/step - loss: 0.4920 - accuracy: 0.8131 - q3_acc: 0.7523\n",
      "Epoch 27/150\n",
      "166/166 [==============================] - 36s 218ms/step - loss: 0.4919 - accuracy: 0.8131 - q3_acc: 0.7522\n",
      "Epoch 28/150\n",
      "166/166 [==============================] - 36s 219ms/step - loss: 0.4917 - accuracy: 0.8131 - q3_acc: 0.7523\n",
      "Epoch 29/150\n",
      "166/166 [==============================] - 37s 220ms/step - loss: 0.4918 - accuracy: 0.8132 - q3_acc: 0.7524\n",
      "Epoch 30/150\n",
      "166/166 [==============================] - 36s 219ms/step - loss: 0.4919 - accuracy: 0.8131 - q3_acc: 0.7522\n",
      "Epoch 30: early stopping\n",
      "====================\n",
      "166/166 [==============================] - 2s 13ms/step\n",
      "Q3 Accuracy of Fold #1: 0.7527999877929688\n",
      "====================\n",
      "Fold #2, Training Size: 21204, Validation Size: 5301\n",
      "====================\n",
      "Epoch 1/150\n",
      "166/166 [==============================] - 56s 331ms/step - loss: 0.5374 - accuracy: 0.8005 - q3_acc: 0.7375\n",
      "Epoch 2/150\n",
      "166/166 [==============================] - 51s 305ms/step - loss: 0.4995 - accuracy: 0.8105 - q3_acc: 0.7488\n",
      "Epoch 3/150\n",
      "166/166 [==============================] - 46s 279ms/step - loss: 0.4962 - accuracy: 0.8118 - q3_acc: 0.7506\n",
      "Epoch 4/150\n",
      "166/166 [==============================] - 44s 266ms/step - loss: 0.4954 - accuracy: 0.8122 - q3_acc: 0.7511\n",
      "Epoch 5/150\n",
      "166/166 [==============================] - 42s 254ms/step - loss: 0.4945 - accuracy: 0.8127 - q3_acc: 0.7517\n",
      "Epoch 6/150\n",
      "166/166 [==============================] - 41s 244ms/step - loss: 0.4938 - accuracy: 0.8129 - q3_acc: 0.7520\n",
      "Epoch 7/150\n",
      "166/166 [==============================] - 40s 240ms/step - loss: 0.4935 - accuracy: 0.8130 - q3_acc: 0.7522\n",
      "Epoch 8/150\n",
      "166/166 [==============================] - 38s 228ms/step - loss: 0.4933 - accuracy: 0.8130 - q3_acc: 0.7522\n",
      "Epoch 9/150\n",
      "166/166 [==============================] - 38s 232ms/step - loss: 0.4934 - accuracy: 0.8131 - q3_acc: 0.7523\n",
      "Epoch 10/150\n",
      "166/166 [==============================] - 38s 229ms/step - loss: 0.4928 - accuracy: 0.8132 - q3_acc: 0.7524\n",
      "Epoch 11/150\n",
      "166/166 [==============================] - 38s 229ms/step - loss: 0.4925 - accuracy: 0.8133 - q3_acc: 0.7526\n",
      "Epoch 12/150\n",
      "166/166 [==============================] - 37s 222ms/step - loss: 0.4922 - accuracy: 0.8133 - q3_acc: 0.7526\n",
      "Epoch 13/150\n",
      "166/166 [==============================] - 37s 223ms/step - loss: 0.4921 - accuracy: 0.8134 - q3_acc: 0.7527\n",
      "Epoch 14/150\n",
      "166/166 [==============================] - 38s 227ms/step - loss: 0.4919 - accuracy: 0.8134 - q3_acc: 0.7527\n",
      "Epoch 15/150\n",
      "166/166 [==============================] - 37s 223ms/step - loss: 0.4919 - accuracy: 0.8134 - q3_acc: 0.7527\n",
      "Epoch 16/150\n",
      "166/166 [==============================] - 37s 223ms/step - loss: 0.4917 - accuracy: 0.8134 - q3_acc: 0.7527\n",
      "Epoch 17/150\n",
      "166/166 [==============================] - 37s 221ms/step - loss: 0.4915 - accuracy: 0.8135 - q3_acc: 0.7528\n",
      "Epoch 18/150\n",
      "166/166 [==============================] - 38s 226ms/step - loss: 0.4916 - accuracy: 0.8134 - q3_acc: 0.7527\n",
      "Epoch 19/150\n",
      "166/166 [==============================] - 36s 220ms/step - loss: 0.4917 - accuracy: 0.8135 - q3_acc: 0.7528\n",
      "Epoch 20/150\n",
      "166/166 [==============================] - 37s 222ms/step - loss: 0.4914 - accuracy: 0.8133 - q3_acc: 0.7526\n",
      "Epoch 21/150\n",
      "166/166 [==============================] - 37s 221ms/step - loss: 0.4912 - accuracy: 0.8134 - q3_acc: 0.7527\n",
      "Epoch 22/150\n",
      "166/166 [==============================] - 36s 218ms/step - loss: 0.4911 - accuracy: 0.8135 - q3_acc: 0.7529\n",
      "Epoch 23/150\n",
      "166/166 [==============================] - 37s 221ms/step - loss: 0.4913 - accuracy: 0.8135 - q3_acc: 0.7528\n",
      "Epoch 24/150\n",
      "166/166 [==============================] - 36s 218ms/step - loss: 0.4910 - accuracy: 0.8135 - q3_acc: 0.7528\n",
      "Epoch 25/150\n",
      "166/166 [==============================] - 37s 221ms/step - loss: 0.4912 - accuracy: 0.8135 - q3_acc: 0.7529\n",
      "Epoch 26/150\n",
      "166/166 [==============================] - 37s 220ms/step - loss: 0.4913 - accuracy: 0.8136 - q3_acc: 0.7529\n",
      "Epoch 27/150\n",
      "166/166 [==============================] - 36s 218ms/step - loss: 0.4913 - accuracy: 0.8134 - q3_acc: 0.7528\n",
      "Epoch 27: early stopping\n",
      "====================\n",
      "166/166 [==============================] - 2s 13ms/step\n",
      "Q3 Accuracy of Fold #2: 0.7501999735832214\n",
      "====================\n",
      "Fold #3, Training Size: 21204, Validation Size: 5301\n",
      "====================\n",
      "Epoch 1/150\n",
      "166/166 [==============================] - 57s 334ms/step - loss: 0.5356 - accuracy: 0.8010 - q3_acc: 0.7378\n",
      "Epoch 2/150\n",
      "166/166 [==============================] - 50s 299ms/step - loss: 0.4994 - accuracy: 0.8108 - q3_acc: 0.7490\n",
      "Epoch 3/150\n",
      "166/166 [==============================] - 46s 280ms/step - loss: 0.4964 - accuracy: 0.8119 - q3_acc: 0.7504\n",
      "Epoch 4/150\n",
      "166/166 [==============================] - 43s 259ms/step - loss: 0.4956 - accuracy: 0.8123 - q3_acc: 0.7510\n",
      "Epoch 5/150\n",
      "166/166 [==============================] - 43s 258ms/step - loss: 0.4941 - accuracy: 0.8128 - q3_acc: 0.7516\n",
      "Epoch 6/150\n",
      "166/166 [==============================] - 40s 242ms/step - loss: 0.4938 - accuracy: 0.8129 - q3_acc: 0.7518\n",
      "Epoch 7/150\n",
      "166/166 [==============================] - 39s 232ms/step - loss: 0.4939 - accuracy: 0.8130 - q3_acc: 0.7519\n",
      "Epoch 8/150\n",
      "166/166 [==============================] - 38s 229ms/step - loss: 0.4931 - accuracy: 0.8131 - q3_acc: 0.7521\n",
      "Epoch 9/150\n",
      "166/166 [==============================] - 38s 228ms/step - loss: 0.4928 - accuracy: 0.8133 - q3_acc: 0.7523\n",
      "Epoch 10/150\n",
      "166/166 [==============================] - 39s 234ms/step - loss: 0.4927 - accuracy: 0.8132 - q3_acc: 0.7522\n",
      "Epoch 11/150\n",
      "166/166 [==============================] - 37s 224ms/step - loss: 0.4929 - accuracy: 0.8132 - q3_acc: 0.7522\n",
      "Epoch 12/150\n",
      "166/166 [==============================] - 37s 222ms/step - loss: 0.4925 - accuracy: 0.8133 - q3_acc: 0.7523\n",
      "Epoch 13/150\n",
      "166/166 [==============================] - 37s 225ms/step - loss: 0.4921 - accuracy: 0.8133 - q3_acc: 0.7523\n",
      "Epoch 14/150\n",
      "166/166 [==============================] - 37s 223ms/step - loss: 0.4921 - accuracy: 0.8134 - q3_acc: 0.7524\n",
      "Epoch 15/150\n",
      "166/166 [==============================] - 38s 226ms/step - loss: 0.4921 - accuracy: 0.8134 - q3_acc: 0.7524\n",
      "Epoch 16/150\n",
      "166/166 [==============================] - 36s 220ms/step - loss: 0.4920 - accuracy: 0.8134 - q3_acc: 0.7525\n",
      "Epoch 17/150\n",
      "166/166 [==============================] - 36s 219ms/step - loss: 0.4919 - accuracy: 0.8134 - q3_acc: 0.7524\n",
      "Epoch 18/150\n",
      "166/166 [==============================] - 37s 222ms/step - loss: 0.4918 - accuracy: 0.8135 - q3_acc: 0.7526\n",
      "Epoch 19/150\n",
      "166/166 [==============================] - 36s 219ms/step - loss: 0.4918 - accuracy: 0.8134 - q3_acc: 0.7525\n",
      "Epoch 20/150\n",
      "166/166 [==============================] - 36s 219ms/step - loss: 0.4917 - accuracy: 0.8135 - q3_acc: 0.7525\n",
      "Epoch 21/150\n",
      "166/166 [==============================] - 36s 219ms/step - loss: 0.4914 - accuracy: 0.8136 - q3_acc: 0.7527\n",
      "Epoch 22/150\n",
      "166/166 [==============================] - 36s 217ms/step - loss: 0.4912 - accuracy: 0.8135 - q3_acc: 0.7525\n",
      "Epoch 23/150\n",
      "166/166 [==============================] - 37s 220ms/step - loss: 0.4913 - accuracy: 0.8135 - q3_acc: 0.7526\n",
      "Epoch 24/150\n",
      "166/166 [==============================] - 36s 219ms/step - loss: 0.4911 - accuracy: 0.8135 - q3_acc: 0.7526\n",
      "Epoch 25/150\n",
      "166/166 [==============================] - 36s 216ms/step - loss: 0.4911 - accuracy: 0.8136 - q3_acc: 0.7527\n",
      "Epoch 26/150\n",
      "166/166 [==============================] - 36s 219ms/step - loss: 0.4911 - accuracy: 0.8135 - q3_acc: 0.7525\n",
      "Epoch 27/150\n",
      "166/166 [==============================] - 36s 218ms/step - loss: 0.4912 - accuracy: 0.8136 - q3_acc: 0.7527\n",
      "Epoch 28/150\n",
      "166/166 [==============================] - 36s 217ms/step - loss: 0.4910 - accuracy: 0.8136 - q3_acc: 0.7527\n",
      "Epoch 29/150\n",
      "166/166 [==============================] - 36s 218ms/step - loss: 0.4908 - accuracy: 0.8135 - q3_acc: 0.7526\n",
      "Epoch 30/150\n",
      "166/166 [==============================] - 36s 220ms/step - loss: 0.4906 - accuracy: 0.8136 - q3_acc: 0.7526\n",
      "Epoch 31/150\n",
      "166/166 [==============================] - 36s 216ms/step - loss: 0.4911 - accuracy: 0.8137 - q3_acc: 0.7528\n",
      "Epoch 32/150\n",
      "166/166 [==============================] - 36s 218ms/step - loss: 0.4910 - accuracy: 0.8137 - q3_acc: 0.7528\n",
      "Epoch 33/150\n",
      "166/166 [==============================] - 36s 216ms/step - loss: 0.4907 - accuracy: 0.8136 - q3_acc: 0.7527\n",
      "Epoch 34/150\n",
      "166/166 [==============================] - 36s 215ms/step - loss: 0.4906 - accuracy: 0.8137 - q3_acc: 0.7528\n",
      "Epoch 35/150\n",
      "166/166 [==============================] - 36s 216ms/step - loss: 0.4903 - accuracy: 0.8138 - q3_acc: 0.7530\n",
      "Epoch 36/150\n",
      "166/166 [==============================] - 36s 220ms/step - loss: 0.4908 - accuracy: 0.8136 - q3_acc: 0.7528\n",
      "Epoch 37/150\n",
      "166/166 [==============================] - 36s 216ms/step - loss: 0.4908 - accuracy: 0.8137 - q3_acc: 0.7528\n",
      "Epoch 38/150\n",
      "166/166 [==============================] - 36s 217ms/step - loss: 0.4904 - accuracy: 0.8136 - q3_acc: 0.7527\n",
      "Epoch 39/150\n",
      "166/166 [==============================] - 36s 216ms/step - loss: 0.4905 - accuracy: 0.8137 - q3_acc: 0.7528\n",
      "Epoch 40/150\n",
      "166/166 [==============================] - 36s 216ms/step - loss: 0.4905 - accuracy: 0.8137 - q3_acc: 0.7528\n",
      "Epoch 40: early stopping\n",
      "====================\n",
      "166/166 [==============================] - 2s 13ms/step\n",
      "Q3 Accuracy of Fold #3: 0.7512999773025513\n",
      "====================\n",
      "Fold #4, Training Size: 21204, Validation Size: 5301\n",
      "====================\n",
      "Epoch 1/150\n",
      "166/166 [==============================] - 56s 331ms/step - loss: 0.5379 - accuracy: 0.8019 - q3_acc: 0.7377\n",
      "Epoch 2/150\n",
      "166/166 [==============================] - 50s 303ms/step - loss: 0.4993 - accuracy: 0.8108 - q3_acc: 0.7495\n",
      "Epoch 3/150\n",
      "166/166 [==============================] - 47s 280ms/step - loss: 0.4962 - accuracy: 0.8120 - q3_acc: 0.7512\n",
      "Epoch 4/150\n",
      "166/166 [==============================] - 42s 255ms/step - loss: 0.4951 - accuracy: 0.8126 - q3_acc: 0.7519\n",
      "Epoch 5/150\n",
      "166/166 [==============================] - 42s 253ms/step - loss: 0.4942 - accuracy: 0.8129 - q3_acc: 0.7524\n",
      "Epoch 6/150\n",
      "166/166 [==============================] - 39s 237ms/step - loss: 0.4937 - accuracy: 0.8130 - q3_acc: 0.7525\n",
      "Epoch 7/150\n",
      "166/166 [==============================] - 40s 242ms/step - loss: 0.4932 - accuracy: 0.8132 - q3_acc: 0.7527\n",
      "Epoch 8/150\n",
      "166/166 [==============================] - 40s 241ms/step - loss: 0.4932 - accuracy: 0.8132 - q3_acc: 0.7528\n",
      "Epoch 9/150\n",
      "166/166 [==============================] - 38s 227ms/step - loss: 0.4930 - accuracy: 0.8132 - q3_acc: 0.7528\n",
      "Epoch 10/150\n",
      "166/166 [==============================] - 38s 232ms/step - loss: 0.4925 - accuracy: 0.8134 - q3_acc: 0.7531\n",
      "Epoch 11/150\n",
      "166/166 [==============================] - 37s 223ms/step - loss: 0.4923 - accuracy: 0.8134 - q3_acc: 0.7530\n",
      "Epoch 12/150\n",
      "166/166 [==============================] - 37s 225ms/step - loss: 0.4925 - accuracy: 0.8133 - q3_acc: 0.7529\n",
      "Epoch 13/150\n",
      "166/166 [==============================] - 37s 222ms/step - loss: 0.4922 - accuracy: 0.8134 - q3_acc: 0.7531\n",
      "Epoch 14/150\n",
      "166/166 [==============================] - 37s 222ms/step - loss: 0.4917 - accuracy: 0.8135 - q3_acc: 0.7532\n",
      "Epoch 15/150\n",
      "166/166 [==============================] - 37s 221ms/step - loss: 0.4917 - accuracy: 0.8135 - q3_acc: 0.7532\n",
      "Epoch 16/150\n",
      "166/166 [==============================] - 36s 217ms/step - loss: 0.4919 - accuracy: 0.8134 - q3_acc: 0.7531\n",
      "Epoch 17/150\n",
      "166/166 [==============================] - 37s 221ms/step - loss: 0.4918 - accuracy: 0.8135 - q3_acc: 0.7531\n",
      "Epoch 18/150\n",
      "166/166 [==============================] - 36s 216ms/step - loss: 0.4915 - accuracy: 0.8136 - q3_acc: 0.7533\n",
      "Epoch 19/150\n",
      "166/166 [==============================] - 37s 222ms/step - loss: 0.4917 - accuracy: 0.8135 - q3_acc: 0.7532\n",
      "Epoch 20/150\n",
      "166/166 [==============================] - 37s 222ms/step - loss: 0.4912 - accuracy: 0.8136 - q3_acc: 0.7532\n",
      "Epoch 21/150\n",
      "166/166 [==============================] - 37s 219ms/step - loss: 0.4912 - accuracy: 0.8137 - q3_acc: 0.7534\n",
      "Epoch 22/150\n",
      "166/166 [==============================] - 36s 219ms/step - loss: 0.4908 - accuracy: 0.8137 - q3_acc: 0.7534\n",
      "Epoch 23/150\n",
      "166/166 [==============================] - 36s 219ms/step - loss: 0.4914 - accuracy: 0.8136 - q3_acc: 0.7533\n",
      "Epoch 24/150\n",
      "166/166 [==============================] - 36s 217ms/step - loss: 0.4910 - accuracy: 0.8137 - q3_acc: 0.7534\n",
      "Epoch 25/150\n",
      "166/166 [==============================] - 36s 217ms/step - loss: 0.4911 - accuracy: 0.8136 - q3_acc: 0.7533\n",
      "Epoch 26/150\n",
      "166/166 [==============================] - 36s 219ms/step - loss: 0.4908 - accuracy: 0.8137 - q3_acc: 0.7534\n",
      "Epoch 27/150\n",
      "166/166 [==============================] - 36s 219ms/step - loss: 0.4907 - accuracy: 0.8136 - q3_acc: 0.7533\n",
      "Epoch 28/150\n",
      "166/166 [==============================] - 36s 218ms/step - loss: 0.4909 - accuracy: 0.8137 - q3_acc: 0.7534\n",
      "Epoch 29/150\n",
      "166/166 [==============================] - 36s 220ms/step - loss: 0.4907 - accuracy: 0.8138 - q3_acc: 0.7535\n",
      "Epoch 30/150\n",
      "166/166 [==============================] - 36s 216ms/step - loss: 0.4907 - accuracy: 0.8137 - q3_acc: 0.7535\n",
      "Epoch 31/150\n",
      "166/166 [==============================] - 36s 216ms/step - loss: 0.4905 - accuracy: 0.8137 - q3_acc: 0.7535\n",
      "Epoch 32/150\n",
      "166/166 [==============================] - 36s 214ms/step - loss: 0.4908 - accuracy: 0.8136 - q3_acc: 0.7533\n",
      "Epoch 33/150\n",
      "166/166 [==============================] - 36s 217ms/step - loss: 0.4907 - accuracy: 0.8137 - q3_acc: 0.7534\n",
      "Epoch 34/150\n",
      "166/166 [==============================] - 36s 219ms/step - loss: 0.4904 - accuracy: 0.8138 - q3_acc: 0.7535\n",
      "Epoch 35/150\n",
      "166/166 [==============================] - 36s 217ms/step - loss: 0.4902 - accuracy: 0.8138 - q3_acc: 0.7536\n",
      "Epoch 36/150\n",
      "166/166 [==============================] - 36s 217ms/step - loss: 0.4905 - accuracy: 0.8138 - q3_acc: 0.7536\n",
      "Epoch 37/150\n",
      "166/166 [==============================] - 35s 214ms/step - loss: 0.4902 - accuracy: 0.8138 - q3_acc: 0.7535\n",
      "Epoch 38/150\n",
      "166/166 [==============================] - 36s 217ms/step - loss: 0.4902 - accuracy: 0.8138 - q3_acc: 0.7535\n",
      "Epoch 39/150\n",
      "166/166 [==============================] - 36s 214ms/step - loss: 0.4903 - accuracy: 0.8137 - q3_acc: 0.7534\n",
      "Epoch 40/150\n",
      "166/166 [==============================] - 36s 214ms/step - loss: 0.4901 - accuracy: 0.8138 - q3_acc: 0.7535\n",
      "Epoch 41/150\n",
      "166/166 [==============================] - 36s 215ms/step - loss: 0.4904 - accuracy: 0.8138 - q3_acc: 0.7535\n",
      "Epoch 42/150\n",
      "166/166 [==============================] - 37s 219ms/step - loss: 0.4903 - accuracy: 0.8138 - q3_acc: 0.7536\n",
      "Epoch 43/150\n",
      "166/166 [==============================] - 36s 215ms/step - loss: 0.4901 - accuracy: 0.8137 - q3_acc: 0.7535\n",
      "Epoch 44/150\n",
      "166/166 [==============================] - 36s 214ms/step - loss: 0.4898 - accuracy: 0.8139 - q3_acc: 0.7536\n",
      "Epoch 45/150\n",
      "166/166 [==============================] - 36s 220ms/step - loss: 0.4899 - accuracy: 0.8139 - q3_acc: 0.7537\n",
      "Epoch 46/150\n",
      "166/166 [==============================] - 36s 218ms/step - loss: 0.4899 - accuracy: 0.8139 - q3_acc: 0.7537\n",
      "Epoch 47/150\n",
      "166/166 [==============================] - 37s 222ms/step - loss: 0.4900 - accuracy: 0.8138 - q3_acc: 0.7536\n",
      "Epoch 48/150\n",
      "166/166 [==============================] - 36s 219ms/step - loss: 0.4901 - accuracy: 0.8138 - q3_acc: 0.7536\n",
      "Epoch 49/150\n",
      "166/166 [==============================] - 36s 215ms/step - loss: 0.4900 - accuracy: 0.8138 - q3_acc: 0.7535\n",
      "Epoch 49: early stopping\n",
      "====================\n",
      "166/166 [==============================] - 2s 13ms/step\n",
      "Q3 Accuracy of Fold #4: 0.7486000061035156\n",
      "====================\n",
      "Fold #5, Training Size: 21204, Validation Size: 5301\n",
      "====================\n",
      "Epoch 1/150\n",
      "166/166 [==============================] - 56s 332ms/step - loss: 0.5383 - accuracy: 0.8014 - q3_acc: 0.7372\n",
      "Epoch 2/150\n",
      "166/166 [==============================] - 49s 296ms/step - loss: 0.4991 - accuracy: 0.8104 - q3_acc: 0.7492\n",
      "Epoch 3/150\n",
      "166/166 [==============================] - 45s 273ms/step - loss: 0.4966 - accuracy: 0.8114 - q3_acc: 0.7504\n",
      "Epoch 4/150\n",
      "166/166 [==============================] - 42s 255ms/step - loss: 0.4962 - accuracy: 0.8119 - q3_acc: 0.7511\n",
      "Epoch 5/150\n",
      "166/166 [==============================] - 43s 257ms/step - loss: 0.4948 - accuracy: 0.8123 - q3_acc: 0.7517\n",
      "Epoch 6/150\n",
      "166/166 [==============================] - 40s 244ms/step - loss: 0.4940 - accuracy: 0.8127 - q3_acc: 0.7521\n",
      "Epoch 7/150\n",
      "166/166 [==============================] - 40s 243ms/step - loss: 0.4938 - accuracy: 0.8126 - q3_acc: 0.7521\n",
      "Epoch 8/150\n",
      "166/166 [==============================] - 38s 231ms/step - loss: 0.4935 - accuracy: 0.8128 - q3_acc: 0.7524\n",
      "Epoch 9/150\n",
      "166/166 [==============================] - 37s 223ms/step - loss: 0.4931 - accuracy: 0.8128 - q3_acc: 0.7524\n",
      "Epoch 10/150\n",
      "166/166 [==============================] - 39s 232ms/step - loss: 0.4929 - accuracy: 0.8129 - q3_acc: 0.7524\n",
      "Epoch 11/150\n",
      "166/166 [==============================] - 38s 226ms/step - loss: 0.4925 - accuracy: 0.8129 - q3_acc: 0.7525\n",
      "Epoch 12/150\n",
      "166/166 [==============================] - 38s 228ms/step - loss: 0.4926 - accuracy: 0.8131 - q3_acc: 0.7526\n",
      "Epoch 13/150\n",
      "166/166 [==============================] - 38s 228ms/step - loss: 0.4923 - accuracy: 0.8130 - q3_acc: 0.7526\n",
      "Epoch 14/150\n",
      "166/166 [==============================] - 38s 226ms/step - loss: 0.4925 - accuracy: 0.8130 - q3_acc: 0.7525\n",
      "Epoch 15/150\n",
      "166/166 [==============================] - 37s 224ms/step - loss: 0.4920 - accuracy: 0.8130 - q3_acc: 0.7526\n",
      "Epoch 16/150\n",
      "166/166 [==============================] - 37s 223ms/step - loss: 0.4918 - accuracy: 0.8131 - q3_acc: 0.7528\n",
      "Epoch 17/150\n",
      "166/166 [==============================] - 37s 220ms/step - loss: 0.4919 - accuracy: 0.8130 - q3_acc: 0.7526\n",
      "Epoch 18/150\n",
      "166/166 [==============================] - 37s 224ms/step - loss: 0.4921 - accuracy: 0.8130 - q3_acc: 0.7526\n",
      "Epoch 19/150\n",
      "166/166 [==============================] - 36s 218ms/step - loss: 0.4920 - accuracy: 0.8131 - q3_acc: 0.7527\n",
      "Epoch 20/150\n",
      "166/166 [==============================] - 37s 224ms/step - loss: 0.4915 - accuracy: 0.8132 - q3_acc: 0.7528\n",
      "Epoch 21/150\n",
      "166/166 [==============================] - 36s 218ms/step - loss: 0.4917 - accuracy: 0.8131 - q3_acc: 0.7527\n",
      "Epoch 22/150\n",
      "166/166 [==============================] - 36s 219ms/step - loss: 0.4917 - accuracy: 0.8132 - q3_acc: 0.7528\n",
      "Epoch 23/150\n",
      "166/166 [==============================] - 36s 218ms/step - loss: 0.4914 - accuracy: 0.8131 - q3_acc: 0.7527\n",
      "Epoch 24/150\n",
      "166/166 [==============================] - 36s 217ms/step - loss: 0.4913 - accuracy: 0.8132 - q3_acc: 0.7528\n",
      "Epoch 25/150\n",
      "166/166 [==============================] - 36s 217ms/step - loss: 0.4914 - accuracy: 0.8132 - q3_acc: 0.7528\n",
      "Epoch 26/150\n",
      "166/166 [==============================] - 36s 218ms/step - loss: 0.4911 - accuracy: 0.8132 - q3_acc: 0.7529\n",
      "Epoch 27/150\n",
      "166/166 [==============================] - 36s 217ms/step - loss: 0.4913 - accuracy: 0.8132 - q3_acc: 0.7528\n",
      "Epoch 28/150\n",
      "166/166 [==============================] - 36s 219ms/step - loss: 0.4913 - accuracy: 0.8134 - q3_acc: 0.7531\n",
      "Epoch 29/150\n",
      "166/166 [==============================] - 36s 216ms/step - loss: 0.4910 - accuracy: 0.8133 - q3_acc: 0.7529\n",
      "Epoch 30/150\n",
      "166/166 [==============================] - 36s 216ms/step - loss: 0.4909 - accuracy: 0.8133 - q3_acc: 0.7530\n",
      "Epoch 31/150\n",
      "166/166 [==============================] - 36s 216ms/step - loss: 0.4910 - accuracy: 0.8133 - q3_acc: 0.7530\n",
      "Epoch 32/150\n",
      "166/166 [==============================] - 36s 217ms/step - loss: 0.4911 - accuracy: 0.8133 - q3_acc: 0.7530\n",
      "Epoch 33/150\n",
      "166/166 [==============================] - 36s 215ms/step - loss: 0.4909 - accuracy: 0.8133 - q3_acc: 0.7529\n",
      "Epoch 34/150\n",
      "166/166 [==============================] - 36s 217ms/step - loss: 0.4912 - accuracy: 0.8132 - q3_acc: 0.7528\n",
      "Epoch 35/150\n",
      "166/166 [==============================] - 36s 219ms/step - loss: 0.4907 - accuracy: 0.8133 - q3_acc: 0.7530\n",
      "Epoch 36/150\n",
      "166/166 [==============================] - 36s 219ms/step - loss: 0.4906 - accuracy: 0.8134 - q3_acc: 0.7531\n",
      "Epoch 37/150\n",
      "166/166 [==============================] - 36s 218ms/step - loss: 0.4907 - accuracy: 0.8133 - q3_acc: 0.7530\n",
      "Epoch 38/150\n",
      "166/166 [==============================] - 36s 216ms/step - loss: 0.4905 - accuracy: 0.8133 - q3_acc: 0.7530\n",
      "Epoch 39/150\n",
      "166/166 [==============================] - 36s 219ms/step - loss: 0.4904 - accuracy: 0.8133 - q3_acc: 0.7530\n",
      "Epoch 40/150\n",
      "166/166 [==============================] - 36s 217ms/step - loss: 0.4904 - accuracy: 0.8134 - q3_acc: 0.7530\n",
      "Epoch 41/150\n",
      "166/166 [==============================] - 36s 216ms/step - loss: 0.4901 - accuracy: 0.8134 - q3_acc: 0.7531\n",
      "Epoch 42/150\n",
      "166/166 [==============================] - 36s 217ms/step - loss: 0.4904 - accuracy: 0.8135 - q3_acc: 0.7532\n",
      "Epoch 43/150\n",
      "166/166 [==============================] - 36s 220ms/step - loss: 0.4906 - accuracy: 0.8134 - q3_acc: 0.7531\n",
      "Epoch 44/150\n",
      "166/166 [==============================] - 36s 217ms/step - loss: 0.4902 - accuracy: 0.8134 - q3_acc: 0.7531\n",
      "Epoch 45/150\n",
      "166/166 [==============================] - 36s 215ms/step - loss: 0.4902 - accuracy: 0.8134 - q3_acc: 0.7531\n",
      "Epoch 46/150\n",
      "166/166 [==============================] - 36s 216ms/step - loss: 0.4904 - accuracy: 0.8135 - q3_acc: 0.7532\n",
      "Epoch 46: early stopping\n",
      "====================\n",
      "166/166 [==============================] - 2s 13ms/step\n",
      "Q3 Accuracy of Fold #5: 0.75\n",
      "====================\n",
      "CPU times: user 1h 40min 13s, sys: 18min, total: 1h 58min 13s\n",
      "Wall time: 2h 15min 59s\n"
     ]
    }
   ],
   "source": [
    "%%time\n",
    "\n",
    "from sklearn.model_selection import KFold\n",
    "\n",
    "# Repeat seed (if needed)\n",
    "np.random.seed(randomer)\n",
    "tf.random.set_seed(randomer)\n",
    "tf.config.experimental.enable_op_determinism()\n",
    "\n",
    "# K-Fold Cross-Validation\n",
    "\n",
    "kf = KFold(5, shuffle = True, random_state = randomer)\n",
    "fold = 1\n",
    "\n",
    "for train_i, validate_i in kf.split(X_train_new, y_train_new_hot):\n",
    "    # Define a Neural Network model\n",
    "    model = Sequential()\n",
    "    # Create Embedding layer, which turns our indexes (3-mers) into dense vectors of fixed size - 'output_dim' can be adjusted\n",
    "    model.add(Embedding(input_dim = n_kmers, output_dim = X_train.shape[0], input_length = maxlen))\n",
    "    # Create Dense layer of 1000 nodes (hidden layer), using the ReLU activation function\n",
    "    model.add(Dense(1000, activation = \"relu\"))\n",
    "    # Create Dense layer of 4 nodes, using the Softmax activation function\n",
    "    model.add((Dense(n_elems, input_dim = y_train_new_hot.shape[2], activation = \"softmax\")))\n",
    "    \n",
    "    # Use 'categorical cross-entropy' loss and the Adam optimiser with set learning rate\n",
    "    model.compile(loss = \"categorical_crossentropy\", optimizer = Adam(learning_rate = learning_rate), metrics = [\"accuracy\", q3_acc])\n",
    "    # Stop training when loss has stopped improving, using EarlyStopping\n",
    "    monitor = EarlyStopping(monitor = \"loss\", min_delta = 1e-4, patience = 5, verbose = 1, mode = \"auto\")\n",
    "    \n",
    "    print(f\"Fold #{fold}, Training Size: {len(X_train_new[train_i])}, Validation Size: {len(X_train_new[validate_i])}\")\n",
    "    print(\"====================\")\n",
    "    # Fit data to model\n",
    "    model.fit(X_train_new[train_i], y_train_new_hot[train_i], callbacks = [monitor], batch_size = batch_size, epochs = n_epochs, verbose = 1)\n",
    "    print(\"====================\")\n",
    "    # Define validation subset\n",
    "    y_tester = y_train_new_hot[validate_i]\n",
    "    # Use model to predict validation subset\n",
    "    y_preder = model.predict(X_train_new[validate_i])\n",
    "    print(f\"Q3 Accuracy of Fold #{fold}: {round(q3_num(q3_acc(y_tester, y_preder)), 4)}\")\n",
    "    print(\"====================\")\n",
    "    fold += 1"
   ]
  },
  {
   "cell_type": "markdown",
   "id": "7fa949ad",
   "metadata": {
    "papermill": {
     "duration": 4.793632,
     "end_time": "2024-01-10T05:33:58.490391",
     "exception": false,
     "start_time": "2024-01-10T05:33:53.696759",
     "status": "completed"
    },
    "tags": []
   },
   "source": [
    "### Results of Chosen Model (Model 1)\n",
    "\n",
    "We use the model with the best validation set accuracy, which is Model 1. We test this model on the test set. We also compare the results between training on the oversampled data against training on the original data. The oversampled data training can be found in the relevant notebook, in the Github repository."
   ]
  },
  {
   "cell_type": "code",
   "execution_count": 41,
   "id": "62a9b0ad",
   "metadata": {
    "execution": {
     "iopub.execute_input": "2024-01-10T05:34:07.999933Z",
     "iopub.status.busy": "2024-01-10T05:34:07.999555Z",
     "iopub.status.idle": "2024-01-10T05:34:09.170008Z",
     "shell.execute_reply": "2024-01-10T05:34:09.169033Z"
    },
    "papermill": {
     "duration": 5.920586,
     "end_time": "2024-01-10T05:34:09.172051",
     "exception": false,
     "start_time": "2024-01-10T05:34:03.251465",
     "status": "completed"
    },
    "tags": []
   },
   "outputs": [
    {
     "name": "stdout",
     "output_type": "stream",
     "text": [
      "80/80 [==============================] - 1s 13ms/step\n"
     ]
    }
   ],
   "source": [
    "# Predict test set\n",
    "y_pred2 = model_1.predict(X_test)"
   ]
  },
  {
   "cell_type": "code",
   "execution_count": 42,
   "id": "676224fe",
   "metadata": {
    "execution": {
     "iopub.execute_input": "2024-01-10T05:34:18.760195Z",
     "iopub.status.busy": "2024-01-10T05:34:18.759300Z",
     "iopub.status.idle": "2024-01-10T05:35:24.150645Z",
     "shell.execute_reply": "2024-01-10T05:35:24.149680Z"
    },
    "papermill": {
     "duration": 74.622971,
     "end_time": "2024-01-10T05:35:28.642631",
     "exception": false,
     "start_time": "2024-01-10T05:34:14.019660",
     "status": "completed"
    },
    "tags": []
   },
   "outputs": [
    {
     "name": "stdout",
     "output_type": "stream",
     "text": [
      "===== With Oversampling =====\n",
      "\n",
      "Default Accuracy: 0.6981578947368421\n",
      "Q3 Accuracy: 0.5298547744750977\n",
      "\n",
      "               precision    recall  f1-score   support\n",
      "\n",
      "     Padding   0.947087  1.000000  0.972825     91142\n",
      "           C   0.665067  0.548391  0.601120     80377\n",
      "           H   0.508738  0.616871  0.557610     53940\n",
      "           E   0.346899  0.317662  0.331638     29141\n",
      "\n",
      "    accuracy                       0.698158    254600\n",
      "   macro avg   0.616948  0.620731  0.615798    254600\n",
      "weighted avg   0.696488  0.698158  0.694121    254600\n",
      "\n"
     ]
    },
    {
     "data": {
      "image/png": "[encoded data removed]",
      "text/plain": [
       "<Figure size 640x480 with 2 Axes>"
      ]
     },
     "metadata": {},
     "output_type": "display_data"
    }
   ],
   "source": [
    "from sklearn.metrics import accuracy_score, confusion_matrix, ConfusionMatrixDisplay\n",
    "\n",
    "converted_hot = tf.argmax(y_test_hot, axis = -1).numpy()\n",
    "converted_pred = tf.argmax(y_pred2, axis = -1).numpy()\n",
    "\n",
    "print(\"===== With Oversampling =====\\n\")\n",
    "\n",
    "# Output useful metrics\n",
    "\n",
    "print(f\"Default Accuracy: {accuracy_score(converted_hot.flatten(), converted_pred.flatten())}\")\n",
    "print(f\"Q3 Accuracy: {q3_num(q3_acc(y_test_hot, y_pred2))}\")\n",
    "print(\"\\n\", classification_report(converted_hot.flatten(), converted_pred.flatten(), target_names = [\"Padding\", \"C\", \"H\", \"E\"], digits = 6))\n",
    "\n",
    "# Create and display confusion matrix\n",
    "\n",
    "cm2 = confusion_matrix(converted_hot.flatten(), converted_pred.flatten())\n",
    "disp2 = ConfusionMatrixDisplay(confusion_matrix = cm2, display_labels = [\"Padding\", \"C\", \"H\", \"E\"])\n",
    "disp2.plot()\n",
    "disp2.figure_.savefig(\"disp2.pdf\")\n",
    "plt.show()"
   ]
  },
  {
   "cell_type": "code",
   "execution_count": null,
   "id": "8889966e",
   "metadata": {
    "papermill": {
     "duration": 4.903363,
     "end_time": "2024-01-10T05:35:38.489307",
     "exception": false,
     "start_time": "2024-01-10T05:35:33.585944",
     "status": "completed"
    },
    "tags": []
   },
   "outputs": [],
   "source": []
  }
 ],
 "metadata": {
  "kaggle": {
   "accelerator": "gpu",
   "dataSources": [
    {
     "datasetId": 4213466,
     "sourceId": 7268634,
     "sourceType": "datasetVersion"
    }
   ],
   "isGpuEnabled": true,
   "isInternetEnabled": true,
   "language": "python",
   "sourceType": "notebook"
  },
  "kernelspec": {
   "display_name": "Python 3 (ipykernel)",
   "language": "python",
   "name": "python3"
  },
  "language_info": {
   "codemirror_mode": {
    "name": "ipython",
    "version": 3
   },
   "file_extension": ".py",
   "mimetype": "text/x-python",
   "name": "python",
   "nbconvert_exporter": "python",
   "pygments_lexer": "ipython3",
   "version": "3.10.13"
  },
  "papermill": {
   "default_parameters": {},
   "duration": 14411.570692,
   "end_time": "2024-01-10T05:35:47.492093",
   "environment_variables": {},
   "exception": null,
   "input_path": "__notebook__.ipynb",
   "output_path": "__notebook__.ipynb",
   "parameters": {},
   "start_time": "2024-01-10T01:35:35.921401",
   "version": "2.4.0"
  }
 },
 "nbformat": 4,
 "nbformat_minor": 5
}
